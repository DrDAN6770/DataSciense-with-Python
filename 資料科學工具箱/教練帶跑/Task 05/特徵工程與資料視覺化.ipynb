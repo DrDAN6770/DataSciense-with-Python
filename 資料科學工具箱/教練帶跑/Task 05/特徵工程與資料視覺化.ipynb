{
  "nbformat": 4,
  "nbformat_minor": 0,
  "metadata": {
    "colab": {
      "provenance": [],
      "toc_visible": true,
      "authorship_tag": "ABX9TyMyCtePSd35xqvqunphISTw",
      "include_colab_link": true
    },
    "kernelspec": {
      "name": "python3",
      "display_name": "Python 3"
    },
    "language_info": {
      "name": "python"
    }
  },
  "cells": [
    {
      "cell_type": "markdown",
      "metadata": {
        "id": "view-in-github",
        "colab_type": "text"
      },
      "source": [
        "<a href=\"https://colab.research.google.com/github/DrDAN6770/DataSciense-with-Python/blob/main/%E8%B3%87%E6%96%99%E7%A7%91%E5%AD%B8%E5%B7%A5%E5%85%B7%E7%AE%B1/%E6%95%99%E7%B7%B4%E5%B8%B6%E8%B7%91/Task%2005/%E7%89%B9%E5%BE%B5%E5%B7%A5%E7%A8%8B%E8%88%87%E8%B3%87%E6%96%99%E8%A6%96%E8%A6%BA%E5%8C%96.ipynb\" target=\"_parent\"><img src=\"https://colab.research.google.com/assets/colab-badge.svg\" alt=\"Open In Colab\"/></a>"
      ]
    },
    {
      "cell_type": "markdown",
      "source": [
        "#特徵工程與資料視覺化\n",
        "\n",
        "---\n",
        "\n",
        "這兩個部分都是資料前處理中可以進行的操作\n",
        "https://dscareer.kolable.app/programs/9bb10c37-9d10-4dc8-9350-3b21b06b1b44/contents/27273dda-a16a-4531-9db6-b7290377b6b2"
      ],
      "metadata": {
        "id": "KGuA-kJsLRMM"
      }
    },
    {
      "cell_type": "markdown",
      "source": [
        "#資料視覺化\n",
        "\n",
        "\n",
        "---\n",
        "\n",
        "資料視覺化將資料用圖表/圖像化的方式表現資料\n",
        "\n",
        "\n",
        "\n",
        "* Matplotlib\n",
        "* Seaborn\n",
        "* Bokeh\n",
        "* Plotly\n",
        "\n",
        "\n",
        "\n"
      ],
      "metadata": {
        "id": "U4gBfJinLV-H"
      }
    },
    {
      "cell_type": "markdown",
      "source": [
        "\n",
        "##安裝\n",
        "```\n",
        "pip install matplotlib # 如果在 Colab/Jupyter 環境中安裝使用 !pip install matplotlib \n",
        "pip install seaborn # 如果在 Colab/Jupyter 環境中安裝使用 !pip install seaborn \n",
        "```\n",
        "\n"
      ],
      "metadata": {
        "id": "PkiWbNbkLraD"
      }
    },
    {
      "cell_type": "markdown",
      "source": [
        "##載入資料\n",
        "\n",
        "---\n",
        "\n",
        "這裡我們使用 Seaborn 預先提供的 iris 資料集"
      ],
      "metadata": {
        "id": "GXMAxF6NL3XG"
      }
    },
    {
      "cell_type": "code",
      "source": [
        "import seaborn as sns\n",
        "\n",
        "iris = sns.load_dataset('iris')\n",
        "iris.head()"
      ],
      "metadata": {
        "colab": {
          "base_uri": "https://localhost:8080/",
          "height": 206
        },
        "id": "Vt9nS25wMGN7",
        "outputId": "9127374c-80ff-4496-d98d-f838a131c337"
      },
      "execution_count": null,
      "outputs": [
        {
          "output_type": "execute_result",
          "data": {
            "text/plain": [
              "   sepal_length  sepal_width  petal_length  petal_width species\n",
              "0           5.1          3.5           1.4          0.2  setosa\n",
              "1           4.9          3.0           1.4          0.2  setosa\n",
              "2           4.7          3.2           1.3          0.2  setosa\n",
              "3           4.6          3.1           1.5          0.2  setosa\n",
              "4           5.0          3.6           1.4          0.2  setosa"
            ],
            "text/html": [
              "\n",
              "  <div id=\"df-d1d53122-ed37-4448-a2b9-51b1be8e104e\">\n",
              "    <div class=\"colab-df-container\">\n",
              "      <div>\n",
              "<style scoped>\n",
              "    .dataframe tbody tr th:only-of-type {\n",
              "        vertical-align: middle;\n",
              "    }\n",
              "\n",
              "    .dataframe tbody tr th {\n",
              "        vertical-align: top;\n",
              "    }\n",
              "\n",
              "    .dataframe thead th {\n",
              "        text-align: right;\n",
              "    }\n",
              "</style>\n",
              "<table border=\"1\" class=\"dataframe\">\n",
              "  <thead>\n",
              "    <tr style=\"text-align: right;\">\n",
              "      <th></th>\n",
              "      <th>sepal_length</th>\n",
              "      <th>sepal_width</th>\n",
              "      <th>petal_length</th>\n",
              "      <th>petal_width</th>\n",
              "      <th>species</th>\n",
              "    </tr>\n",
              "  </thead>\n",
              "  <tbody>\n",
              "    <tr>\n",
              "      <th>0</th>\n",
              "      <td>5.1</td>\n",
              "      <td>3.5</td>\n",
              "      <td>1.4</td>\n",
              "      <td>0.2</td>\n",
              "      <td>setosa</td>\n",
              "    </tr>\n",
              "    <tr>\n",
              "      <th>1</th>\n",
              "      <td>4.9</td>\n",
              "      <td>3.0</td>\n",
              "      <td>1.4</td>\n",
              "      <td>0.2</td>\n",
              "      <td>setosa</td>\n",
              "    </tr>\n",
              "    <tr>\n",
              "      <th>2</th>\n",
              "      <td>4.7</td>\n",
              "      <td>3.2</td>\n",
              "      <td>1.3</td>\n",
              "      <td>0.2</td>\n",
              "      <td>setosa</td>\n",
              "    </tr>\n",
              "    <tr>\n",
              "      <th>3</th>\n",
              "      <td>4.6</td>\n",
              "      <td>3.1</td>\n",
              "      <td>1.5</td>\n",
              "      <td>0.2</td>\n",
              "      <td>setosa</td>\n",
              "    </tr>\n",
              "    <tr>\n",
              "      <th>4</th>\n",
              "      <td>5.0</td>\n",
              "      <td>3.6</td>\n",
              "      <td>1.4</td>\n",
              "      <td>0.2</td>\n",
              "      <td>setosa</td>\n",
              "    </tr>\n",
              "  </tbody>\n",
              "</table>\n",
              "</div>\n",
              "      <button class=\"colab-df-convert\" onclick=\"convertToInteractive('df-d1d53122-ed37-4448-a2b9-51b1be8e104e')\"\n",
              "              title=\"Convert this dataframe to an interactive table.\"\n",
              "              style=\"display:none;\">\n",
              "        \n",
              "  <svg xmlns=\"http://www.w3.org/2000/svg\" height=\"24px\"viewBox=\"0 0 24 24\"\n",
              "       width=\"24px\">\n",
              "    <path d=\"M0 0h24v24H0V0z\" fill=\"none\"/>\n",
              "    <path d=\"M18.56 5.44l.94 2.06.94-2.06 2.06-.94-2.06-.94-.94-2.06-.94 2.06-2.06.94zm-11 1L8.5 8.5l.94-2.06 2.06-.94-2.06-.94L8.5 2.5l-.94 2.06-2.06.94zm10 10l.94 2.06.94-2.06 2.06-.94-2.06-.94-.94-2.06-.94 2.06-2.06.94z\"/><path d=\"M17.41 7.96l-1.37-1.37c-.4-.4-.92-.59-1.43-.59-.52 0-1.04.2-1.43.59L10.3 9.45l-7.72 7.72c-.78.78-.78 2.05 0 2.83L4 21.41c.39.39.9.59 1.41.59.51 0 1.02-.2 1.41-.59l7.78-7.78 2.81-2.81c.8-.78.8-2.07 0-2.86zM5.41 20L4 18.59l7.72-7.72 1.47 1.35L5.41 20z\"/>\n",
              "  </svg>\n",
              "      </button>\n",
              "      \n",
              "  <style>\n",
              "    .colab-df-container {\n",
              "      display:flex;\n",
              "      flex-wrap:wrap;\n",
              "      gap: 12px;\n",
              "    }\n",
              "\n",
              "    .colab-df-convert {\n",
              "      background-color: #E8F0FE;\n",
              "      border: none;\n",
              "      border-radius: 50%;\n",
              "      cursor: pointer;\n",
              "      display: none;\n",
              "      fill: #1967D2;\n",
              "      height: 32px;\n",
              "      padding: 0 0 0 0;\n",
              "      width: 32px;\n",
              "    }\n",
              "\n",
              "    .colab-df-convert:hover {\n",
              "      background-color: #E2EBFA;\n",
              "      box-shadow: 0px 1px 2px rgba(60, 64, 67, 0.3), 0px 1px 3px 1px rgba(60, 64, 67, 0.15);\n",
              "      fill: #174EA6;\n",
              "    }\n",
              "\n",
              "    [theme=dark] .colab-df-convert {\n",
              "      background-color: #3B4455;\n",
              "      fill: #D2E3FC;\n",
              "    }\n",
              "\n",
              "    [theme=dark] .colab-df-convert:hover {\n",
              "      background-color: #434B5C;\n",
              "      box-shadow: 0px 1px 3px 1px rgba(0, 0, 0, 0.15);\n",
              "      filter: drop-shadow(0px 1px 2px rgba(0, 0, 0, 0.3));\n",
              "      fill: #FFFFFF;\n",
              "    }\n",
              "  </style>\n",
              "\n",
              "      <script>\n",
              "        const buttonEl =\n",
              "          document.querySelector('#df-d1d53122-ed37-4448-a2b9-51b1be8e104e button.colab-df-convert');\n",
              "        buttonEl.style.display =\n",
              "          google.colab.kernel.accessAllowed ? 'block' : 'none';\n",
              "\n",
              "        async function convertToInteractive(key) {\n",
              "          const element = document.querySelector('#df-d1d53122-ed37-4448-a2b9-51b1be8e104e');\n",
              "          const dataTable =\n",
              "            await google.colab.kernel.invokeFunction('convertToInteractive',\n",
              "                                                     [key], {});\n",
              "          if (!dataTable) return;\n",
              "\n",
              "          const docLinkHtml = 'Like what you see? Visit the ' +\n",
              "            '<a target=\"_blank\" href=https://colab.research.google.com/notebooks/data_table.ipynb>data table notebook</a>'\n",
              "            + ' to learn more about interactive tables.';\n",
              "          element.innerHTML = '';\n",
              "          dataTable['output_type'] = 'display_data';\n",
              "          await google.colab.output.renderOutput(dataTable, element);\n",
              "          const docLink = document.createElement('div');\n",
              "          docLink.innerHTML = docLinkHtml;\n",
              "          element.appendChild(docLink);\n",
              "        }\n",
              "      </script>\n",
              "    </div>\n",
              "  </div>\n",
              "  "
            ]
          },
          "metadata": {},
          "execution_count": 1
        }
      ]
    },
    {
      "cell_type": "markdown",
      "source": [
        "##使用 Matplotlib 繪製基本圖形"
      ],
      "metadata": {
        "id": "egb8zIInMPqT"
      }
    },
    {
      "cell_type": "markdown",
      "source": [
        "###繪製散佈圖"
      ],
      "metadata": {
        "id": "ijsp-ZtJMV8y"
      }
    },
    {
      "cell_type": "code",
      "source": [
        "import matplotlib.pyplot as plt\n",
        "\n",
        "plt.scatter(iris['sepal_length'], iris['sepal_width'])\n",
        "plt.xlabel('Sepal Length')\n",
        "plt.ylabel('Sepal Width')\n",
        "plt.show()"
      ],
      "metadata": {
        "colab": {
          "base_uri": "https://localhost:8080/",
          "height": 452
        },
        "id": "gszcJ0PzMYXD",
        "outputId": "0a1da148-9125-4204-b911-0700e04e42a1"
      },
      "execution_count": null,
      "outputs": [
        {
          "output_type": "display_data",
          "data": {
            "text/plain": [
              "<Figure size 640x480 with 1 Axes>"
            ],
            "image/png": "[encoded data removed]"
          },
          "metadata": {}
        }
      ]
    },
    {
      "cell_type": "markdown",
      "source": [
        "###繪製線圖"
      ],
      "metadata": {
        "id": "h0FMxH3aMmUF"
      }
    },
    {
      "cell_type": "code",
      "source": [
        "plt.plot(iris['sepal_length'], label='Sepal Length')\n",
        "plt.plot(iris['sepal_width'], label='Sepal Width')\n",
        "plt.xlabel('Index')\n",
        "plt.ylabel('Value')\n",
        "plt.legend()\n",
        "plt.show()"
      ],
      "metadata": {
        "colab": {
          "base_uri": "https://localhost:8080/",
          "height": 449
        },
        "id": "VAHV561cMn9A",
        "outputId": "ca1a2a57-e5a8-4c49-fff7-49b23981b25e"
      },
      "execution_count": null,
      "outputs": [
        {
          "output_type": "display_data",
          "data": {
            "text/plain": [
              "<Figure size 640x480 with 1 Axes>"
            ],
            "image/png": "[encoded data removed]"
          },
          "metadata": {}
        }
      ]
    },
    {
      "cell_type": "markdown",
      "source": [
        "###繪製直方圖"
      ],
      "metadata": {
        "id": "SBJystSxMvG9"
      }
    },
    {
      "cell_type": "code",
      "source": [
        "plt.hist(iris['sepal_length'])\n",
        "plt.xlabel('Sepal Length')\n",
        "plt.ylabel('Frequency')\n",
        "plt.show()"
      ],
      "metadata": {
        "colab": {
          "base_uri": "https://localhost:8080/",
          "height": 449
        },
        "id": "2e8LX0QjMxBF",
        "outputId": "47885437-36a2-4545-880e-d8bdb64d547a"
      },
      "execution_count": null,
      "outputs": [
        {
          "output_type": "display_data",
          "data": {
            "text/plain": [
              "<Figure size 640x480 with 1 Axes>"
            ],
            "image/png": "[encoded data removed]"
          },
          "metadata": {}
        }
      ]
    },
    {
      "cell_type": "markdown",
      "source": [
        "##使用 Seaborn 繪製高級圖形\n",
        "\n",
        "---\n",
        "Seaborn 是一個基於 Matplotlib 的 Python 資料視覺化庫。Seaborn 提供了許多高級的圖形和統計分析工具，可以幫助我們更方便地進行資料視覺化和分析。"
      ],
      "metadata": {
        "id": "VGGG_EBWM1uB"
      }
    },
    {
      "cell_type": "code",
      "source": [
        "sns.scatterplot(x='sepal_length', y='sepal_width', data=iris)\n",
        "plt.show()"
      ],
      "metadata": {
        "colab": {
          "base_uri": "https://localhost:8080/",
          "height": 452
        },
        "id": "3OhR6bq5M2lV",
        "outputId": "6758275e-ec6c-4c75-d692-061210945a4f"
      },
      "execution_count": null,
      "outputs": [
        {
          "output_type": "display_data",
          "data": {
            "text/plain": [
              "<Figure size 640x480 with 1 Axes>"
            ],
            "image/png": "[encoded data removed]"
          },
          "metadata": {}
        }
      ]
    },
    {
      "cell_type": "code",
      "source": [
        "# 使用 data 參數來指定資料集\n",
        "sns.lineplot(data=iris[['sepal_length', 'sepal_width']])\n",
        "plt.show()"
      ],
      "metadata": {
        "colab": {
          "base_uri": "https://localhost:8080/",
          "height": 430
        },
        "id": "z38f9_ScM_dg",
        "outputId": "f1907c88-ec8c-46d8-d16b-e935fddc13e4"
      },
      "execution_count": null,
      "outputs": [
        {
          "output_type": "display_data",
          "data": {
            "text/plain": [
              "<Figure size 640x480 with 1 Axes>"
            ],
            "image/png": "[encoded data removed]"
          },
          "metadata": {}
        }
      ]
    },
    {
      "cell_type": "code",
      "source": [
        "sns.histplot(data=iris, x='sepal_length')\n",
        "plt.show()"
      ],
      "metadata": {
        "colab": {
          "base_uri": "https://localhost:8080/",
          "height": 450
        },
        "id": "qk57yZhvNC75",
        "outputId": "346a1bd6-835c-433b-f157-eafd0226f33c"
      },
      "execution_count": null,
      "outputs": [
        {
          "output_type": "display_data",
          "data": {
            "text/plain": [
              "<Figure size 640x480 with 1 Axes>"
            ],
            "image/png": "[encoded data removed]"
          },
          "metadata": {}
        }
      ]
    },
    {
      "cell_type": "markdown",
      "source": [
        "##資料視覺化的延伸閱讀\n",
        "\n",
        "\n",
        "---\n",
        "\n",
        "* Matplotlib 是 Python 中圖表的核心套件\n",
        "* Seaborn 是基於 Matplotlib 更漂亮的套件\n",
        "* Bokeh 和 Plotly 則提供動態的圖表，讓圖表可以以網頁的方式做動態的呈現"
      ],
      "metadata": {
        "id": "gt2K_8jgNgjM"
      }
    },
    {
      "cell_type": "markdown",
      "source": [
        "* [深入淺出 Python 視覺化工具 matplotlib、Seaborn 的基礎與架構全指南與教學](https://medium.com/%E6%95%B8%E6%93%9A%E4%B8%8D%E6%AD%A2-not-only-data/%E6%B7%B1%E5%85%A5%E6%B7%BA%E5%87%BA-python-%E8%A6%96%E8%A6%BA%E5%8C%96%E5%A5%97%E4%BB%B6-matplotlib-seaborn-%E6%A0%B8%E5%BF%83%E6%8C%87%E5%8D%97%E8%88%87%E7%B9%AA%E8%A3%BD-44a47458912)\n",
        "* [Matplotlib - Examples](https://matplotlib.org/stable/gallery/index.html)\n",
        "* [Matplotlib - Tutorials](https://matplotlib.org/stable/tutorials/index.html)\n",
        "* [Seaborn - Example gallery](https://seaborn.pydata.org/examples/index.html)\n",
        "* [Seaborn - User guide and tutorial](https://seaborn.pydata.org/tutorial.html)"
      ],
      "metadata": {
        "id": "Io7JuveSN4CK"
      }
    },
    {
      "cell_type": "markdown",
      "source": [
        "#特徵工程\n",
        "\n",
        "---\n",
        "把原始數據轉變成特徵的過程\n",
        "\n",
        "這些特徵可以很好的描述這些數據，並且利用它們建立的模型在未知數據上的表現性能可以達到最優（或者接近最佳性能）\n",
        "![image.png](data:image/png;base64,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)\n"
      ],
      "metadata": {
        "id": "pkuURmniOeTk"
      }
    },
    {
      "cell_type": "markdown",
      "source": [
        "* [机器学习之特征工程](https://blog.csdn.net/Dream_angel_Z/article/details/49388733)\n",
        "* [Feature Engineering](https://www.kaggle.com/learn/feature-engineering)\n",
        "* [一文读懂特征工程](https://juejin.cn/post/6874516288149028872)\n",
        "* [Python机器学习笔记：使用sklearn做特征工程和数据挖掘](https://www.cnblogs.com/wj-1314/p/9600298.html)"
      ],
      "metadata": {
        "id": "lYMDC0KkO9E3"
      }
    },
    {
      "cell_type": "markdown",
      "source": [
        "###特徵工程的常見手法\n",
        "\n",
        "---\n",
        "對原始數據進行轉換和處理，以提取出對機器學習模型有意義的特徵\n",
        "\n",
        "* 異常值檢測\n",
        "* 特徵轉換\n",
        "* 特徵縮放\n",
        "* 特徵表示\n",
        "* 特徵選擇\n",
        "* 特徵提取\n",
        "\n"
      ],
      "metadata": {
        "id": "ZbI5U8RHPSX1"
      }
    },
    {
      "cell_type": "markdown",
      "source": [
        "####異常值檢測\n",
        "\n",
        "---\n",
        "\n",
        "異常值（outliers) : 數值明顯偏離常態分佈的數據點"
      ],
      "metadata": {
        "id": "Whi_V5ptQxy0"
      }
    },
    {
      "cell_type": "code",
      "source": [
        "import numpy as np"
      ],
      "metadata": {
        "id": "jy9obostRARS"
      },
      "execution_count": null,
      "outputs": []
    },
    {
      "cell_type": "code",
      "source": [
        "# 創建一個隨機數組\n",
        "data = np.random.randn(100)"
      ],
      "metadata": {
        "id": "3g7nJLqbRDbj"
      },
      "execution_count": null,
      "outputs": []
    },
    {
      "cell_type": "code",
      "source": [
        "# 計算每個數據點的Z分數(standard score,z-socre,標準化)\n",
        "# 可表示某數值離平均幾個標準差\n",
        "z_scores = (data - np.mean(data)) / np.std(data)"
      ],
      "metadata": {
        "id": "cRO3t9oPROC5"
      },
      "execution_count": null,
      "outputs": []
    },
    {
      "cell_type": "code",
      "source": [
        "# 設置閾值\n",
        "threshold = 3\n",
        "\n",
        "# 找到所有 Z 分數大於閾值的數據點\n",
        "outliers = np.where(np.abs(z_scores) > threshold)[0]\n",
        "print(outliers)"
      ],
      "metadata": {
        "colab": {
          "base_uri": "https://localhost:8080/"
        },
        "id": "nPnejv7DSZq6",
        "outputId": "38d77013-97d7-4ce2-a7c5-272426621c92"
      },
      "execution_count": null,
      "outputs": [
        {
          "output_type": "stream",
          "name": "stdout",
          "text": [
            "[76]\n"
          ]
        }
      ]
    },
    {
      "cell_type": "code",
      "source": [
        "#檢查\n",
        "print(np.mean(data),np.std(data))\n",
        "print(data[outliers[0]-1:outliers[0]+2])"
      ],
      "metadata": {
        "colab": {
          "base_uri": "https://localhost:8080/"
        },
        "id": "VdSjPURiSqQy",
        "outputId": "4dae8ef6-fcbb-4491-f0be-ed40439fbef0"
      },
      "execution_count": null,
      "outputs": [
        {
          "output_type": "stream",
          "name": "stdout",
          "text": [
            "-0.26957830435056335 0.9776932936750494\n",
            "[-0.4325054  -3.48141621 -1.26118893]\n"
          ]
        }
      ]
    },
    {
      "cell_type": "markdown",
      "source": [
        "####特徵轉換\n",
        "\n",
        "---\n",
        "\n",
        "將原始數據轉換為機器學習模型可以更好理解的格式\n",
        "\n",
        "\n",
        "* 裝箱法(離散法)\n",
        "\n"
      ],
      "metadata": {
        "id": "QYN0K7dfUa32"
      }
    },
    {
      "cell_type": "markdown",
      "source": [
        "#####裝箱法\n",
        "\n",
        "---\n",
        "通常用於數值特徵，它將一組連續值劃分為幾個離散區間（也稱為箱子）\n",
        "\n",
        "\n",
        "1. 可降低計算成本和增加對離群值的魯棒性\n",
        "2. 幫助解決過擬合問題，因為它可以減少特徵的數量，從而減少模型的複雜度\n",
        "\n",
        "---\n",
        "以下是一些常用的方法：\n",
        "\n",
        "* 等寬劃分：將特徵值劃分為等寬區間。例如，如果我們有一個特徵，其值範圍從0到100，我們可以將其劃分為10個等寬區間，每個區間的寬度為10。\n",
        "* 等頻劃分：將特徵值劃分為等頻區間。例如，如果我們有一個特徵，其值範圍從0到100，我們可以將其劃分為10個等頻區間，每個區間中包含相同數量的特徵值。(分位數的概念)\n",
        "* 自定義劃分：根據特定需求和背景知識，自行定義劃分區間。\n",
        "\n",
        "\n"
      ],
      "metadata": {
        "id": "fd_Y04gO8vf2"
      }
    },
    {
      "cell_type": "markdown",
      "source": [
        "#####Pandas 的 cut 函數"
      ],
      "metadata": {
        "id": "6pAAsczpDPKW"
      }
    },
    {
      "cell_type": "code",
      "source": [
        "import pandas as pd\n",
        "\n",
        "# 創建一個包含5個數字的 DataFrame\n",
        "df = pd.DataFrame({'numbers': [1, 7, 15, 23, 33]})"
      ],
      "metadata": {
        "id": "vtL3izSVBBHR"
      },
      "execution_count": 1,
      "outputs": []
    },
    {
      "cell_type": "code",
      "source": [
        "df"
      ],
      "metadata": {
        "colab": {
          "base_uri": "https://localhost:8080/",
          "height": 206
        },
        "id": "uK-n6DsIBIfV",
        "outputId": "0d2ab6fa-d86b-4d24-d57d-35b4d1bc4377"
      },
      "execution_count": 2,
      "outputs": [
        {
          "output_type": "execute_result",
          "data": {
            "text/plain": [
              "   numbers\n",
              "0        1\n",
              "1        7\n",
              "2       15\n",
              "3       23\n",
              "4       33"
            ],
            "text/html": [
              "\n",
              "  <div id=\"df-0a96a6ad-b552-4f0a-bb30-9ee27325d19a\">\n",
              "    <div class=\"colab-df-container\">\n",
              "      <div>\n",
              "<style scoped>\n",
              "    .dataframe tbody tr th:only-of-type {\n",
              "        vertical-align: middle;\n",
              "    }\n",
              "\n",
              "    .dataframe tbody tr th {\n",
              "        vertical-align: top;\n",
              "    }\n",
              "\n",
              "    .dataframe thead th {\n",
              "        text-align: right;\n",
              "    }\n",
              "</style>\n",
              "<table border=\"1\" class=\"dataframe\">\n",
              "  <thead>\n",
              "    <tr style=\"text-align: right;\">\n",
              "      <th></th>\n",
              "      <th>numbers</th>\n",
              "    </tr>\n",
              "  </thead>\n",
              "  <tbody>\n",
              "    <tr>\n",
              "      <th>0</th>\n",
              "      <td>1</td>\n",
              "    </tr>\n",
              "    <tr>\n",
              "      <th>1</th>\n",
              "      <td>7</td>\n",
              "    </tr>\n",
              "    <tr>\n",
              "      <th>2</th>\n",
              "      <td>15</td>\n",
              "    </tr>\n",
              "    <tr>\n",
              "      <th>3</th>\n",
              "      <td>23</td>\n",
              "    </tr>\n",
              "    <tr>\n",
              "      <th>4</th>\n",
              "      <td>33</td>\n",
              "    </tr>\n",
              "  </tbody>\n",
              "</table>\n",
              "</div>\n",
              "      <button class=\"colab-df-convert\" onclick=\"convertToInteractive('df-0a96a6ad-b552-4f0a-bb30-9ee27325d19a')\"\n",
              "              title=\"Convert this dataframe to an interactive table.\"\n",
              "              style=\"display:none;\">\n",
              "        \n",
              "  <svg xmlns=\"http://www.w3.org/2000/svg\" height=\"24px\"viewBox=\"0 0 24 24\"\n",
              "       width=\"24px\">\n",
              "    <path d=\"M0 0h24v24H0V0z\" fill=\"none\"/>\n",
              "    <path d=\"M18.56 5.44l.94 2.06.94-2.06 2.06-.94-2.06-.94-.94-2.06-.94 2.06-2.06.94zm-11 1L8.5 8.5l.94-2.06 2.06-.94-2.06-.94L8.5 2.5l-.94 2.06-2.06.94zm10 10l.94 2.06.94-2.06 2.06-.94-2.06-.94-.94-2.06-.94 2.06-2.06.94z\"/><path d=\"M17.41 7.96l-1.37-1.37c-.4-.4-.92-.59-1.43-.59-.52 0-1.04.2-1.43.59L10.3 9.45l-7.72 7.72c-.78.78-.78 2.05 0 2.83L4 21.41c.39.39.9.59 1.41.59.51 0 1.02-.2 1.41-.59l7.78-7.78 2.81-2.81c.8-.78.8-2.07 0-2.86zM5.41 20L4 18.59l7.72-7.72 1.47 1.35L5.41 20z\"/>\n",
              "  </svg>\n",
              "      </button>\n",
              "      \n",
              "  <style>\n",
              "    .colab-df-container {\n",
              "      display:flex;\n",
              "      flex-wrap:wrap;\n",
              "      gap: 12px;\n",
              "    }\n",
              "\n",
              "    .colab-df-convert {\n",
              "      background-color: #E8F0FE;\n",
              "      border: none;\n",
              "      border-radius: 50%;\n",
              "      cursor: pointer;\n",
              "      display: none;\n",
              "      fill: #1967D2;\n",
              "      height: 32px;\n",
              "      padding: 0 0 0 0;\n",
              "      width: 32px;\n",
              "    }\n",
              "\n",
              "    .colab-df-convert:hover {\n",
              "      background-color: #E2EBFA;\n",
              "      box-shadow: 0px 1px 2px rgba(60, 64, 67, 0.3), 0px 1px 3px 1px rgba(60, 64, 67, 0.15);\n",
              "      fill: #174EA6;\n",
              "    }\n",
              "\n",
              "    [theme=dark] .colab-df-convert {\n",
              "      background-color: #3B4455;\n",
              "      fill: #D2E3FC;\n",
              "    }\n",
              "\n",
              "    [theme=dark] .colab-df-convert:hover {\n",
              "      background-color: #434B5C;\n",
              "      box-shadow: 0px 1px 3px 1px rgba(0, 0, 0, 0.15);\n",
              "      filter: drop-shadow(0px 1px 2px rgba(0, 0, 0, 0.3));\n",
              "      fill: #FFFFFF;\n",
              "    }\n",
              "  </style>\n",
              "\n",
              "      <script>\n",
              "        const buttonEl =\n",
              "          document.querySelector('#df-0a96a6ad-b552-4f0a-bb30-9ee27325d19a button.colab-df-convert');\n",
              "        buttonEl.style.display =\n",
              "          google.colab.kernel.accessAllowed ? 'block' : 'none';\n",
              "\n",
              "        async function convertToInteractive(key) {\n",
              "          const element = document.querySelector('#df-0a96a6ad-b552-4f0a-bb30-9ee27325d19a');\n",
              "          const dataTable =\n",
              "            await google.colab.kernel.invokeFunction('convertToInteractive',\n",
              "                                                     [key], {});\n",
              "          if (!dataTable) return;\n",
              "\n",
              "          const docLinkHtml = 'Like what you see? Visit the ' +\n",
              "            '<a target=\"_blank\" href=https://colab.research.google.com/notebooks/data_table.ipynb>data table notebook</a>'\n",
              "            + ' to learn more about interactive tables.';\n",
              "          element.innerHTML = '';\n",
              "          dataTable['output_type'] = 'display_data';\n",
              "          await google.colab.output.renderOutput(dataTable, element);\n",
              "          const docLink = document.createElement('div');\n",
              "          docLink.innerHTML = docLinkHtml;\n",
              "          element.appendChild(docLink);\n",
              "        }\n",
              "      </script>\n",
              "    </div>\n",
              "  </div>\n",
              "  "
            ]
          },
          "metadata": {},
          "execution_count": 2
        }
      ]
    },
    {
      "cell_type": "code",
      "source": [
        "# 使用 cut 函數劃分為2個等寬區間\n",
        "df['bins'] = pd.cut(df['numbers'], bins=2)\n",
        "\n",
        "# 查看結果\n",
        "df\n",
        "\n",
        "# 第1區(0.968~17)[左開右閉]，不包含左但包含右,左右兩邊等寬\n",
        "# 第2區(17~33)[左開右閉]，不包含左但包含右"
      ],
      "metadata": {
        "colab": {
          "base_uri": "https://localhost:8080/",
          "height": 206
        },
        "id": "TQRV7rpFBKg2",
        "outputId": "d79d5265-1825-4ea5-b429-2ba376d33b72"
      },
      "execution_count": 4,
      "outputs": [
        {
          "output_type": "execute_result",
          "data": {
            "text/plain": [
              "   numbers           bins\n",
              "0        1  (0.968, 17.0]\n",
              "1        7  (0.968, 17.0]\n",
              "2       15  (0.968, 17.0]\n",
              "3       23   (17.0, 33.0]\n",
              "4       33   (17.0, 33.0]"
            ],
            "text/html": [
              "\n",
              "  <div id=\"df-233bfc3f-013c-46a1-929f-c25f9568add1\">\n",
              "    <div class=\"colab-df-container\">\n",
              "      <div>\n",
              "<style scoped>\n",
              "    .dataframe tbody tr th:only-of-type {\n",
              "        vertical-align: middle;\n",
              "    }\n",
              "\n",
              "    .dataframe tbody tr th {\n",
              "        vertical-align: top;\n",
              "    }\n",
              "\n",
              "    .dataframe thead th {\n",
              "        text-align: right;\n",
              "    }\n",
              "</style>\n",
              "<table border=\"1\" class=\"dataframe\">\n",
              "  <thead>\n",
              "    <tr style=\"text-align: right;\">\n",
              "      <th></th>\n",
              "      <th>numbers</th>\n",
              "      <th>bins</th>\n",
              "    </tr>\n",
              "  </thead>\n",
              "  <tbody>\n",
              "    <tr>\n",
              "      <th>0</th>\n",
              "      <td>1</td>\n",
              "      <td>(0.968, 17.0]</td>\n",
              "    </tr>\n",
              "    <tr>\n",
              "      <th>1</th>\n",
              "      <td>7</td>\n",
              "      <td>(0.968, 17.0]</td>\n",
              "    </tr>\n",
              "    <tr>\n",
              "      <th>2</th>\n",
              "      <td>15</td>\n",
              "      <td>(0.968, 17.0]</td>\n",
              "    </tr>\n",
              "    <tr>\n",
              "      <th>3</th>\n",
              "      <td>23</td>\n",
              "      <td>(17.0, 33.0]</td>\n",
              "    </tr>\n",
              "    <tr>\n",
              "      <th>4</th>\n",
              "      <td>33</td>\n",
              "      <td>(17.0, 33.0]</td>\n",
              "    </tr>\n",
              "  </tbody>\n",
              "</table>\n",
              "</div>\n",
              "      <button class=\"colab-df-convert\" onclick=\"convertToInteractive('df-233bfc3f-013c-46a1-929f-c25f9568add1')\"\n",
              "              title=\"Convert this dataframe to an interactive table.\"\n",
              "              style=\"display:none;\">\n",
              "        \n",
              "  <svg xmlns=\"http://www.w3.org/2000/svg\" height=\"24px\"viewBox=\"0 0 24 24\"\n",
              "       width=\"24px\">\n",
              "    <path d=\"M0 0h24v24H0V0z\" fill=\"none\"/>\n",
              "    <path d=\"M18.56 5.44l.94 2.06.94-2.06 2.06-.94-2.06-.94-.94-2.06-.94 2.06-2.06.94zm-11 1L8.5 8.5l.94-2.06 2.06-.94-2.06-.94L8.5 2.5l-.94 2.06-2.06.94zm10 10l.94 2.06.94-2.06 2.06-.94-2.06-.94-.94-2.06-.94 2.06-2.06.94z\"/><path d=\"M17.41 7.96l-1.37-1.37c-.4-.4-.92-.59-1.43-.59-.52 0-1.04.2-1.43.59L10.3 9.45l-7.72 7.72c-.78.78-.78 2.05 0 2.83L4 21.41c.39.39.9.59 1.41.59.51 0 1.02-.2 1.41-.59l7.78-7.78 2.81-2.81c.8-.78.8-2.07 0-2.86zM5.41 20L4 18.59l7.72-7.72 1.47 1.35L5.41 20z\"/>\n",
              "  </svg>\n",
              "      </button>\n",
              "      \n",
              "  <style>\n",
              "    .colab-df-container {\n",
              "      display:flex;\n",
              "      flex-wrap:wrap;\n",
              "      gap: 12px;\n",
              "    }\n",
              "\n",
              "    .colab-df-convert {\n",
              "      background-color: #E8F0FE;\n",
              "      border: none;\n",
              "      border-radius: 50%;\n",
              "      cursor: pointer;\n",
              "      display: none;\n",
              "      fill: #1967D2;\n",
              "      height: 32px;\n",
              "      padding: 0 0 0 0;\n",
              "      width: 32px;\n",
              "    }\n",
              "\n",
              "    .colab-df-convert:hover {\n",
              "      background-color: #E2EBFA;\n",
              "      box-shadow: 0px 1px 2px rgba(60, 64, 67, 0.3), 0px 1px 3px 1px rgba(60, 64, 67, 0.15);\n",
              "      fill: #174EA6;\n",
              "    }\n",
              "\n",
              "    [theme=dark] .colab-df-convert {\n",
              "      background-color: #3B4455;\n",
              "      fill: #D2E3FC;\n",
              "    }\n",
              "\n",
              "    [theme=dark] .colab-df-convert:hover {\n",
              "      background-color: #434B5C;\n",
              "      box-shadow: 0px 1px 3px 1px rgba(0, 0, 0, 0.15);\n",
              "      filter: drop-shadow(0px 1px 2px rgba(0, 0, 0, 0.3));\n",
              "      fill: #FFFFFF;\n",
              "    }\n",
              "  </style>\n",
              "\n",
              "      <script>\n",
              "        const buttonEl =\n",
              "          document.querySelector('#df-233bfc3f-013c-46a1-929f-c25f9568add1 button.colab-df-convert');\n",
              "        buttonEl.style.display =\n",
              "          google.colab.kernel.accessAllowed ? 'block' : 'none';\n",
              "\n",
              "        async function convertToInteractive(key) {\n",
              "          const element = document.querySelector('#df-233bfc3f-013c-46a1-929f-c25f9568add1');\n",
              "          const dataTable =\n",
              "            await google.colab.kernel.invokeFunction('convertToInteractive',\n",
              "                                                     [key], {});\n",
              "          if (!dataTable) return;\n",
              "\n",
              "          const docLinkHtml = 'Like what you see? Visit the ' +\n",
              "            '<a target=\"_blank\" href=https://colab.research.google.com/notebooks/data_table.ipynb>data table notebook</a>'\n",
              "            + ' to learn more about interactive tables.';\n",
              "          element.innerHTML = '';\n",
              "          dataTable['output_type'] = 'display_data';\n",
              "          await google.colab.output.renderOutput(dataTable, element);\n",
              "          const docLink = document.createElement('div');\n",
              "          docLink.innerHTML = docLinkHtml;\n",
              "          element.appendChild(docLink);\n",
              "        }\n",
              "      </script>\n",
              "    </div>\n",
              "  </div>\n",
              "  "
            ]
          },
          "metadata": {},
          "execution_count": 4
        }
      ]
    },
    {
      "cell_type": "markdown",
      "source": [
        "#####pandas 中的 qcut() 函數進行裝箱\n",
        "\n",
        "---\n",
        "\n",
        "qcut() 函數可以將資料分成幾個相等大小的箱子，每個箱子中包含的觀測值數量相同\n",
        "\n",
        "    參數 q 設置為 4，意味著將 'Age' 特徵分成四個箱子。labels=False 表示生成的箱子標籤為數值"
      ],
      "metadata": {
        "id": "QTqluf_EDTuo"
      }
    },
    {
      "cell_type": "code",
      "source": [
        "import numpy as np"
      ],
      "metadata": {
        "id": "X3t404eRDige"
      },
      "execution_count": 6,
      "outputs": []
    },
    {
      "cell_type": "code",
      "source": [
        "# 創建一個包含 Missing Value 的 DataFrame\n",
        "df = pd.DataFrame({'Age': [22, 38, 26, 35, 35, np.nan, 54, 2, 27, 14]})\n",
        "\n",
        "# 使用 qcut 函數將數值型特徵轉換成等頻分箱\n",
        "df['Age_binned'] = pd.qcut(df['Age'], q=4, labels=False)\n",
        "\n",
        "df[['Age', 'Age_binned']]\n",
        "# df['Age_binned'].value_counts()"
      ],
      "metadata": {
        "colab": {
          "base_uri": "https://localhost:8080/",
          "height": 363
        },
        "id": "GjUFn44FDeFX",
        "outputId": "b98a4174-c78e-46fb-8e4b-d3d80e5d2b28"
      },
      "execution_count": 17,
      "outputs": [
        {
          "output_type": "execute_result",
          "data": {
            "text/plain": [
              "    Age  Age_binned\n",
              "0  22.0         0.0\n",
              "1  38.0         3.0\n",
              "2  26.0         1.0\n",
              "3  35.0         2.0\n",
              "4  35.0         2.0\n",
              "5   NaN         NaN\n",
              "6  54.0         3.0\n",
              "7   2.0         0.0\n",
              "8  27.0         1.0\n",
              "9  14.0         0.0"
            ],
            "text/html": [
              "\n",
              "  <div id=\"df-e06d92e8-6d20-4836-a649-2b5a06cbbbf0\">\n",
              "    <div class=\"colab-df-container\">\n",
              "      <div>\n",
              "<style scoped>\n",
              "    .dataframe tbody tr th:only-of-type {\n",
              "        vertical-align: middle;\n",
              "    }\n",
              "\n",
              "    .dataframe tbody tr th {\n",
              "        vertical-align: top;\n",
              "    }\n",
              "\n",
              "    .dataframe thead th {\n",
              "        text-align: right;\n",
              "    }\n",
              "</style>\n",
              "<table border=\"1\" class=\"dataframe\">\n",
              "  <thead>\n",
              "    <tr style=\"text-align: right;\">\n",
              "      <th></th>\n",
              "      <th>Age</th>\n",
              "      <th>Age_binned</th>\n",
              "    </tr>\n",
              "  </thead>\n",
              "  <tbody>\n",
              "    <tr>\n",
              "      <th>0</th>\n",
              "      <td>22.0</td>\n",
              "      <td>0.0</td>\n",
              "    </tr>\n",
              "    <tr>\n",
              "      <th>1</th>\n",
              "      <td>38.0</td>\n",
              "      <td>3.0</td>\n",
              "    </tr>\n",
              "    <tr>\n",
              "      <th>2</th>\n",
              "      <td>26.0</td>\n",
              "      <td>1.0</td>\n",
              "    </tr>\n",
              "    <tr>\n",
              "      <th>3</th>\n",
              "      <td>35.0</td>\n",
              "      <td>2.0</td>\n",
              "    </tr>\n",
              "    <tr>\n",
              "      <th>4</th>\n",
              "      <td>35.0</td>\n",
              "      <td>2.0</td>\n",
              "    </tr>\n",
              "    <tr>\n",
              "      <th>5</th>\n",
              "      <td>NaN</td>\n",
              "      <td>NaN</td>\n",
              "    </tr>\n",
              "    <tr>\n",
              "      <th>6</th>\n",
              "      <td>54.0</td>\n",
              "      <td>3.0</td>\n",
              "    </tr>\n",
              "    <tr>\n",
              "      <th>7</th>\n",
              "      <td>2.0</td>\n",
              "      <td>0.0</td>\n",
              "    </tr>\n",
              "    <tr>\n",
              "      <th>8</th>\n",
              "      <td>27.0</td>\n",
              "      <td>1.0</td>\n",
              "    </tr>\n",
              "    <tr>\n",
              "      <th>9</th>\n",
              "      <td>14.0</td>\n",
              "      <td>0.0</td>\n",
              "    </tr>\n",
              "  </tbody>\n",
              "</table>\n",
              "</div>\n",
              "      <button class=\"colab-df-convert\" onclick=\"convertToInteractive('df-e06d92e8-6d20-4836-a649-2b5a06cbbbf0')\"\n",
              "              title=\"Convert this dataframe to an interactive table.\"\n",
              "              style=\"display:none;\">\n",
              "        \n",
              "  <svg xmlns=\"http://www.w3.org/2000/svg\" height=\"24px\"viewBox=\"0 0 24 24\"\n",
              "       width=\"24px\">\n",
              "    <path d=\"M0 0h24v24H0V0z\" fill=\"none\"/>\n",
              "    <path d=\"M18.56 5.44l.94 2.06.94-2.06 2.06-.94-2.06-.94-.94-2.06-.94 2.06-2.06.94zm-11 1L8.5 8.5l.94-2.06 2.06-.94-2.06-.94L8.5 2.5l-.94 2.06-2.06.94zm10 10l.94 2.06.94-2.06 2.06-.94-2.06-.94-.94-2.06-.94 2.06-2.06.94z\"/><path d=\"M17.41 7.96l-1.37-1.37c-.4-.4-.92-.59-1.43-.59-.52 0-1.04.2-1.43.59L10.3 9.45l-7.72 7.72c-.78.78-.78 2.05 0 2.83L4 21.41c.39.39.9.59 1.41.59.51 0 1.02-.2 1.41-.59l7.78-7.78 2.81-2.81c.8-.78.8-2.07 0-2.86zM5.41 20L4 18.59l7.72-7.72 1.47 1.35L5.41 20z\"/>\n",
              "  </svg>\n",
              "      </button>\n",
              "      \n",
              "  <style>\n",
              "    .colab-df-container {\n",
              "      display:flex;\n",
              "      flex-wrap:wrap;\n",
              "      gap: 12px;\n",
              "    }\n",
              "\n",
              "    .colab-df-convert {\n",
              "      background-color: #E8F0FE;\n",
              "      border: none;\n",
              "      border-radius: 50%;\n",
              "      cursor: pointer;\n",
              "      display: none;\n",
              "      fill: #1967D2;\n",
              "      height: 32px;\n",
              "      padding: 0 0 0 0;\n",
              "      width: 32px;\n",
              "    }\n",
              "\n",
              "    .colab-df-convert:hover {\n",
              "      background-color: #E2EBFA;\n",
              "      box-shadow: 0px 1px 2px rgba(60, 64, 67, 0.3), 0px 1px 3px 1px rgba(60, 64, 67, 0.15);\n",
              "      fill: #174EA6;\n",
              "    }\n",
              "\n",
              "    [theme=dark] .colab-df-convert {\n",
              "      background-color: #3B4455;\n",
              "      fill: #D2E3FC;\n",
              "    }\n",
              "\n",
              "    [theme=dark] .colab-df-convert:hover {\n",
              "      background-color: #434B5C;\n",
              "      box-shadow: 0px 1px 3px 1px rgba(0, 0, 0, 0.15);\n",
              "      filter: drop-shadow(0px 1px 2px rgba(0, 0, 0, 0.3));\n",
              "      fill: #FFFFFF;\n",
              "    }\n",
              "  </style>\n",
              "\n",
              "      <script>\n",
              "        const buttonEl =\n",
              "          document.querySelector('#df-e06d92e8-6d20-4836-a649-2b5a06cbbbf0 button.colab-df-convert');\n",
              "        buttonEl.style.display =\n",
              "          google.colab.kernel.accessAllowed ? 'block' : 'none';\n",
              "\n",
              "        async function convertToInteractive(key) {\n",
              "          const element = document.querySelector('#df-e06d92e8-6d20-4836-a649-2b5a06cbbbf0');\n",
              "          const dataTable =\n",
              "            await google.colab.kernel.invokeFunction('convertToInteractive',\n",
              "                                                     [key], {});\n",
              "          if (!dataTable) return;\n",
              "\n",
              "          const docLinkHtml = 'Like what you see? Visit the ' +\n",
              "            '<a target=\"_blank\" href=https://colab.research.google.com/notebooks/data_table.ipynb>data table notebook</a>'\n",
              "            + ' to learn more about interactive tables.';\n",
              "          element.innerHTML = '';\n",
              "          dataTable['output_type'] = 'display_data';\n",
              "          await google.colab.output.renderOutput(dataTable, element);\n",
              "          const docLink = document.createElement('div');\n",
              "          docLink.innerHTML = docLinkHtml;\n",
              "          element.appendChild(docLink);\n",
              "        }\n",
              "      </script>\n",
              "    </div>\n",
              "  </div>\n",
              "  "
            ]
          },
          "metadata": {},
          "execution_count": 17
        }
      ]
    },
    {
      "cell_type": "code",
      "source": [
        "data = np.random.randn(1000) #高斯分佈\n",
        "df = pd.DataFrame(data)\n",
        "df['res'] = pd.qcut(data,5,labels=False)\n",
        "df['res'].value_counts()\n",
        "# df"
      ],
      "metadata": {
        "colab": {
          "base_uri": "https://localhost:8080/"
        },
        "id": "tkFjGUljIwDr",
        "outputId": "baffe4f0-b574-4ea8-e754-46a24be0bbda"
      },
      "execution_count": 26,
      "outputs": [
        {
          "output_type": "execute_result",
          "data": {
            "text/plain": [
              "2    200\n",
              "1    200\n",
              "0    200\n",
              "4    200\n",
              "3    200\n",
              "Name: res, dtype: int64"
            ]
          },
          "metadata": {},
          "execution_count": 26
        }
      ]
    },
    {
      "cell_type": "markdown",
      "source": [
        "####特徵縮放\n",
        "\n",
        "---\n",
        "\n",
        "特徵縮放是指將數據縮放到一個固定的範圍內，以使所有特徵具有相同的重要性。\n",
        "\n",
        "**通常用於需要計算距離的機器學習算法中**\n",
        "\n",
        "    k-最近鄰（k-nearest neighbors，KNN）\n",
        "    支持向量機（support vector machine，SVM）\n",
        "\n",
        "以下是一些常見的特徵縮放方法：\n",
        "* 最小-最大縮放（min-max scaling）：將數據縮放到 0 到 1 之間。\n",
        "* Z-score 縮放：將數據縮放為標準正態分佈。(mean = 0 std = 1)\n",
        "* 正則化（normalization）：可細分為L1、L2，將數據縮放為單位長度。"
      ],
      "metadata": {
        "id": "GYzm7Zj5EdyY"
      }
    },
    {
      "cell_type": "markdown",
      "source": [
        "#####以下是一個使用 Scikit-learn 進行特徵縮放的例子"
      ],
      "metadata": {
        "id": "7t4hM2ihJzX4"
      }
    },
    {
      "cell_type": "code",
      "source": [
        "from sklearn.preprocessing import MinMaxScaler\n",
        "from sklearn.preprocessing import StandardScaler\n",
        "from sklearn.preprocessing import Normalizer\n",
        "import numpy as np"
      ],
      "metadata": {
        "id": "EjIKjKlcKMfu"
      },
      "execution_count": 27,
      "outputs": []
    },
    {
      "cell_type": "code",
      "source": [
        "# 創建一個隨機數組\n",
        "data = np.random.randn(100, 2)\n",
        "data.shape"
      ],
      "metadata": {
        "colab": {
          "base_uri": "https://localhost:8080/"
        },
        "id": "9Ta09aq5KOTN",
        "outputId": "e6845b47-fecc-4221-fbde-039418fd2e31"
      },
      "execution_count": 36,
      "outputs": [
        {
          "output_type": "execute_result",
          "data": {
            "text/plain": [
              "(100, 2)"
            ]
          },
          "metadata": {},
          "execution_count": 36
        }
      ]
    },
    {
      "cell_type": "code",
      "source": [
        "# 最小-最大縮放[0,1]\n",
        "# -2.637773836585494 - 3.8531844860889723 -> 0 - 1\n",
        "# (x - min) / (max - min)\n",
        "scaler_minmax = MinMaxScaler()\n",
        "data_minmax = scaler_minmax.fit_transform(data)\n",
        "data_minmax"
      ],
      "metadata": {
        "colab": {
          "base_uri": "https://localhost:8080/"
        },
        "id": "zm4LqPnVKp6f",
        "outputId": "e780a47c-d1ac-4513-f42f-791f8e30aeed"
      },
      "execution_count": 41,
      "outputs": [
        {
          "output_type": "execute_result",
          "data": {
            "text/plain": [
              "array([[0.67827138, 0.54170423],\n",
              "       [0.20846755, 0.34143729],\n",
              "       [0.36460889, 0.55838773],\n",
              "       [0.44747835, 0.29225567],\n",
              "       [0.89296527, 0.57900569],\n",
              "       [0.71296625, 0.61781766],\n",
              "       [0.860055  , 0.50925985],\n",
              "       [0.31276696, 0.36504968],\n",
              "       [0.39991879, 0.25643515],\n",
              "       [0.3523086 , 0.83854385],\n",
              "       [0.41963174, 0.81000317],\n",
              "       [0.32272593, 0.31196272],\n",
              "       [0.8322673 , 0.31742923],\n",
              "       [0.3162953 , 0.58054442],\n",
              "       [0.4508436 , 0.43973991],\n",
              "       [0.59415864, 0.38504461],\n",
              "       [0.74188702, 0.11581823],\n",
              "       [0.36696847, 0.357228  ],\n",
              "       [0.42557043, 0.6206434 ],\n",
              "       [0.18059368, 0.27238715],\n",
              "       [0.30336183, 1.        ],\n",
              "       [0.58088337, 0.39712579],\n",
              "       [0.24254227, 0.27444568],\n",
              "       [0.31932262, 0.20798109],\n",
              "       [0.89696434, 0.44996973],\n",
              "       [0.36035637, 0.40892708],\n",
              "       [0.59601984, 0.38811773],\n",
              "       [0.952401  , 0.21898949],\n",
              "       [0.43451825, 0.0807347 ],\n",
              "       [0.62988116, 0.66498569],\n",
              "       [0.47773155, 0.61947662],\n",
              "       [0.26682994, 0.30258093],\n",
              "       [0.17886288, 0.50825524],\n",
              "       [0.79343465, 0.58261365],\n",
              "       [0.57188896, 0.40225958],\n",
              "       [0.62038878, 0.4892957 ],\n",
              "       [0.4194176 , 0.        ],\n",
              "       [0.74034953, 0.49069445],\n",
              "       [0.80524872, 0.46470855],\n",
              "       [0.6928132 , 0.13394989],\n",
              "       [0.76344796, 0.50317508],\n",
              "       [0.12118303, 0.53229654],\n",
              "       [0.70730128, 0.38648366],\n",
              "       [0.4055711 , 0.75040038],\n",
              "       [0.53017372, 0.38859061],\n",
              "       [0.22781864, 0.26116584],\n",
              "       [0.18932383, 0.53693723],\n",
              "       [0.20811234, 0.35636167],\n",
              "       [0.66096351, 0.2151754 ],\n",
              "       [0.52220655, 0.37021612],\n",
              "       [0.47774072, 0.50554844],\n",
              "       [0.72539612, 0.17387698],\n",
              "       [0.53431366, 0.31074361],\n",
              "       [0.2511067 , 0.25551013],\n",
              "       [0.43513239, 0.39811545],\n",
              "       [0.53154468, 0.30392999],\n",
              "       [0.41997444, 0.36265804],\n",
              "       [0.71258544, 0.38843573],\n",
              "       [0.6483652 , 0.41738078],\n",
              "       [0.51181216, 0.3183992 ],\n",
              "       [0.18277239, 0.52006721],\n",
              "       [0.50283646, 0.31244931],\n",
              "       [0.23245444, 0.56660265],\n",
              "       [0.84478655, 0.18558746],\n",
              "       [0.51562605, 0.48044893],\n",
              "       [0.34711251, 0.47736826],\n",
              "       [0.26645028, 0.36162209],\n",
              "       [0.71905331, 0.23543991],\n",
              "       [0.49103765, 0.23746234],\n",
              "       [0.26424569, 0.26015781],\n",
              "       [0.70904895, 0.24215387],\n",
              "       [0.74065287, 0.33142152],\n",
              "       [0.41814697, 0.30900916],\n",
              "       [0.46848834, 0.30773557],\n",
              "       [0.52319812, 0.33606267],\n",
              "       [0.35032813, 0.50117456],\n",
              "       [0.60415871, 0.5250491 ],\n",
              "       [0.48133958, 0.43759713],\n",
              "       [0.41135645, 0.48703737],\n",
              "       [0.74275642, 0.31650957],\n",
              "       [0.51245917, 0.32165512],\n",
              "       [0.4489131 , 0.48564881],\n",
              "       [0.407467  , 0.49249666],\n",
              "       [0.52636409, 0.39622431],\n",
              "       [0.52387893, 0.22367271],\n",
              "       [0.38842063, 0.24479963],\n",
              "       [0.27734643, 0.49719592],\n",
              "       [0.82950131, 0.27479545],\n",
              "       [1.        , 0.32887239],\n",
              "       [0.44589793, 0.4169687 ],\n",
              "       [0.        , 0.35123426],\n",
              "       [0.35332315, 0.25360394],\n",
              "       [0.26954069, 0.34902917],\n",
              "       [0.85562816, 0.33130607],\n",
              "       [0.41216919, 0.1880258 ],\n",
              "       [0.39856672, 0.25510797],\n",
              "       [0.26977217, 0.43084159],\n",
              "       [0.66322465, 0.58081147],\n",
              "       [0.06054288, 0.52506428],\n",
              "       [0.30323282, 0.10357268]])"
            ]
          },
          "metadata": {},
          "execution_count": 41
        }
      ]
    },
    {
      "cell_type": "code",
      "source": [
        "# Z-score 縮放 (mean = 0 std =1)\n",
        "scaler_zscore = StandardScaler()\n",
        "data_zscore = scaler_zscore.fit_transform(data)\n",
        "data_zscore"
      ],
      "metadata": {
        "colab": {
          "base_uri": "https://localhost:8080/"
        },
        "id": "rbdWRxkuLJ9Y",
        "outputId": "27de797a-cc09-49ae-837e-6b2670e1d687"
      },
      "execution_count": 42,
      "outputs": [
        {
          "output_type": "execute_result",
          "data": {
            "text/plain": [
              "array([[ 8.76590854e-01,  9.05984193e-01],\n",
              "       [-1.32368565e+00, -3.23497599e-01],\n",
              "       [-5.92414208e-01,  1.00840777e+00],\n",
              "       [-2.04303851e-01, -6.25434191e-01],\n",
              "       [ 1.88208699e+00,  1.13498591e+00],\n",
              "       [ 1.03908061e+00,  1.37326094e+00],\n",
              "       [ 1.72795522e+00,  7.06801176e-01],\n",
              "       [-8.35210391e-01, -1.78536075e-01],\n",
              "       [-4.27044042e-01, -8.45344067e-01],\n",
              "       [-6.50021335e-01,  2.72834650e+00],\n",
              "       [-3.34720518e-01,  2.55312909e+00],\n",
              "       [-7.88568616e-01, -5.04448344e-01],\n",
              "       [ 1.59781448e+00, -4.70888271e-01],\n",
              "       [-8.18685780e-01,  1.14443245e+00],\n",
              "       [-1.88543050e-01,  2.80003309e-01],\n",
              "       [ 4.82657773e-01, -5.57828999e-02],\n",
              "       [ 1.17452799e+00, -1.70862157e+00],\n",
              "       [-5.81363352e-01, -2.26555040e-01],\n",
              "       [-3.06907310e-01,  1.39060874e+00],\n",
              "       [-1.45422999e+00, -7.47411260e-01],\n",
              "       [-8.79258323e-01,  3.71956051e+00],\n",
              "       [ 4.20484424e-01,  1.83860453e-02],\n",
              "       [-1.16410033e+00, -7.34773535e-01],\n",
              "       [-8.04507663e-01, -1.14281391e+00],\n",
              "       [ 1.90081623e+00,  3.42806358e-01],\n",
              "       [-6.12330417e-01,  9.08366926e-02],\n",
              "       [ 4.91374468e-01, -3.69163786e-02],\n",
              "       [ 2.16044794e+00, -1.07523100e+00],\n",
              "       [-2.65001125e-01, -1.92400690e+00],\n",
              "       [ 6.49960403e-01,  1.66283561e+00],\n",
              "       [-6.26161873e-02,  1.38344562e+00],\n",
              "       [-1.05035158e+00, -5.62045161e-01],\n",
              "       [-1.46233598e+00,  7.00633640e-01],\n",
              "       [ 1.41594585e+00,  1.15713592e+00],\n",
              "       [ 3.78360067e-01,  4.99035041e-02],\n",
              "       [ 6.05503858e-01,  5.84236972e-01],\n",
              "       [-3.35723434e-01, -2.41965459e+00],\n",
              "       [ 1.16732732e+00,  5.92824157e-01],\n",
              "       [ 1.47127580e+00,  4.33291158e-01],\n",
              "       [ 9.44695933e-01, -1.59730743e+00],\n",
              "       [ 1.27550639e+00,  6.69445467e-01],\n",
              "       [-1.73247349e+00,  8.48228368e-01],\n",
              "       [ 1.01254933e+00, -4.69482716e-02],\n",
              "       [-4.00572019e-01,  2.18721475e+00],\n",
              "       [ 1.82991155e-01, -3.40132236e-02],\n",
              "       [-1.23305687e+00, -8.16301316e-01],\n",
              "       [-1.41334323e+00,  8.76718582e-01],\n",
              "       [-1.32534925e+00, -2.31873627e-01],\n",
              "       [ 7.95531309e-01, -1.09864650e+00],\n",
              "       [ 1.45677749e-01, -1.46818185e-01],\n",
              "       [-6.25732446e-02,  6.84016039e-01],\n",
              "       [ 1.09729460e+00, -1.35218644e+00],\n",
              "       [ 2.02380131e-01, -5.11932699e-01],\n",
              "       [-1.12398969e+00, -8.51022972e-01],\n",
              "       [-2.62124881e-01,  2.44617958e-02],\n",
              "       [ 1.89411922e-01, -5.53763036e-01],\n",
              "       [-3.33115531e-01, -1.93218886e-01],\n",
              "       [ 1.03729715e+00, -3.49640847e-02],\n",
              "       [ 7.36528463e-01,  1.42735813e-01],\n",
              "       [ 9.69967297e-02, -4.64933429e-01],\n",
              "       [-1.44402623e+00,  7.73149853e-01],\n",
              "       [ 5.49599971e-02, -5.01461096e-01],\n",
              "       [-1.21134561e+00,  1.05884096e+00],\n",
              "       [ 1.65644705e+00, -1.28029325e+00],\n",
              "       [ 1.14858670e-01,  5.29924723e-01],\n",
              "       [-6.74356665e-01,  5.11011812e-01],\n",
              "       [-1.05212965e+00, -1.99578797e-01],\n",
              "       [ 1.06758872e+00, -9.74238336e-01],\n",
              "       [-2.98493293e-04, -9.61822215e-01],\n",
              "       [-1.06245463e+00, -8.22489838e-01],\n",
              "       [ 1.02073436e+00, -9.33019895e-01],\n",
              "       [ 1.16874800e+00, -3.84986616e-01],\n",
              "       [-3.41674290e-01, -5.22580903e-01],\n",
              "       [-1.05905805e-01, -5.30399717e-01],\n",
              "       [ 1.50321657e-01, -3.56493545e-01],\n",
              "       [-6.59296627e-01,  6.57163839e-01],\n",
              "       [ 5.29492005e-01,  8.03734780e-01],\n",
              "       [-4.57183558e-02,  2.66848320e-01],\n",
              "       [-3.73476976e-01,  5.70372591e-01],\n",
              "       [ 1.17859973e+00, -4.76534255e-01],\n",
              "       [ 1.00026932e-01, -4.44944593e-01],\n",
              "       [-1.97584342e-01,  5.61847931e-01],\n",
              "       [-3.91692800e-01,  6.03888368e-01],\n",
              "       [ 1.65149176e-01,  1.28516583e-02],\n",
              "       [ 1.53510178e-01, -1.04647971e+00],\n",
              "       [-4.80894458e-01, -9.16777019e-01],\n",
              "       [-1.00109871e+00,  6.32738129e-01],\n",
              "       [ 1.58486026e+00, -7.32626220e-01],\n",
              "       [ 2.38337283e+00, -4.00636247e-01],\n",
              "       [-2.11705582e-01,  1.40205927e-01],\n",
              "       [-2.30002137e+00, -2.63351944e-01],\n",
              "       [-6.45269792e-01, -8.62725430e-01],\n",
              "       [-1.03765607e+00, -2.76889417e-01],\n",
              "       [ 1.70722260e+00, -3.85695377e-01],\n",
              "       [-3.69670564e-01, -1.26532375e+00],\n",
              "       [-4.33376323e-01, -8.53491877e-01],\n",
              "       [-1.03657196e+00,  2.25374618e-01],\n",
              "       [ 8.06121091e-01,  1.14607198e+00],\n",
              "       [-2.01647520e+00,  8.03827992e-01],\n",
              "       [-8.79862522e-01, -1.78379963e+00]])"
            ]
          },
          "metadata": {},
          "execution_count": 42
        }
      ]
    },
    {
      "cell_type": "code",
      "source": [
        "# 正則化 ，可細分為L1、L2\n",
        "scaler_norm = Normalizer()\n",
        "data_norm = scaler_norm.fit_transform(data)\n",
        "data_norm"
      ],
      "metadata": {
        "colab": {
          "base_uri": "https://localhost:8080/"
        },
        "id": "AeyLB9UeLV1Q",
        "outputId": "2fd33ff8-fb16-437b-c99f-522c144d3f6e"
      },
      "execution_count": 44,
      "outputs": [
        {
          "output_type": "execute_result",
          "data": {
            "text/plain": [
              "array([[ 0.72962653,  0.68384584],\n",
              "       [-0.94326412, -0.33204337],\n",
              "       [-0.44330899,  0.89636886],\n",
              "       [-0.14877588, -0.98887094],\n",
              "       [ 0.86283993,  0.50547726],\n",
              "       [ 0.62361473,  0.78173184],\n",
              "       [ 0.9351704 ,  0.35419814],\n",
              "       [-0.9376327 , -0.34762757],\n",
              "       [-0.31896313, -0.94776712],\n",
              "       [-0.19033668,  0.98171887],\n",
              "       [-0.09045997,  0.99590009],\n",
              "       [-0.74199866, -0.67040136],\n",
              "       [ 0.94305982, -0.33262318],\n",
              "       [-0.53050189,  0.84768375],\n",
              "       [-0.40581153,  0.91395678],\n",
              "       [ 0.97026226, -0.2420561 ],\n",
              "       [ 0.54510123, -0.83837024],\n",
              "       [-0.83136797, -0.55572232],\n",
              "       [-0.14998839,  0.98868776],\n",
              "       [-0.83582118, -0.54900178],\n",
              "       [-0.19504754,  0.98079379],\n",
              "       [ 0.99271404, -0.12049413],\n",
              "       [-0.77275462, -0.63470489],\n",
              "       [-0.47427552, -0.88037647],\n",
              "       [ 0.98943229,  0.14499564],\n",
              "       [-0.99946797,  0.03261547],\n",
              "       [ 0.97858839, -0.20582704],\n",
              "       [ 0.87353351, -0.48676402],\n",
              "       [-0.08032412, -0.9967688 ],\n",
              "       [ 0.39296163,  0.91955487],\n",
              "       [ 0.0188044 ,  0.99982318],\n",
              "       [-0.81050037, -0.58573813],\n",
              "       [-0.89568514,  0.4446888 ],\n",
              "       [ 0.78725321,  0.61662986],\n",
              "       [ 0.99827086, -0.05878164],\n",
              "       [ 0.78151485,  0.62388664],\n",
              "       [-0.09021715, -0.99592212],\n",
              "       [ 0.91230507,  0.40951125],\n",
              "       [ 0.97012895,  0.24258982],\n",
              "       [ 0.49347513, -0.86975991],\n",
              "       [ 0.90346105,  0.4286702 ],\n",
              "       [-0.88984369,  0.45626551],\n",
              "       [ 0.99278529, -0.11990563],\n",
              "       [-0.13396091,  0.99098662],\n",
              "       [ 0.91638873, -0.40028952],\n",
              "       [-0.76212003, -0.64743576],\n",
              "       [-0.83468675,  0.550725  ],\n",
              "       [-0.96524665, -0.26134061],\n",
              "       [ 0.56892356, -0.82239041],\n",
              "       [ 0.69692215, -0.71714679],\n",
              "       [ 0.04044556,  0.99918174],\n",
              "       [ 0.60654563, -0.79504868],\n",
              "       [ 0.41495571, -0.90984161],\n",
              "       [-0.71576591, -0.69834029],\n",
              "       [-0.95240898, -0.30482311],\n",
              "       [ 0.37683135, -0.92628189],\n",
              "       [-0.64008375, -0.76830514],\n",
              "       [ 0.99437323, -0.10593341],\n",
              "       [ 0.99605086,  0.0887845 ],\n",
              "       [ 0.30194161, -0.95332642],\n",
              "       [-0.87193657,  0.48961885],\n",
              "       [ 0.22393336, -0.97460446],\n",
              "       [-0.72301005,  0.69083751],\n",
              "       [ 0.76340624, -0.64591866],\n",
              "       [ 0.38111247,  0.92452868],\n",
              "       [-0.7762977 ,  0.63036647],\n",
              "       [-0.95487817, -0.29699776],\n",
              "       [ 0.71120355, -0.70298614],\n",
              "       [ 0.07862592, -0.99690419],\n",
              "       [-0.70520066, -0.70900778],\n",
              "       [ 0.71075743, -0.70343719],\n",
              "       [ 0.92893038, -0.37025445],\n",
              "       [-0.36108629, -0.93253241],\n",
              "       [-0.02495537, -0.99968857],\n",
              "       [ 0.45407184, -0.89096507],\n",
              "       [-0.66834562,  0.74385088],\n",
              "       [ 0.61479751,  0.78868499],\n",
              "       [ 0.20483465,  0.97879659],\n",
              "       [-0.4657645 ,  0.88490871],\n",
              "       [ 0.90356988, -0.42844075],\n",
              "       [ 0.31700342, -0.9484244 ],\n",
              "       [-0.19980811,  0.97983505],\n",
              "       [-0.46454971,  0.88554704],\n",
              "       [ 0.96620087, -0.25779036],\n",
              "       [ 0.19493202, -0.98081676],\n",
              "       [-0.34048395, -0.94025033],\n",
              "       [-0.83211446,  0.55460393],\n",
              "       [ 0.8851061 , -0.46538928],\n",
              "       [ 0.97871292, -0.20523406],\n",
              "       [-0.86519404,  0.50143721],\n",
              "       [-0.98635785, -0.16461526],\n",
              "       [-0.47773615, -0.87850337],\n",
              "       [-0.9269884 , -0.37508999],\n",
              "       [ 0.9630758 , -0.2692304 ],\n",
              "       [-0.18839475, -0.98209339],\n",
              "       [-0.32177185, -0.94681723],\n",
              "       [-0.98539341,  0.17029338],\n",
              "       [ 0.60877816,  0.7933405 ],\n",
              "       [-0.92457833,  0.38099201],\n",
              "       [-0.36347579, -0.93160365]])"
            ]
          },
          "metadata": {},
          "execution_count": 44
        }
      ]
    },
    {
      "cell_type": "markdown",
      "source": [
        "####特徵選擇\n",
        "\n",
        "---\n",
        "\n",
        "從原始數據中選擇最具有信息量的特徵，以用於訓練機器學習模型。選擇更好的特徵可以提高模型的準確性，同時降低過擬合和計算成本\n",
        "\n",
        "以下是一些常見的特徵選擇方法：\n",
        "* 過濾法（Filter method）：根據某些統計量或模型評估指標，對原始特徵進行評分，然後選擇評分最高的特徵。\n",
        "* 包裝法（Wrapper method）：通過訓練模型，反復地選擇特徵，直到達到某個指定的準確度或特徵數量。\n",
        "* 嵌入法（Embedded method）：在訓練過程中，利用正則化等技術將特徵的權重進行約束，從而實現特徵選擇。"
      ],
      "metadata": {
        "id": "M-DTxWpwvEPL"
      }
    },
    {
      "cell_type": "code",
      "source": [
        "import pandas as pd\n",
        "import numpy as np\n",
        "from sklearn.feature_selection import SelectKBest\n",
        "from sklearn.feature_selection import f_regression"
      ],
      "metadata": {
        "id": "kJReK6govc4Y"
      },
      "execution_count": 45,
      "outputs": []
    },
    {
      "cell_type": "code",
      "source": [
        "# 加載波士頓房價數據集\n",
        "data_url = \"http://lib.stat.cmu.edu/datasets/boston\"\n",
        "raw_df = pd.read_csv(data_url, sep=\"\\s+\", skiprows=22, header=None)\n",
        "raw_df.shape"
      ],
      "metadata": {
        "colab": {
          "base_uri": "https://localhost:8080/"
        },
        "id": "LYHIaDabviar",
        "outputId": "cdeadc65-5b05-43a2-cd8a-54aced05bc34"
      },
      "execution_count": 48,
      "outputs": [
        {
          "output_type": "execute_result",
          "data": {
            "text/plain": [
              "(1012, 11)"
            ]
          },
          "metadata": {},
          "execution_count": 48
        }
      ]
    },
    {
      "cell_type": "code",
      "source": [
        "data = np.hstack([raw_df.values[::2, :], raw_df.values[1::2, :2]])\n",
        "target = raw_df.values[1::2, 2]\n",
        "X, y = data, target"
      ],
      "metadata": {
        "id": "FIFdg3HfvrYp"
      },
      "execution_count": 52,
      "outputs": []
    },
    {
      "cell_type": "code",
      "source": [
        "# 過濾法特徵選擇\n",
        "selector = SelectKBest(f_regression, k=5)\n",
        "X_new = selector.fit_transform(X, y)"
      ],
      "metadata": {
        "id": "g5yH2IXbv3SU"
      },
      "execution_count": 56,
      "outputs": []
    },
    {
      "cell_type": "code",
      "source": [
        "print(X.shape) # 原本的欄位數量\n",
        "print(X_new.shape) # 過濾後的欄位數量\n",
        "\n",
        "# 在這個例子中，我們首先使用 Scikit-learn 中的 load_boston 函數加載波士頓房價數據集。然後，我們使用 SelectKBest 和 f_regression 進行過濾法特徵選擇，選擇得分最高的 5 個特徵。"
      ],
      "metadata": {
        "colab": {
          "base_uri": "https://localhost:8080/"
        },
        "id": "yhTekNsxv6hV",
        "outputId": "13468276-a862-4380-f51b-3c83150f4f09"
      },
      "execution_count": 54,
      "outputs": [
        {
          "output_type": "stream",
          "name": "stdout",
          "text": [
            "(506, 13)\n",
            "(506, 5)\n"
          ]
        }
      ]
    }
  ]
}