{
  "nbformat": 4,
  "nbformat_minor": 0,
  "metadata": {
    "colab": {
      "provenance": [],
      "toc_visible": true,
      "authorship_tag": "ABX9TyPxjgIFw2vs2MuOXJF0myDt",
      "include_colab_link": true
    },
    "kernelspec": {
      "name": "python3",
      "display_name": "Python 3"
    },
    "language_info": {
      "name": "python"
    }
  },
  "cells": [
    {
      "cell_type": "markdown",
      "metadata": {
        "id": "view-in-github",
        "colab_type": "text"
      },
      "source": [
        "<a href=\"https://colab.research.google.com/github/DrDAN6770/DataSciense-with-Python/blob/main/%E8%B3%87%E6%96%99%E7%A7%91%E5%AD%B8%E5%B7%A5%E5%85%B7%E7%AE%B1/%E6%95%99%E7%B7%B4%E5%B8%B6%E8%B7%91/Task%2008/%E6%A9%9F%E5%99%A8%E5%AD%B8%E7%BF%92.ipynb\" target=\"_parent\"><img src=\"https://colab.research.google.com/assets/colab-badge.svg\" alt=\"Open In Colab\"/></a>"
      ]
    },
    {
      "cell_type": "markdown",
      "source": [
        "# 監督式學習與非監督式學習"
      ],
      "metadata": {
        "id": "rr_OefKrBE0S"
      }
    },
    {
      "cell_type": "markdown",
      "source": [
        "## 監督式學習（Supervised learning）"
      ],
      "metadata": {
        "id": "dLMAM_LXBHRl"
      }
    },
    {
      "cell_type": "markdown",
      "source": [
        "* 是由訓練資料中學到或建立一個模型（learning model），並依此模式推測新的實例。訓練資料是由特徵和標籤所組成，目標/標籤可以是連續的數值（迴歸），也可以有限可能的類別（分類）。\n",
        "\n",
        "* 監督式學習是一種根據已知的答案去找出欄位跟欄位之間的關係的方法"
      ],
      "metadata": {
        "id": "TOhO659RBLOd"
      }
    },
    {
      "cell_type": "markdown",
      "source": [
        "## 非監督式學習"
      ],
      "metadata": {
        "id": "igpEdOipBWDx"
      }
    },
    {
      "cell_type": "markdown",
      "source": [
        "* 沒有給定事先標記過的訓練範例，對輸入的資料進行分組或分群。無監督學習的主要運用包含：聚類分析、關聯規則、維度縮減，可以在沒有明確目標的情況下找出資料間的關係\n",
        "* 非監督式學習是利用資料跟資料的關係把類似的資料當成同一群的方法"
      ],
      "metadata": {
        "id": "w8eLRDI6BqAo"
      }
    },
    {
      "cell_type": "markdown",
      "source": [
        "# 在 Python 中實現機器學習"
      ],
      "metadata": {
        "id": "4qH0z72PBzTz"
      }
    },
    {
      "cell_type": "markdown",
      "source": [
        "## scikit-learn 套件的介紹與使用\n",
        "\n",
        "---\n",
        "\n",
        "用於機器學習的 Python 套件\n",
        "\n",
        "它支持監督式學習、非監督式學習和強化學習等多種機器學習方法\n",
        "\n",
        "scikit-learn 提供了一致的 API，讓使用者可以方便地進行模型訓練、預測和評估。它還提供了豐富的資料集和工具，用於資料預處理、特徵提取和降維等"
      ],
      "metadata": {
        "id": "PjQaPIV3DWe7"
      }
    },
    {
      "cell_type": "markdown",
      "source": [
        "##監督式學習\n",
        "\n",
        "---\n",
        "訓練過程中，資料樣本標有正確的標籤或結果，機器學習模型學習從輸入數據中將輸入和輸出關係建立起來的學習方式\n",
        "\n",
        "scikit-learn 中支援多種監督式學習算法，包括：\n",
        "\n",
        "* 線性回歸：LinearRegression、Ridge、Lasso 等。\n",
        "* 分類算法：LogisticRegression、SVM、KNN、決策樹、隨機森林等。"
      ],
      "metadata": {
        "id": "SGSsVKVvDqZN"
      }
    },
    {
      "cell_type": "markdown",
      "source": [
        "### 線性迴歸 (Linear Regression)\n",
        "\n",
        "---\n",
        "\n",
        "\n",
        "```\n",
        "from sklearn.linear_model import LinearRegression\n",
        "\n",
        "model = LinearRegression()\n",
        "model.fit(X_train, y_train)\n",
        "y_pred = model.predict(X_test)\n",
        "```\n",
        "\n",
        "\n"
      ],
      "metadata": {
        "id": "fcJ4yIQoK0-d"
      }
    },
    {
      "cell_type": "code",
      "source": [
        "import pandas as pd\n",
        "import numpy as np\n",
        "from sklearn.model_selection import train_test_split\n",
        "from sklearn.linear_model import LinearRegression"
      ],
      "metadata": {
        "id": "Y5_QOMTEK8Fg"
      },
      "execution_count": null,
      "outputs": []
    },
    {
      "cell_type": "code",
      "source": [
        "# 載入 Boston 房價數據集\n",
        "data_url = \"http://lib.stat.cmu.edu/datasets/boston\"\n",
        "raw_df = pd.read_csv(data_url, sep=\"\\s+\", skiprows=22, header=None)\n",
        "data = np.hstack([raw_df.values[::2, :], raw_df.values[1::2, :2]])\n",
        "target = raw_df.values[1::2, 2]\n",
        "X, y = data, target\n",
        "raw_df"
      ],
      "metadata": {
        "colab": {
          "base_uri": "https://localhost:8080/",
          "height": 424
        },
        "id": "qX8tJ_7zLIwY",
        "outputId": "a6732dc2-7b7d-43fe-d2d2-7bf787b8bc4e"
      },
      "execution_count": null,
      "outputs": [
        {
          "output_type": "execute_result",
          "data": {
            "text/plain": [
              "             0      1      2    3      4      5     6       7    8      9   \\\n",
              "0       0.00632  18.00   2.31  0.0  0.538  6.575  65.2  4.0900  1.0  296.0   \n",
              "1     396.90000   4.98  24.00  NaN    NaN    NaN   NaN     NaN  NaN    NaN   \n",
              "2       0.02731   0.00   7.07  0.0  0.469  6.421  78.9  4.9671  2.0  242.0   \n",
              "3     396.90000   9.14  21.60  NaN    NaN    NaN   NaN     NaN  NaN    NaN   \n",
              "4       0.02729   0.00   7.07  0.0  0.469  7.185  61.1  4.9671  2.0  242.0   \n",
              "...         ...    ...    ...  ...    ...    ...   ...     ...  ...    ...   \n",
              "1007  396.90000   5.64  23.90  NaN    NaN    NaN   NaN     NaN  NaN    NaN   \n",
              "1008    0.10959   0.00  11.93  0.0  0.573  6.794  89.3  2.3889  1.0  273.0   \n",
              "1009  393.45000   6.48  22.00  NaN    NaN    NaN   NaN     NaN  NaN    NaN   \n",
              "1010    0.04741   0.00  11.93  0.0  0.573  6.030  80.8  2.5050  1.0  273.0   \n",
              "1011  396.90000   7.88  11.90  NaN    NaN    NaN   NaN     NaN  NaN    NaN   \n",
              "\n",
              "        10  \n",
              "0     15.3  \n",
              "1      NaN  \n",
              "2     17.8  \n",
              "3      NaN  \n",
              "4     17.8  \n",
              "...    ...  \n",
              "1007   NaN  \n",
              "1008  21.0  \n",
              "1009   NaN  \n",
              "1010  21.0  \n",
              "1011   NaN  \n",
              "\n",
              "[1012 rows x 11 columns]"
            ],
            "text/html": [
              "\n",
              "  <div id=\"df-f77608c5-77fd-4ae9-941e-2bdcea90b5bc\">\n",
              "    <div class=\"colab-df-container\">\n",
              "      <div>\n",
              "<style scoped>\n",
              "    .dataframe tbody tr th:only-of-type {\n",
              "        vertical-align: middle;\n",
              "    }\n",
              "\n",
              "    .dataframe tbody tr th {\n",
              "        vertical-align: top;\n",
              "    }\n",
              "\n",
              "    .dataframe thead th {\n",
              "        text-align: right;\n",
              "    }\n",
              "</style>\n",
              "<table border=\"1\" class=\"dataframe\">\n",
              "  <thead>\n",
              "    <tr style=\"text-align: right;\">\n",
              "      <th></th>\n",
              "      <th>0</th>\n",
              "      <th>1</th>\n",
              "      <th>2</th>\n",
              "      <th>3</th>\n",
              "      <th>4</th>\n",
              "      <th>5</th>\n",
              "      <th>6</th>\n",
              "      <th>7</th>\n",
              "      <th>8</th>\n",
              "      <th>9</th>\n",
              "      <th>10</th>\n",
              "    </tr>\n",
              "  </thead>\n",
              "  <tbody>\n",
              "    <tr>\n",
              "      <th>0</th>\n",
              "      <td>0.00632</td>\n",
              "      <td>18.00</td>\n",
              "      <td>2.31</td>\n",
              "      <td>0.0</td>\n",
              "      <td>0.538</td>\n",
              "      <td>6.575</td>\n",
              "      <td>65.2</td>\n",
              "      <td>4.0900</td>\n",
              "      <td>1.0</td>\n",
              "      <td>296.0</td>\n",
              "      <td>15.3</td>\n",
              "    </tr>\n",
              "    <tr>\n",
              "      <th>1</th>\n",
              "      <td>396.90000</td>\n",
              "      <td>4.98</td>\n",
              "      <td>24.00</td>\n",
              "      <td>NaN</td>\n",
              "      <td>NaN</td>\n",
              "      <td>NaN</td>\n",
              "      <td>NaN</td>\n",
              "      <td>NaN</td>\n",
              "      <td>NaN</td>\n",
              "      <td>NaN</td>\n",
              "      <td>NaN</td>\n",
              "    </tr>\n",
              "    <tr>\n",
              "      <th>2</th>\n",
              "      <td>0.02731</td>\n",
              "      <td>0.00</td>\n",
              "      <td>7.07</td>\n",
              "      <td>0.0</td>\n",
              "      <td>0.469</td>\n",
              "      <td>6.421</td>\n",
              "      <td>78.9</td>\n",
              "      <td>4.9671</td>\n",
              "      <td>2.0</td>\n",
              "      <td>242.0</td>\n",
              "      <td>17.8</td>\n",
              "    </tr>\n",
              "    <tr>\n",
              "      <th>3</th>\n",
              "      <td>396.90000</td>\n",
              "      <td>9.14</td>\n",
              "      <td>21.60</td>\n",
              "      <td>NaN</td>\n",
              "      <td>NaN</td>\n",
              "      <td>NaN</td>\n",
              "      <td>NaN</td>\n",
              "      <td>NaN</td>\n",
              "      <td>NaN</td>\n",
              "      <td>NaN</td>\n",
              "      <td>NaN</td>\n",
              "    </tr>\n",
              "    <tr>\n",
              "      <th>4</th>\n",
              "      <td>0.02729</td>\n",
              "      <td>0.00</td>\n",
              "      <td>7.07</td>\n",
              "      <td>0.0</td>\n",
              "      <td>0.469</td>\n",
              "      <td>7.185</td>\n",
              "      <td>61.1</td>\n",
              "      <td>4.9671</td>\n",
              "      <td>2.0</td>\n",
              "      <td>242.0</td>\n",
              "      <td>17.8</td>\n",
              "    </tr>\n",
              "    <tr>\n",
              "      <th>...</th>\n",
              "      <td>...</td>\n",
              "      <td>...</td>\n",
              "      <td>...</td>\n",
              "      <td>...</td>\n",
              "      <td>...</td>\n",
              "      <td>...</td>\n",
              "      <td>...</td>\n",
              "      <td>...</td>\n",
              "      <td>...</td>\n",
              "      <td>...</td>\n",
              "      <td>...</td>\n",
              "    </tr>\n",
              "    <tr>\n",
              "      <th>1007</th>\n",
              "      <td>396.90000</td>\n",
              "      <td>5.64</td>\n",
              "      <td>23.90</td>\n",
              "      <td>NaN</td>\n",
              "      <td>NaN</td>\n",
              "      <td>NaN</td>\n",
              "      <td>NaN</td>\n",
              "      <td>NaN</td>\n",
              "      <td>NaN</td>\n",
              "      <td>NaN</td>\n",
              "      <td>NaN</td>\n",
              "    </tr>\n",
              "    <tr>\n",
              "      <th>1008</th>\n",
              "      <td>0.10959</td>\n",
              "      <td>0.00</td>\n",
              "      <td>11.93</td>\n",
              "      <td>0.0</td>\n",
              "      <td>0.573</td>\n",
              "      <td>6.794</td>\n",
              "      <td>89.3</td>\n",
              "      <td>2.3889</td>\n",
              "      <td>1.0</td>\n",
              "      <td>273.0</td>\n",
              "      <td>21.0</td>\n",
              "    </tr>\n",
              "    <tr>\n",
              "      <th>1009</th>\n",
              "      <td>393.45000</td>\n",
              "      <td>6.48</td>\n",
              "      <td>22.00</td>\n",
              "      <td>NaN</td>\n",
              "      <td>NaN</td>\n",
              "      <td>NaN</td>\n",
              "      <td>NaN</td>\n",
              "      <td>NaN</td>\n",
              "      <td>NaN</td>\n",
              "      <td>NaN</td>\n",
              "      <td>NaN</td>\n",
              "    </tr>\n",
              "    <tr>\n",
              "      <th>1010</th>\n",
              "      <td>0.04741</td>\n",
              "      <td>0.00</td>\n",
              "      <td>11.93</td>\n",
              "      <td>0.0</td>\n",
              "      <td>0.573</td>\n",
              "      <td>6.030</td>\n",
              "      <td>80.8</td>\n",
              "      <td>2.5050</td>\n",
              "      <td>1.0</td>\n",
              "      <td>273.0</td>\n",
              "      <td>21.0</td>\n",
              "    </tr>\n",
              "    <tr>\n",
              "      <th>1011</th>\n",
              "      <td>396.90000</td>\n",
              "      <td>7.88</td>\n",
              "      <td>11.90</td>\n",
              "      <td>NaN</td>\n",
              "      <td>NaN</td>\n",
              "      <td>NaN</td>\n",
              "      <td>NaN</td>\n",
              "      <td>NaN</td>\n",
              "      <td>NaN</td>\n",
              "      <td>NaN</td>\n",
              "      <td>NaN</td>\n",
              "    </tr>\n",
              "  </tbody>\n",
              "</table>\n",
              "<p>1012 rows × 11 columns</p>\n",
              "</div>\n",
              "      <button class=\"colab-df-convert\" onclick=\"convertToInteractive('df-f77608c5-77fd-4ae9-941e-2bdcea90b5bc')\"\n",
              "              title=\"Convert this dataframe to an interactive table.\"\n",
              "              style=\"display:none;\">\n",
              "        \n",
              "  <svg xmlns=\"http://www.w3.org/2000/svg\" height=\"24px\"viewBox=\"0 0 24 24\"\n",
              "       width=\"24px\">\n",
              "    <path d=\"M0 0h24v24H0V0z\" fill=\"none\"/>\n",
              "    <path d=\"M18.56 5.44l.94 2.06.94-2.06 2.06-.94-2.06-.94-.94-2.06-.94 2.06-2.06.94zm-11 1L8.5 8.5l.94-2.06 2.06-.94-2.06-.94L8.5 2.5l-.94 2.06-2.06.94zm10 10l.94 2.06.94-2.06 2.06-.94-2.06-.94-.94-2.06-.94 2.06-2.06.94z\"/><path d=\"M17.41 7.96l-1.37-1.37c-.4-.4-.92-.59-1.43-.59-.52 0-1.04.2-1.43.59L10.3 9.45l-7.72 7.72c-.78.78-.78 2.05 0 2.83L4 21.41c.39.39.9.59 1.41.59.51 0 1.02-.2 1.41-.59l7.78-7.78 2.81-2.81c.8-.78.8-2.07 0-2.86zM5.41 20L4 18.59l7.72-7.72 1.47 1.35L5.41 20z\"/>\n",
              "  </svg>\n",
              "      </button>\n",
              "      \n",
              "  <style>\n",
              "    .colab-df-container {\n",
              "      display:flex;\n",
              "      flex-wrap:wrap;\n",
              "      gap: 12px;\n",
              "    }\n",
              "\n",
              "    .colab-df-convert {\n",
              "      background-color: #E8F0FE;\n",
              "      border: none;\n",
              "      border-radius: 50%;\n",
              "      cursor: pointer;\n",
              "      display: none;\n",
              "      fill: #1967D2;\n",
              "      height: 32px;\n",
              "      padding: 0 0 0 0;\n",
              "      width: 32px;\n",
              "    }\n",
              "\n",
              "    .colab-df-convert:hover {\n",
              "      background-color: #E2EBFA;\n",
              "      box-shadow: 0px 1px 2px rgba(60, 64, 67, 0.3), 0px 1px 3px 1px rgba(60, 64, 67, 0.15);\n",
              "      fill: #174EA6;\n",
              "    }\n",
              "\n",
              "    [theme=dark] .colab-df-convert {\n",
              "      background-color: #3B4455;\n",
              "      fill: #D2E3FC;\n",
              "    }\n",
              "\n",
              "    [theme=dark] .colab-df-convert:hover {\n",
              "      background-color: #434B5C;\n",
              "      box-shadow: 0px 1px 3px 1px rgba(0, 0, 0, 0.15);\n",
              "      filter: drop-shadow(0px 1px 2px rgba(0, 0, 0, 0.3));\n",
              "      fill: #FFFFFF;\n",
              "    }\n",
              "  </style>\n",
              "\n",
              "      <script>\n",
              "        const buttonEl =\n",
              "          document.querySelector('#df-f77608c5-77fd-4ae9-941e-2bdcea90b5bc button.colab-df-convert');\n",
              "        buttonEl.style.display =\n",
              "          google.colab.kernel.accessAllowed ? 'block' : 'none';\n",
              "\n",
              "        async function convertToInteractive(key) {\n",
              "          const element = document.querySelector('#df-f77608c5-77fd-4ae9-941e-2bdcea90b5bc');\n",
              "          const dataTable =\n",
              "            await google.colab.kernel.invokeFunction('convertToInteractive',\n",
              "                                                     [key], {});\n",
              "          if (!dataTable) return;\n",
              "\n",
              "          const docLinkHtml = 'Like what you see? Visit the ' +\n",
              "            '<a target=\"_blank\" href=https://colab.research.google.com/notebooks/data_table.ipynb>data table notebook</a>'\n",
              "            + ' to learn more about interactive tables.';\n",
              "          element.innerHTML = '';\n",
              "          dataTable['output_type'] = 'display_data';\n",
              "          await google.colab.output.renderOutput(dataTable, element);\n",
              "          const docLink = document.createElement('div');\n",
              "          docLink.innerHTML = docLinkHtml;\n",
              "          element.appendChild(docLink);\n",
              "        }\n",
              "      </script>\n",
              "    </div>\n",
              "  </div>\n",
              "  "
            ]
          },
          "metadata": {},
          "execution_count": 25
        }
      ]
    },
    {
      "cell_type": "code",
      "source": [
        "# 切分訓練集和測試集\n",
        "X_train, X_test, y_train, y_test = train_test_split(X, y, test_size=0.3, random_state=42)"
      ],
      "metadata": {
        "id": "uh9yV2PNLL90"
      },
      "execution_count": null,
      "outputs": []
    },
    {
      "cell_type": "code",
      "source": [
        "# 創建線性回歸模型\n",
        "model = LinearRegression()"
      ],
      "metadata": {
        "id": "S2uY_LO2LW1j"
      },
      "execution_count": null,
      "outputs": []
    },
    {
      "cell_type": "code",
      "source": [
        "# 訓練模型\n",
        "model.fit(X_train, y_train)"
      ],
      "metadata": {
        "colab": {
          "base_uri": "https://localhost:8080/",
          "height": 75
        },
        "id": "eoWV8f72LX9y",
        "outputId": "831af0cd-fa10-49ea-eda9-68cef98108df"
      },
      "execution_count": null,
      "outputs": [
        {
          "output_type": "execute_result",
          "data": {
            "text/plain": [
              "LinearRegression()"
            ],
            "text/html": [
              "<style>#sk-container-id-2 {color: black;background-color: white;}#sk-container-id-2 pre{padding: 0;}#sk-container-id-2 div.sk-toggleable {background-color: white;}#sk-container-id-2 label.sk-toggleable__label {cursor: pointer;display: block;width: 100%;margin-bottom: 0;padding: 0.3em;box-sizing: border-box;text-align: center;}#sk-container-id-2 label.sk-toggleable__label-arrow:before {content: \"▸\";float: left;margin-right: 0.25em;color: #696969;}#sk-container-id-2 label.sk-toggleable__label-arrow:hover:before {color: black;}#sk-container-id-2 div.sk-estimator:hover label.sk-toggleable__label-arrow:before {color: black;}#sk-container-id-2 div.sk-toggleable__content {max-height: 0;max-width: 0;overflow: hidden;text-align: left;background-color: #f0f8ff;}#sk-container-id-2 div.sk-toggleable__content pre {margin: 0.2em;color: black;border-radius: 0.25em;background-color: #f0f8ff;}#sk-container-id-2 input.sk-toggleable__control:checked~div.sk-toggleable__content {max-height: 200px;max-width: 100%;overflow: auto;}#sk-container-id-2 input.sk-toggleable__control:checked~label.sk-toggleable__label-arrow:before {content: \"▾\";}#sk-container-id-2 div.sk-estimator input.sk-toggleable__control:checked~label.sk-toggleable__label {background-color: #d4ebff;}#sk-container-id-2 div.sk-label input.sk-toggleable__control:checked~label.sk-toggleable__label {background-color: #d4ebff;}#sk-container-id-2 input.sk-hidden--visually {border: 0;clip: rect(1px 1px 1px 1px);clip: rect(1px, 1px, 1px, 1px);height: 1px;margin: -1px;overflow: hidden;padding: 0;position: absolute;width: 1px;}#sk-container-id-2 div.sk-estimator {font-family: monospace;background-color: #f0f8ff;border: 1px dotted black;border-radius: 0.25em;box-sizing: border-box;margin-bottom: 0.5em;}#sk-container-id-2 div.sk-estimator:hover {background-color: #d4ebff;}#sk-container-id-2 div.sk-parallel-item::after {content: \"\";width: 100%;border-bottom: 1px solid gray;flex-grow: 1;}#sk-container-id-2 div.sk-label:hover label.sk-toggleable__label {background-color: #d4ebff;}#sk-container-id-2 div.sk-serial::before {content: \"\";position: absolute;border-left: 1px solid gray;box-sizing: border-box;top: 0;bottom: 0;left: 50%;z-index: 0;}#sk-container-id-2 div.sk-serial {display: flex;flex-direction: column;align-items: center;background-color: white;padding-right: 0.2em;padding-left: 0.2em;position: relative;}#sk-container-id-2 div.sk-item {position: relative;z-index: 1;}#sk-container-id-2 div.sk-parallel {display: flex;align-items: stretch;justify-content: center;background-color: white;position: relative;}#sk-container-id-2 div.sk-item::before, #sk-container-id-2 div.sk-parallel-item::before {content: \"\";position: absolute;border-left: 1px solid gray;box-sizing: border-box;top: 0;bottom: 0;left: 50%;z-index: -1;}#sk-container-id-2 div.sk-parallel-item {display: flex;flex-direction: column;z-index: 1;position: relative;background-color: white;}#sk-container-id-2 div.sk-parallel-item:first-child::after {align-self: flex-end;width: 50%;}#sk-container-id-2 div.sk-parallel-item:last-child::after {align-self: flex-start;width: 50%;}#sk-container-id-2 div.sk-parallel-item:only-child::after {width: 0;}#sk-container-id-2 div.sk-dashed-wrapped {border: 1px dashed gray;margin: 0 0.4em 0.5em 0.4em;box-sizing: border-box;padding-bottom: 0.4em;background-color: white;}#sk-container-id-2 div.sk-label label {font-family: monospace;font-weight: bold;display: inline-block;line-height: 1.2em;}#sk-container-id-2 div.sk-label-container {text-align: center;}#sk-container-id-2 div.sk-container {/* jupyter's `normalize.less` sets `[hidden] { display: none; }` but bootstrap.min.css set `[hidden] { display: none !important; }` so we also need the `!important` here to be able to override the default hidden behavior on the sphinx rendered scikit-learn.org. See: https://github.com/scikit-learn/scikit-learn/issues/21755 */display: inline-block !important;position: relative;}#sk-container-id-2 div.sk-text-repr-fallback {display: none;}</style><div id=\"sk-container-id-2\" class=\"sk-top-container\"><div class=\"sk-text-repr-fallback\"><pre>LinearRegression()</pre><b>In a Jupyter environment, please rerun this cell to show the HTML representation or trust the notebook. <br />On GitHub, the HTML representation is unable to render, please try loading this page with nbviewer.org.</b></div><div class=\"sk-container\" hidden><div class=\"sk-item\"><div class=\"sk-estimator sk-toggleable\"><input class=\"sk-toggleable__control sk-hidden--visually\" id=\"sk-estimator-id-2\" type=\"checkbox\" checked><label for=\"sk-estimator-id-2\" class=\"sk-toggleable__label sk-toggleable__label-arrow\">LinearRegression</label><div class=\"sk-toggleable__content\"><pre>LinearRegression()</pre></div></div></div></div></div>"
            ]
          },
          "metadata": {},
          "execution_count": 28
        }
      ]
    },
    {
      "cell_type": "code",
      "source": [
        "# 使用模型進行預測\n",
        "y_pred = model.predict(X_test)"
      ],
      "metadata": {
        "id": "ExOnpaILLaO4"
      },
      "execution_count": null,
      "outputs": []
    },
    {
      "cell_type": "code",
      "source": [
        "# y_pred vs target\n",
        "from sklearn.metrics import mean_squared_error, mean_absolute_error, r2_score\n",
        "\n",
        "# 計算均方誤差\n",
        "mse = mean_squared_error(y_test, y_pred)\n",
        "\n",
        "# 計算平均絕對誤差\n",
        "mae = mean_absolute_error(y_test, y_pred)\n",
        "\n",
        "# 計算決定係數\n",
        "r2 = r2_score(y_test, y_pred)\n",
        "\n",
        "print('Mean Squared Error:', mse)\n",
        "print('Mean Absolute Error:', mae)\n",
        "print('R^2:', r2)\n"
      ],
      "metadata": {
        "colab": {
          "base_uri": "https://localhost:8080/"
        },
        "id": "YMjM4Q4STEc3",
        "outputId": "35e05c65-fb0a-4cf3-cbb1-40faf3713654"
      },
      "execution_count": null,
      "outputs": [
        {
          "output_type": "stream",
          "name": "stdout",
          "text": [
            "Mean Squared Error: 21.51744423117753\n",
            "Mean Absolute Error: 3.162709871457436\n",
            "R^2: 0.7112260057484889\n"
          ]
        }
      ]
    },
    {
      "cell_type": "markdown",
      "source": [
        "### 決策樹 (Decision Tree)\n",
        "\n",
        "---\n",
        "\n",
        "決策樹是一種樹狀模型，可以用於分類和回歸問題。在 scikit-learn 中，可以使用 DecisionTreeClassifier 和 DecisionTreeRegressor 類進行決策樹模型的建立：\n",
        "\n",
        "```\n",
        "from sklearn.tree import DecisionTreeClassifier, DecisionTreeRegressor\n",
        "\n",
        "model = DecisionTreeClassifier()\n",
        "model.fit(X_train, y_train)\n",
        "y_pred = model.predict(X_test)\n",
        "\n",
        "model = DecisionTreeRegressor()\n",
        "model.fit(X_train, y_train)\n",
        "y_pred = model.predict(X_test)\n",
        "```\n",
        "其中，DecisionTreeClassifier 用於分類問題，DecisionTreeRegressor 用於回歸問題。\n"
      ],
      "metadata": {
        "id": "RG4Myou-NJdP"
      }
    },
    {
      "cell_type": "code",
      "source": [
        "from sklearn.datasets import load_iris\n",
        "from sklearn.model_selection import train_test_split\n",
        "from sklearn.tree import DecisionTreeClassifier\n",
        "# 分類問題範例\n",
        "# 載入 iris 數據集\n",
        "data = load_iris()"
      ],
      "metadata": {
        "id": "HHsxqborNYTu"
      },
      "execution_count": null,
      "outputs": []
    },
    {
      "cell_type": "code",
      "source": [
        "# 切分訓練集和測試集\n",
        "X_train, X_test, y_train, y_test = train_test_split(data.data, data.target, test_size=0.3, random_state=42)"
      ],
      "metadata": {
        "id": "exPUXbmnNpPq"
      },
      "execution_count": null,
      "outputs": []
    },
    {
      "cell_type": "code",
      "source": [
        "# 創建分類樹模型\n",
        "clf_model = DecisionTreeClassifier()\n",
        "\n",
        "# 訓練模型\n",
        "clf_model.fit(X_train, y_train)\n",
        "\n",
        "# 使用模型進行預測\n",
        "y_pred_clf = clf_model.predict(X_test)\n",
        "y_pred_clf"
      ],
      "metadata": {
        "colab": {
          "base_uri": "https://localhost:8080/"
        },
        "id": "KVHdOkEANvvb",
        "outputId": "8582e7dc-1c2c-480d-9799-6a1eee1d0d3a"
      },
      "execution_count": null,
      "outputs": [
        {
          "output_type": "execute_result",
          "data": {
            "text/plain": [
              "array([1, 0, 2, 1, 1, 0, 1, 2, 1, 1, 2, 0, 0, 0, 0, 1, 2, 1, 1, 2, 0, 2,\n",
              "       0, 2, 2, 2, 2, 2, 0, 0, 0, 0, 1, 0, 0, 2, 1, 0, 0, 0, 2, 1, 1, 0,\n",
              "       0])"
            ]
          },
          "metadata": {},
          "execution_count": 21
        }
      ]
    },
    {
      "cell_type": "code",
      "source": [
        "from sklearn.metrics import accuracy_score\n",
        "\n",
        "# 計算模型在測試集上的準確率\n",
        "accuracy = accuracy_score(y_test, y_pred_clf)\n",
        "print('Decision Tree Classifier Accuracy:', accuracy)\n"
      ],
      "metadata": {
        "colab": {
          "base_uri": "https://localhost:8080/"
        },
        "id": "-TQQL_x4ShVf",
        "outputId": "45872959-1729-42de-e22a-228b83ca5837"
      },
      "execution_count": null,
      "outputs": [
        {
          "output_type": "stream",
          "name": "stdout",
          "text": [
            "Decision Tree Classifier Accuracy: 1.0\n"
          ]
        }
      ]
    },
    {
      "cell_type": "markdown",
      "source": [
        "### 隨機森林 (Random Forest)\n",
        "\n",
        "---\n",
        "是一種集成學習方法，將多個決策樹組合在一起，通過投票或平均等方式來做出最終預測\n",
        "\n",
        "在 scikit-learn 中，可以使用 RandomForestClassifier 和 RandomForestRegressor 類進行隨機森林模型的建立：\n",
        "\n",
        "\n",
        "\n",
        "```\n",
        "from sklearn.ensemble import RandomForestClassifier, RandomForestRegressor\n",
        "\n",
        "model = RandomForestClassifier()\n",
        "model.fit(X_train, y_train)\n",
        "y_pred = model.predict(X_test)\n",
        "\n",
        "model = RandomForestRegressor()\n",
        "model.fit(X_train, y_train)\n",
        "y_pred = model.predict(X_test)\n",
        "```\n",
        "\n"
      ],
      "metadata": {
        "id": "6AlCLw-1XEaW"
      }
    },
    {
      "cell_type": "markdown",
      "source": [
        "##### RandomForestRegressor"
      ],
      "metadata": {
        "id": "4l2Chsa-b1d7"
      }
    },
    {
      "cell_type": "code",
      "source": [
        "import pandas as pd\n",
        "from sklearn.model_selection import train_test_split\n",
        "from sklearn.ensemble import RandomForestRegressor\n",
        "\n",
        "# 分類問題範例\n",
        "# 創建 iris 自定義資料集\n",
        "iris_data = {\n",
        "    'sepal_length': [5.1, 4.9, 4.7, 4.6, 5.0, 6.2, 6.4, 6.0, 6.9, 6.3, 5.8, 5.4, 5.6, 5.1, 5.7],\n",
        "    'sepal_width': [3.5, 3.0, 3.2, 3.1, 3.6, 2.9, 2.8, 3.0, 3.1, 2.5, 2.8, 3.0, 2.7, 3.8, 2.8],\n",
        "    'petal_length': [1.4, 1.4, 1.3, 1.5, 1.4, 4.3, 5.6, 4.8, 5.1, 5.0, 4.0, 4.5, 4.2, 1.6, 4.5],\n",
        "    'petal_width': [0.2, 0.2, 0.2, 0.2, 0.2, 1.3, 2.2, 1.8, 2.3, 1.9, 1.2, 1.5, 1.3, 0.2, 1.3],\n",
        "    'species': ['setosa', 'setosa', 'setosa', 'setosa', 'setosa', 'virginica', 'virginica', 'virginica', 'virginica', 'virginica', 'versicolor', 'versicolor', 'versicolor', 'versicolor', 'versicolor']\n",
        "}\n",
        "# 轉換為 dataframe\n",
        "iris_df = pd.DataFrame(iris_data)"
      ],
      "metadata": {
        "id": "n436rForbRe6"
      },
      "execution_count": null,
      "outputs": []
    },
    {
      "cell_type": "code",
      "source": [
        "# 將類別變量轉換為數值變量\n",
        "iris_df['species'] = pd.factorize(iris_df['species'])[0]\n",
        "iris_df"
      ],
      "metadata": {
        "colab": {
          "base_uri": "https://localhost:8080/",
          "height": 520
        },
        "id": "5l1hjpoKbbJM",
        "outputId": "18dea4ae-14f2-4e0c-894b-0bbee0047e15"
      },
      "execution_count": null,
      "outputs": [
        {
          "output_type": "execute_result",
          "data": {
            "text/plain": [
              "    sepal_length  sepal_width  petal_length  petal_width  species\n",
              "0            5.1          3.5           1.4          0.2        0\n",
              "1            4.9          3.0           1.4          0.2        0\n",
              "2            4.7          3.2           1.3          0.2        0\n",
              "3            4.6          3.1           1.5          0.2        0\n",
              "4            5.0          3.6           1.4          0.2        0\n",
              "5            6.2          2.9           4.3          1.3        1\n",
              "6            6.4          2.8           5.6          2.2        1\n",
              "7            6.0          3.0           4.8          1.8        1\n",
              "8            6.9          3.1           5.1          2.3        1\n",
              "9            6.3          2.5           5.0          1.9        1\n",
              "10           5.8          2.8           4.0          1.2        2\n",
              "11           5.4          3.0           4.5          1.5        2\n",
              "12           5.6          2.7           4.2          1.3        2\n",
              "13           5.1          3.8           1.6          0.2        2\n",
              "14           5.7          2.8           4.5          1.3        2"
            ],
            "text/html": [
              "\n",
              "  <div id=\"df-8de3dc74-6eb7-4893-b537-f339a75c4cb9\">\n",
              "    <div class=\"colab-df-container\">\n",
              "      <div>\n",
              "<style scoped>\n",
              "    .dataframe tbody tr th:only-of-type {\n",
              "        vertical-align: middle;\n",
              "    }\n",
              "\n",
              "    .dataframe tbody tr th {\n",
              "        vertical-align: top;\n",
              "    }\n",
              "\n",
              "    .dataframe thead th {\n",
              "        text-align: right;\n",
              "    }\n",
              "</style>\n",
              "<table border=\"1\" class=\"dataframe\">\n",
              "  <thead>\n",
              "    <tr style=\"text-align: right;\">\n",
              "      <th></th>\n",
              "      <th>sepal_length</th>\n",
              "      <th>sepal_width</th>\n",
              "      <th>petal_length</th>\n",
              "      <th>petal_width</th>\n",
              "      <th>species</th>\n",
              "    </tr>\n",
              "  </thead>\n",
              "  <tbody>\n",
              "    <tr>\n",
              "      <th>0</th>\n",
              "      <td>5.1</td>\n",
              "      <td>3.5</td>\n",
              "      <td>1.4</td>\n",
              "      <td>0.2</td>\n",
              "      <td>0</td>\n",
              "    </tr>\n",
              "    <tr>\n",
              "      <th>1</th>\n",
              "      <td>4.9</td>\n",
              "      <td>3.0</td>\n",
              "      <td>1.4</td>\n",
              "      <td>0.2</td>\n",
              "      <td>0</td>\n",
              "    </tr>\n",
              "    <tr>\n",
              "      <th>2</th>\n",
              "      <td>4.7</td>\n",
              "      <td>3.2</td>\n",
              "      <td>1.3</td>\n",
              "      <td>0.2</td>\n",
              "      <td>0</td>\n",
              "    </tr>\n",
              "    <tr>\n",
              "      <th>3</th>\n",
              "      <td>4.6</td>\n",
              "      <td>3.1</td>\n",
              "      <td>1.5</td>\n",
              "      <td>0.2</td>\n",
              "      <td>0</td>\n",
              "    </tr>\n",
              "    <tr>\n",
              "      <th>4</th>\n",
              "      <td>5.0</td>\n",
              "      <td>3.6</td>\n",
              "      <td>1.4</td>\n",
              "      <td>0.2</td>\n",
              "      <td>0</td>\n",
              "    </tr>\n",
              "    <tr>\n",
              "      <th>5</th>\n",
              "      <td>6.2</td>\n",
              "      <td>2.9</td>\n",
              "      <td>4.3</td>\n",
              "      <td>1.3</td>\n",
              "      <td>1</td>\n",
              "    </tr>\n",
              "    <tr>\n",
              "      <th>6</th>\n",
              "      <td>6.4</td>\n",
              "      <td>2.8</td>\n",
              "      <td>5.6</td>\n",
              "      <td>2.2</td>\n",
              "      <td>1</td>\n",
              "    </tr>\n",
              "    <tr>\n",
              "      <th>7</th>\n",
              "      <td>6.0</td>\n",
              "      <td>3.0</td>\n",
              "      <td>4.8</td>\n",
              "      <td>1.8</td>\n",
              "      <td>1</td>\n",
              "    </tr>\n",
              "    <tr>\n",
              "      <th>8</th>\n",
              "      <td>6.9</td>\n",
              "      <td>3.1</td>\n",
              "      <td>5.1</td>\n",
              "      <td>2.3</td>\n",
              "      <td>1</td>\n",
              "    </tr>\n",
              "    <tr>\n",
              "      <th>9</th>\n",
              "      <td>6.3</td>\n",
              "      <td>2.5</td>\n",
              "      <td>5.0</td>\n",
              "      <td>1.9</td>\n",
              "      <td>1</td>\n",
              "    </tr>\n",
              "    <tr>\n",
              "      <th>10</th>\n",
              "      <td>5.8</td>\n",
              "      <td>2.8</td>\n",
              "      <td>4.0</td>\n",
              "      <td>1.2</td>\n",
              "      <td>2</td>\n",
              "    </tr>\n",
              "    <tr>\n",
              "      <th>11</th>\n",
              "      <td>5.4</td>\n",
              "      <td>3.0</td>\n",
              "      <td>4.5</td>\n",
              "      <td>1.5</td>\n",
              "      <td>2</td>\n",
              "    </tr>\n",
              "    <tr>\n",
              "      <th>12</th>\n",
              "      <td>5.6</td>\n",
              "      <td>2.7</td>\n",
              "      <td>4.2</td>\n",
              "      <td>1.3</td>\n",
              "      <td>2</td>\n",
              "    </tr>\n",
              "    <tr>\n",
              "      <th>13</th>\n",
              "      <td>5.1</td>\n",
              "      <td>3.8</td>\n",
              "      <td>1.6</td>\n",
              "      <td>0.2</td>\n",
              "      <td>2</td>\n",
              "    </tr>\n",
              "    <tr>\n",
              "      <th>14</th>\n",
              "      <td>5.7</td>\n",
              "      <td>2.8</td>\n",
              "      <td>4.5</td>\n",
              "      <td>1.3</td>\n",
              "      <td>2</td>\n",
              "    </tr>\n",
              "  </tbody>\n",
              "</table>\n",
              "</div>\n",
              "      <button class=\"colab-df-convert\" onclick=\"convertToInteractive('df-8de3dc74-6eb7-4893-b537-f339a75c4cb9')\"\n",
              "              title=\"Convert this dataframe to an interactive table.\"\n",
              "              style=\"display:none;\">\n",
              "        \n",
              "  <svg xmlns=\"http://www.w3.org/2000/svg\" height=\"24px\"viewBox=\"0 0 24 24\"\n",
              "       width=\"24px\">\n",
              "    <path d=\"M0 0h24v24H0V0z\" fill=\"none\"/>\n",
              "    <path d=\"M18.56 5.44l.94 2.06.94-2.06 2.06-.94-2.06-.94-.94-2.06-.94 2.06-2.06.94zm-11 1L8.5 8.5l.94-2.06 2.06-.94-2.06-.94L8.5 2.5l-.94 2.06-2.06.94zm10 10l.94 2.06.94-2.06 2.06-.94-2.06-.94-.94-2.06-.94 2.06-2.06.94z\"/><path d=\"M17.41 7.96l-1.37-1.37c-.4-.4-.92-.59-1.43-.59-.52 0-1.04.2-1.43.59L10.3 9.45l-7.72 7.72c-.78.78-.78 2.05 0 2.83L4 21.41c.39.39.9.59 1.41.59.51 0 1.02-.2 1.41-.59l7.78-7.78 2.81-2.81c.8-.78.8-2.07 0-2.86zM5.41 20L4 18.59l7.72-7.72 1.47 1.35L5.41 20z\"/>\n",
              "  </svg>\n",
              "      </button>\n",
              "      \n",
              "  <style>\n",
              "    .colab-df-container {\n",
              "      display:flex;\n",
              "      flex-wrap:wrap;\n",
              "      gap: 12px;\n",
              "    }\n",
              "\n",
              "    .colab-df-convert {\n",
              "      background-color: #E8F0FE;\n",
              "      border: none;\n",
              "      border-radius: 50%;\n",
              "      cursor: pointer;\n",
              "      display: none;\n",
              "      fill: #1967D2;\n",
              "      height: 32px;\n",
              "      padding: 0 0 0 0;\n",
              "      width: 32px;\n",
              "    }\n",
              "\n",
              "    .colab-df-convert:hover {\n",
              "      background-color: #E2EBFA;\n",
              "      box-shadow: 0px 1px 2px rgba(60, 64, 67, 0.3), 0px 1px 3px 1px rgba(60, 64, 67, 0.15);\n",
              "      fill: #174EA6;\n",
              "    }\n",
              "\n",
              "    [theme=dark] .colab-df-convert {\n",
              "      background-color: #3B4455;\n",
              "      fill: #D2E3FC;\n",
              "    }\n",
              "\n",
              "    [theme=dark] .colab-df-convert:hover {\n",
              "      background-color: #434B5C;\n",
              "      box-shadow: 0px 1px 3px 1px rgba(0, 0, 0, 0.15);\n",
              "      filter: drop-shadow(0px 1px 2px rgba(0, 0, 0, 0.3));\n",
              "      fill: #FFFFFF;\n",
              "    }\n",
              "  </style>\n",
              "\n",
              "      <script>\n",
              "        const buttonEl =\n",
              "          document.querySelector('#df-8de3dc74-6eb7-4893-b537-f339a75c4cb9 button.colab-df-convert');\n",
              "        buttonEl.style.display =\n",
              "          google.colab.kernel.accessAllowed ? 'block' : 'none';\n",
              "\n",
              "        async function convertToInteractive(key) {\n",
              "          const element = document.querySelector('#df-8de3dc74-6eb7-4893-b537-f339a75c4cb9');\n",
              "          const dataTable =\n",
              "            await google.colab.kernel.invokeFunction('convertToInteractive',\n",
              "                                                     [key], {});\n",
              "          if (!dataTable) return;\n",
              "\n",
              "          const docLinkHtml = 'Like what you see? Visit the ' +\n",
              "            '<a target=\"_blank\" href=https://colab.research.google.com/notebooks/data_table.ipynb>data table notebook</a>'\n",
              "            + ' to learn more about interactive tables.';\n",
              "          element.innerHTML = '';\n",
              "          dataTable['output_type'] = 'display_data';\n",
              "          await google.colab.output.renderOutput(dataTable, element);\n",
              "          const docLink = document.createElement('div');\n",
              "          docLink.innerHTML = docLinkHtml;\n",
              "          element.appendChild(docLink);\n",
              "        }\n",
              "      </script>\n",
              "    </div>\n",
              "  </div>\n",
              "  "
            ]
          },
          "metadata": {},
          "execution_count": 36
        }
      ]
    },
    {
      "cell_type": "code",
      "source": [
        "# 分割資料為訓練集與測試集\n",
        "X_train, X_test, y_train, y_test = train_test_split(iris_df.drop(columns=['sepal_length']), iris_df['sepal_length'], test_size=0.3, random_state=42)"
      ],
      "metadata": {
        "id": "EpasJ7kjbrVq"
      },
      "execution_count": null,
      "outputs": []
    },
    {
      "cell_type": "code",
      "source": [
        "# 創建分類森林模型\n",
        "reg_model = RandomForestRegressor()\n",
        "\n",
        "# 訓練模型\n",
        "reg_model.fit(X_train, y_train)\n",
        "\n",
        "# 使用模型進行預測\n",
        "y_pred_reg = reg_model.predict(X_test)\n",
        "y_pred_reg"
      ],
      "metadata": {
        "colab": {
          "base_uri": "https://localhost:8080/"
        },
        "id": "MO9cwokobsjD",
        "outputId": "e6130a19-9d44-4584-9916-2bd5d0001450"
      },
      "execution_count": null,
      "outputs": [
        {
          "output_type": "execute_result",
          "data": {
            "text/plain": [
              "array([6.232, 5.719, 4.934, 5.109, 5.801])"
            ]
          },
          "metadata": {},
          "execution_count": 38
        }
      ]
    },
    {
      "cell_type": "code",
      "source": [
        "# 將 y_pred_reg 轉換為 DataFrame 格式\n",
        "y_pred_reg_df = pd.DataFrame(y_pred_reg, columns=['y_pred_reg'])\n",
        "\n",
        "# 合併 y_pred_reg_df 和 y_test\n",
        "result = pd.concat([y_test.reset_index(drop=True), y_pred_reg_df], axis=1)\n",
        "\n",
        "result"
      ],
      "metadata": {
        "colab": {
          "base_uri": "https://localhost:8080/",
          "height": 206
        },
        "id": "l5Q33T-Zk7QE",
        "outputId": "5b51500c-8e85-45b9-fb66-1a5d826cf8fa"
      },
      "execution_count": null,
      "outputs": [
        {
          "output_type": "execute_result",
          "data": {
            "text/plain": [
              "      species  y_pred_reg\n",
              "0   virginica       6.232\n",
              "1  versicolor       5.719\n",
              "2      setosa       4.934\n",
              "3  versicolor       5.109\n",
              "4   virginica       5.801"
            ],
            "text/html": [
              "\n",
              "  <div id=\"df-f5c598f4-fc4a-4636-ad63-f0e60b00dca3\">\n",
              "    <div class=\"colab-df-container\">\n",
              "      <div>\n",
              "<style scoped>\n",
              "    .dataframe tbody tr th:only-of-type {\n",
              "        vertical-align: middle;\n",
              "    }\n",
              "\n",
              "    .dataframe tbody tr th {\n",
              "        vertical-align: top;\n",
              "    }\n",
              "\n",
              "    .dataframe thead th {\n",
              "        text-align: right;\n",
              "    }\n",
              "</style>\n",
              "<table border=\"1\" class=\"dataframe\">\n",
              "  <thead>\n",
              "    <tr style=\"text-align: right;\">\n",
              "      <th></th>\n",
              "      <th>species</th>\n",
              "      <th>y_pred_reg</th>\n",
              "    </tr>\n",
              "  </thead>\n",
              "  <tbody>\n",
              "    <tr>\n",
              "      <th>0</th>\n",
              "      <td>virginica</td>\n",
              "      <td>6.232</td>\n",
              "    </tr>\n",
              "    <tr>\n",
              "      <th>1</th>\n",
              "      <td>versicolor</td>\n",
              "      <td>5.719</td>\n",
              "    </tr>\n",
              "    <tr>\n",
              "      <th>2</th>\n",
              "      <td>setosa</td>\n",
              "      <td>4.934</td>\n",
              "    </tr>\n",
              "    <tr>\n",
              "      <th>3</th>\n",
              "      <td>versicolor</td>\n",
              "      <td>5.109</td>\n",
              "    </tr>\n",
              "    <tr>\n",
              "      <th>4</th>\n",
              "      <td>virginica</td>\n",
              "      <td>5.801</td>\n",
              "    </tr>\n",
              "  </tbody>\n",
              "</table>\n",
              "</div>\n",
              "      <button class=\"colab-df-convert\" onclick=\"convertToInteractive('df-f5c598f4-fc4a-4636-ad63-f0e60b00dca3')\"\n",
              "              title=\"Convert this dataframe to an interactive table.\"\n",
              "              style=\"display:none;\">\n",
              "        \n",
              "  <svg xmlns=\"http://www.w3.org/2000/svg\" height=\"24px\"viewBox=\"0 0 24 24\"\n",
              "       width=\"24px\">\n",
              "    <path d=\"M0 0h24v24H0V0z\" fill=\"none\"/>\n",
              "    <path d=\"M18.56 5.44l.94 2.06.94-2.06 2.06-.94-2.06-.94-.94-2.06-.94 2.06-2.06.94zm-11 1L8.5 8.5l.94-2.06 2.06-.94-2.06-.94L8.5 2.5l-.94 2.06-2.06.94zm10 10l.94 2.06.94-2.06 2.06-.94-2.06-.94-.94-2.06-.94 2.06-2.06.94z\"/><path d=\"M17.41 7.96l-1.37-1.37c-.4-.4-.92-.59-1.43-.59-.52 0-1.04.2-1.43.59L10.3 9.45l-7.72 7.72c-.78.78-.78 2.05 0 2.83L4 21.41c.39.39.9.59 1.41.59.51 0 1.02-.2 1.41-.59l7.78-7.78 2.81-2.81c.8-.78.8-2.07 0-2.86zM5.41 20L4 18.59l7.72-7.72 1.47 1.35L5.41 20z\"/>\n",
              "  </svg>\n",
              "      </button>\n",
              "      \n",
              "  <style>\n",
              "    .colab-df-container {\n",
              "      display:flex;\n",
              "      flex-wrap:wrap;\n",
              "      gap: 12px;\n",
              "    }\n",
              "\n",
              "    .colab-df-convert {\n",
              "      background-color: #E8F0FE;\n",
              "      border: none;\n",
              "      border-radius: 50%;\n",
              "      cursor: pointer;\n",
              "      display: none;\n",
              "      fill: #1967D2;\n",
              "      height: 32px;\n",
              "      padding: 0 0 0 0;\n",
              "      width: 32px;\n",
              "    }\n",
              "\n",
              "    .colab-df-convert:hover {\n",
              "      background-color: #E2EBFA;\n",
              "      box-shadow: 0px 1px 2px rgba(60, 64, 67, 0.3), 0px 1px 3px 1px rgba(60, 64, 67, 0.15);\n",
              "      fill: #174EA6;\n",
              "    }\n",
              "\n",
              "    [theme=dark] .colab-df-convert {\n",
              "      background-color: #3B4455;\n",
              "      fill: #D2E3FC;\n",
              "    }\n",
              "\n",
              "    [theme=dark] .colab-df-convert:hover {\n",
              "      background-color: #434B5C;\n",
              "      box-shadow: 0px 1px 3px 1px rgba(0, 0, 0, 0.15);\n",
              "      filter: drop-shadow(0px 1px 2px rgba(0, 0, 0, 0.3));\n",
              "      fill: #FFFFFF;\n",
              "    }\n",
              "  </style>\n",
              "\n",
              "      <script>\n",
              "        const buttonEl =\n",
              "          document.querySelector('#df-f5c598f4-fc4a-4636-ad63-f0e60b00dca3 button.colab-df-convert');\n",
              "        buttonEl.style.display =\n",
              "          google.colab.kernel.accessAllowed ? 'block' : 'none';\n",
              "\n",
              "        async function convertToInteractive(key) {\n",
              "          const element = document.querySelector('#df-f5c598f4-fc4a-4636-ad63-f0e60b00dca3');\n",
              "          const dataTable =\n",
              "            await google.colab.kernel.invokeFunction('convertToInteractive',\n",
              "                                                     [key], {});\n",
              "          if (!dataTable) return;\n",
              "\n",
              "          const docLinkHtml = 'Like what you see? Visit the ' +\n",
              "            '<a target=\"_blank\" href=https://colab.research.google.com/notebooks/data_table.ipynb>data table notebook</a>'\n",
              "            + ' to learn more about interactive tables.';\n",
              "          element.innerHTML = '';\n",
              "          dataTable['output_type'] = 'display_data';\n",
              "          await google.colab.output.renderOutput(dataTable, element);\n",
              "          const docLink = document.createElement('div');\n",
              "          docLink.innerHTML = docLinkHtml;\n",
              "          element.appendChild(docLink);\n",
              "        }\n",
              "      </script>\n",
              "    </div>\n",
              "  </div>\n",
              "  "
            ]
          },
          "metadata": {},
          "execution_count": 54
        }
      ]
    },
    {
      "cell_type": "markdown",
      "source": [
        "##### RandomForestClassifier"
      ],
      "metadata": {
        "id": "_zrBCIwgb4HN"
      }
    },
    {
      "cell_type": "code",
      "source": [
        "import pandas as pd\n",
        "from sklearn.model_selection import train_test_split\n",
        "from sklearn.ensemble import RandomForestClassifier\n",
        "\n",
        "# 分類問題範例\n",
        "# 創建 iris 自定義資料集\n",
        "iris_data = {\n",
        "    'sepal_length': [5.1, 4.9, 4.7, 4.6, 5.0, 6.2, 6.4, 6.0, 6.9, 6.3, 5.8, 5.4, 5.6, 5.1, 5.7],\n",
        "    'sepal_width': [3.5, 3.0, 3.2, 3.1, 3.6, 2.9, 2.8, 3.0, 3.1, 2.5, 2.8, 3.0, 2.7, 3.8, 2.8],\n",
        "    'petal_length': [1.4, 1.4, 1.3, 1.5, 1.4, 4.3, 5.6, 4.8, 5.1, 5.0, 4.0, 4.5, 4.2, 1.6, 4.5],\n",
        "    'petal_width': [0.2, 0.2, 0.2, 0.2, 0.2, 1.3, 2.2, 1.8, 2.3, 1.9, 1.2, 1.5, 1.3, 0.2, 1.3],\n",
        "    'species': ['setosa', 'setosa', 'setosa', 'setosa', 'setosa', 'virginica', 'virginica', 'virginica', 'virginica', 'virginica', 'versicolor', 'versicolor', 'versicolor', 'versicolor', 'versicolor']\n",
        "}\n",
        "\n",
        "# 轉換為 dataframe\n",
        "iris_df = pd.DataFrame(iris_data)"
      ],
      "metadata": {
        "id": "Q5KXrNwwb8h1"
      },
      "execution_count": null,
      "outputs": []
    },
    {
      "cell_type": "code",
      "source": [
        "# 分割資料為訓練集與測試集\n",
        "X_train, X_test, y_train, y_test = train_test_split(iris_df.drop(columns=['species']), iris_df['species'], test_size=0.3, random_state=42)\n",
        "\n",
        "# 創建分類森林模型\n",
        "clf_model = RandomForestClassifier()\n",
        "\n",
        "# 訓練模型\n",
        "clf_model.fit(X_train, y_train)\n",
        "\n",
        "# 使用模型進行預測\n",
        "y_pred_clf = clf_model.predict(X_test)\n",
        "y_pred_clf"
      ],
      "metadata": {
        "colab": {
          "base_uri": "https://localhost:8080/"
        },
        "id": "NRPpI8H4b-xe",
        "outputId": "774d5ee9-ccdb-478f-a3e8-1f28af1e6f62"
      },
      "execution_count": null,
      "outputs": [
        {
          "output_type": "execute_result",
          "data": {
            "text/plain": [
              "array(['virginica', 'versicolor', 'setosa', 'setosa', 'versicolor'],\n",
              "      dtype=object)"
            ]
          },
          "metadata": {},
          "execution_count": 40
        }
      ]
    },
    {
      "cell_type": "code",
      "source": [
        "y_pred_clf = pd.Series(y_pred_clf, name = 'y_pred_clf')\n",
        "y_pred_clf_df = pd.DataFrame(y_pred_clf, columns=['y_pred_clf'])\n",
        "result = pd.concat([y_test.reset_index(drop=True), y_pred_clf], axis=1)\n",
        "result"
      ],
      "metadata": {
        "colab": {
          "base_uri": "https://localhost:8080/",
          "height": 206
        },
        "id": "grxRLH5sl0t6",
        "outputId": "f63ef6b3-9713-41f7-b20c-15c91b4c5555"
      },
      "execution_count": null,
      "outputs": [
        {
          "output_type": "execute_result",
          "data": {
            "text/plain": [
              "      species  y_pred_clf\n",
              "0   virginica   virginica\n",
              "1  versicolor  versicolor\n",
              "2      setosa      setosa\n",
              "3  versicolor      setosa\n",
              "4   virginica  versicolor"
            ],
            "text/html": [
              "\n",
              "  <div id=\"df-682dc178-e832-46c0-be66-c8cc6ae52c49\">\n",
              "    <div class=\"colab-df-container\">\n",
              "      <div>\n",
              "<style scoped>\n",
              "    .dataframe tbody tr th:only-of-type {\n",
              "        vertical-align: middle;\n",
              "    }\n",
              "\n",
              "    .dataframe tbody tr th {\n",
              "        vertical-align: top;\n",
              "    }\n",
              "\n",
              "    .dataframe thead th {\n",
              "        text-align: right;\n",
              "    }\n",
              "</style>\n",
              "<table border=\"1\" class=\"dataframe\">\n",
              "  <thead>\n",
              "    <tr style=\"text-align: right;\">\n",
              "      <th></th>\n",
              "      <th>species</th>\n",
              "      <th>y_pred_clf</th>\n",
              "    </tr>\n",
              "  </thead>\n",
              "  <tbody>\n",
              "    <tr>\n",
              "      <th>0</th>\n",
              "      <td>virginica</td>\n",
              "      <td>virginica</td>\n",
              "    </tr>\n",
              "    <tr>\n",
              "      <th>1</th>\n",
              "      <td>versicolor</td>\n",
              "      <td>versicolor</td>\n",
              "    </tr>\n",
              "    <tr>\n",
              "      <th>2</th>\n",
              "      <td>setosa</td>\n",
              "      <td>setosa</td>\n",
              "    </tr>\n",
              "    <tr>\n",
              "      <th>3</th>\n",
              "      <td>versicolor</td>\n",
              "      <td>setosa</td>\n",
              "    </tr>\n",
              "    <tr>\n",
              "      <th>4</th>\n",
              "      <td>virginica</td>\n",
              "      <td>versicolor</td>\n",
              "    </tr>\n",
              "  </tbody>\n",
              "</table>\n",
              "</div>\n",
              "      <button class=\"colab-df-convert\" onclick=\"convertToInteractive('df-682dc178-e832-46c0-be66-c8cc6ae52c49')\"\n",
              "              title=\"Convert this dataframe to an interactive table.\"\n",
              "              style=\"display:none;\">\n",
              "        \n",
              "  <svg xmlns=\"http://www.w3.org/2000/svg\" height=\"24px\"viewBox=\"0 0 24 24\"\n",
              "       width=\"24px\">\n",
              "    <path d=\"M0 0h24v24H0V0z\" fill=\"none\"/>\n",
              "    <path d=\"M18.56 5.44l.94 2.06.94-2.06 2.06-.94-2.06-.94-.94-2.06-.94 2.06-2.06.94zm-11 1L8.5 8.5l.94-2.06 2.06-.94-2.06-.94L8.5 2.5l-.94 2.06-2.06.94zm10 10l.94 2.06.94-2.06 2.06-.94-2.06-.94-.94-2.06-.94 2.06-2.06.94z\"/><path d=\"M17.41 7.96l-1.37-1.37c-.4-.4-.92-.59-1.43-.59-.52 0-1.04.2-1.43.59L10.3 9.45l-7.72 7.72c-.78.78-.78 2.05 0 2.83L4 21.41c.39.39.9.59 1.41.59.51 0 1.02-.2 1.41-.59l7.78-7.78 2.81-2.81c.8-.78.8-2.07 0-2.86zM5.41 20L4 18.59l7.72-7.72 1.47 1.35L5.41 20z\"/>\n",
              "  </svg>\n",
              "      </button>\n",
              "      \n",
              "  <style>\n",
              "    .colab-df-container {\n",
              "      display:flex;\n",
              "      flex-wrap:wrap;\n",
              "      gap: 12px;\n",
              "    }\n",
              "\n",
              "    .colab-df-convert {\n",
              "      background-color: #E8F0FE;\n",
              "      border: none;\n",
              "      border-radius: 50%;\n",
              "      cursor: pointer;\n",
              "      display: none;\n",
              "      fill: #1967D2;\n",
              "      height: 32px;\n",
              "      padding: 0 0 0 0;\n",
              "      width: 32px;\n",
              "    }\n",
              "\n",
              "    .colab-df-convert:hover {\n",
              "      background-color: #E2EBFA;\n",
              "      box-shadow: 0px 1px 2px rgba(60, 64, 67, 0.3), 0px 1px 3px 1px rgba(60, 64, 67, 0.15);\n",
              "      fill: #174EA6;\n",
              "    }\n",
              "\n",
              "    [theme=dark] .colab-df-convert {\n",
              "      background-color: #3B4455;\n",
              "      fill: #D2E3FC;\n",
              "    }\n",
              "\n",
              "    [theme=dark] .colab-df-convert:hover {\n",
              "      background-color: #434B5C;\n",
              "      box-shadow: 0px 1px 3px 1px rgba(0, 0, 0, 0.15);\n",
              "      filter: drop-shadow(0px 1px 2px rgba(0, 0, 0, 0.3));\n",
              "      fill: #FFFFFF;\n",
              "    }\n",
              "  </style>\n",
              "\n",
              "      <script>\n",
              "        const buttonEl =\n",
              "          document.querySelector('#df-682dc178-e832-46c0-be66-c8cc6ae52c49 button.colab-df-convert');\n",
              "        buttonEl.style.display =\n",
              "          google.colab.kernel.accessAllowed ? 'block' : 'none';\n",
              "\n",
              "        async function convertToInteractive(key) {\n",
              "          const element = document.querySelector('#df-682dc178-e832-46c0-be66-c8cc6ae52c49');\n",
              "          const dataTable =\n",
              "            await google.colab.kernel.invokeFunction('convertToInteractive',\n",
              "                                                     [key], {});\n",
              "          if (!dataTable) return;\n",
              "\n",
              "          const docLinkHtml = 'Like what you see? Visit the ' +\n",
              "            '<a target=\"_blank\" href=https://colab.research.google.com/notebooks/data_table.ipynb>data table notebook</a>'\n",
              "            + ' to learn more about interactive tables.';\n",
              "          element.innerHTML = '';\n",
              "          dataTable['output_type'] = 'display_data';\n",
              "          await google.colab.output.renderOutput(dataTable, element);\n",
              "          const docLink = document.createElement('div');\n",
              "          docLink.innerHTML = docLinkHtml;\n",
              "          element.appendChild(docLink);\n",
              "        }\n",
              "      </script>\n",
              "    </div>\n",
              "  </div>\n",
              "  "
            ]
          },
          "metadata": {},
          "execution_count": 57
        }
      ]
    },
    {
      "cell_type": "markdown",
      "source": [
        "### 支持向量機 (Support Vector Machine, SVM)\n",
        "\n",
        "---\n",
        "支持向量機是一種二元分類和回歸分析的機器學習方法，通過將資料映射到高維空間，尋找超平面來分類或回歸。在 scikit-learn 中，可以使用 SVM 類進行支持向量機模型的建立：\n",
        "\n",
        "\n",
        "```\n",
        "from sklearn.svm import SVC, SVR\n",
        "\n",
        "model = SVC()\n",
        "model.fit(X_train, y_train)\n",
        "y_pred = model.predict(X_test)\n",
        "\n",
        "model = SVR()\n",
        "model.fit(X_train, y_train)\n",
        "y_pred = model.predict(X_test)\n",
        "```\n",
        "其中，SVC 用於分類問題，SVR 用於回歸問題。\n",
        "![image.png](data:image/png;base64,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)"
      ],
      "metadata": {
        "id": "nfsNRH3BmhXm"
      }
    },
    {
      "cell_type": "code",
      "source": [
        "import numpy as np\n",
        "from sklearn.svm import SVC, SVR\n",
        "from sklearn.model_selection import train_test_split\n",
        "\n",
        "# 自定義範例資料\n",
        "X = np.array([[1, 2], [2, 3], [3, 4], [4, 5], [5, 6], [6, 7]])\n",
        "y_classification = np.array([0, 0, 0, 1, 1, 1])\n",
        "y_regression = np.array([1, 2, 3, 4, 5, 6])\n",
        "\n",
        "# 切分訓練集與測試集\n",
        "X_train, X_test, y_train_classification, y_test_classification, y_train_regression, y_test_regression = train_test_split(\n",
        "    X, y_classification, y_regression, test_size=0.2, random_state=42)\n",
        "\n",
        "# 使用 SVM 分類器進行分類\n",
        "model = SVC()\n",
        "model.fit(X_train, y_train_classification)\n",
        "y_pred_classification = model.predict(X_test)\n",
        "\n",
        "# 使用 SVR 迴歸器進行回歸\n",
        "model = SVR()\n",
        "model.fit(X_train, y_train_regression)\n",
        "y_pred_regression = model.predict(X_test)"
      ],
      "metadata": {
        "id": "RAVQDgjQmn8f"
      },
      "execution_count": null,
      "outputs": []
    },
    {
      "cell_type": "code",
      "source": [
        "# 合併測試集的標籤值和模型預測值\n",
        "y_true_classification_and_regression = np.column_stack((y_test_classification, y_test_regression, y_pred_classification, y_pred_regression))\n",
        "\n",
        "# 轉換成 DataFrame 對象\n",
        "df = pd.DataFrame(y_true_classification_and_regression, columns=[\"真實分類標籤\", \"真實回歸標籤\", \"預測分類標籤\", \"預測回歸標籤\"])\n",
        "df.index.name = \"樣本編號\"\n",
        "df"
      ],
      "metadata": {
        "colab": {
          "base_uri": "https://localhost:8080/",
          "height": 143
        },
        "id": "cv-_VAuKnqAy",
        "outputId": "2fe44e72-0a47-4ad3-ac5e-78b05c9bc3b0"
      },
      "execution_count": null,
      "outputs": [
        {
          "output_type": "execute_result",
          "data": {
            "text/plain": [
              "      真實分類標籤  真實回歸標籤  預測分類標籤    預測回歸標籤\n",
              "樣本編號                                  \n",
              "0        0.0     1.0     1.0  4.430517\n",
              "1        0.0     2.0     1.0  3.986606"
            ],
            "text/html": [
              "\n",
              "  <div id=\"df-61e8beb3-ff80-4668-8385-56428c21afb3\">\n",
              "    <div class=\"colab-df-container\">\n",
              "      <div>\n",
              "<style scoped>\n",
              "    .dataframe tbody tr th:only-of-type {\n",
              "        vertical-align: middle;\n",
              "    }\n",
              "\n",
              "    .dataframe tbody tr th {\n",
              "        vertical-align: top;\n",
              "    }\n",
              "\n",
              "    .dataframe thead th {\n",
              "        text-align: right;\n",
              "    }\n",
              "</style>\n",
              "<table border=\"1\" class=\"dataframe\">\n",
              "  <thead>\n",
              "    <tr style=\"text-align: right;\">\n",
              "      <th></th>\n",
              "      <th>真實分類標籤</th>\n",
              "      <th>真實回歸標籤</th>\n",
              "      <th>預測分類標籤</th>\n",
              "      <th>預測回歸標籤</th>\n",
              "    </tr>\n",
              "    <tr>\n",
              "      <th>樣本編號</th>\n",
              "      <th></th>\n",
              "      <th></th>\n",
              "      <th></th>\n",
              "      <th></th>\n",
              "    </tr>\n",
              "  </thead>\n",
              "  <tbody>\n",
              "    <tr>\n",
              "      <th>0</th>\n",
              "      <td>0.0</td>\n",
              "      <td>1.0</td>\n",
              "      <td>1.0</td>\n",
              "      <td>4.430517</td>\n",
              "    </tr>\n",
              "    <tr>\n",
              "      <th>1</th>\n",
              "      <td>0.0</td>\n",
              "      <td>2.0</td>\n",
              "      <td>1.0</td>\n",
              "      <td>3.986606</td>\n",
              "    </tr>\n",
              "  </tbody>\n",
              "</table>\n",
              "</div>\n",
              "      <button class=\"colab-df-convert\" onclick=\"convertToInteractive('df-61e8beb3-ff80-4668-8385-56428c21afb3')\"\n",
              "              title=\"Convert this dataframe to an interactive table.\"\n",
              "              style=\"display:none;\">\n",
              "        \n",
              "  <svg xmlns=\"http://www.w3.org/2000/svg\" height=\"24px\"viewBox=\"0 0 24 24\"\n",
              "       width=\"24px\">\n",
              "    <path d=\"M0 0h24v24H0V0z\" fill=\"none\"/>\n",
              "    <path d=\"M18.56 5.44l.94 2.06.94-2.06 2.06-.94-2.06-.94-.94-2.06-.94 2.06-2.06.94zm-11 1L8.5 8.5l.94-2.06 2.06-.94-2.06-.94L8.5 2.5l-.94 2.06-2.06.94zm10 10l.94 2.06.94-2.06 2.06-.94-2.06-.94-.94-2.06-.94 2.06-2.06.94z\"/><path d=\"M17.41 7.96l-1.37-1.37c-.4-.4-.92-.59-1.43-.59-.52 0-1.04.2-1.43.59L10.3 9.45l-7.72 7.72c-.78.78-.78 2.05 0 2.83L4 21.41c.39.39.9.59 1.41.59.51 0 1.02-.2 1.41-.59l7.78-7.78 2.81-2.81c.8-.78.8-2.07 0-2.86zM5.41 20L4 18.59l7.72-7.72 1.47 1.35L5.41 20z\"/>\n",
              "  </svg>\n",
              "      </button>\n",
              "      \n",
              "  <style>\n",
              "    .colab-df-container {\n",
              "      display:flex;\n",
              "      flex-wrap:wrap;\n",
              "      gap: 12px;\n",
              "    }\n",
              "\n",
              "    .colab-df-convert {\n",
              "      background-color: #E8F0FE;\n",
              "      border: none;\n",
              "      border-radius: 50%;\n",
              "      cursor: pointer;\n",
              "      display: none;\n",
              "      fill: #1967D2;\n",
              "      height: 32px;\n",
              "      padding: 0 0 0 0;\n",
              "      width: 32px;\n",
              "    }\n",
              "\n",
              "    .colab-df-convert:hover {\n",
              "      background-color: #E2EBFA;\n",
              "      box-shadow: 0px 1px 2px rgba(60, 64, 67, 0.3), 0px 1px 3px 1px rgba(60, 64, 67, 0.15);\n",
              "      fill: #174EA6;\n",
              "    }\n",
              "\n",
              "    [theme=dark] .colab-df-convert {\n",
              "      background-color: #3B4455;\n",
              "      fill: #D2E3FC;\n",
              "    }\n",
              "\n",
              "    [theme=dark] .colab-df-convert:hover {\n",
              "      background-color: #434B5C;\n",
              "      box-shadow: 0px 1px 3px 1px rgba(0, 0, 0, 0.15);\n",
              "      filter: drop-shadow(0px 1px 2px rgba(0, 0, 0, 0.3));\n",
              "      fill: #FFFFFF;\n",
              "    }\n",
              "  </style>\n",
              "\n",
              "      <script>\n",
              "        const buttonEl =\n",
              "          document.querySelector('#df-61e8beb3-ff80-4668-8385-56428c21afb3 button.colab-df-convert');\n",
              "        buttonEl.style.display =\n",
              "          google.colab.kernel.accessAllowed ? 'block' : 'none';\n",
              "\n",
              "        async function convertToInteractive(key) {\n",
              "          const element = document.querySelector('#df-61e8beb3-ff80-4668-8385-56428c21afb3');\n",
              "          const dataTable =\n",
              "            await google.colab.kernel.invokeFunction('convertToInteractive',\n",
              "                                                     [key], {});\n",
              "          if (!dataTable) return;\n",
              "\n",
              "          const docLinkHtml = 'Like what you see? Visit the ' +\n",
              "            '<a target=\"_blank\" href=https://colab.research.google.com/notebooks/data_table.ipynb>data table notebook</a>'\n",
              "            + ' to learn more about interactive tables.';\n",
              "          element.innerHTML = '';\n",
              "          dataTable['output_type'] = 'display_data';\n",
              "          await google.colab.output.renderOutput(dataTable, element);\n",
              "          const docLink = document.createElement('div');\n",
              "          docLink.innerHTML = docLinkHtml;\n",
              "          element.appendChild(docLink);\n",
              "        }\n",
              "      </script>\n",
              "    </div>\n",
              "  </div>\n",
              "  "
            ]
          },
          "metadata": {},
          "execution_count": 66
        }
      ]
    },
    {
      "cell_type": "markdown",
      "source": [
        "## 非監督式學習\n",
        "\n",
        "---\n",
        "\n",
        "在訓練過程中，資料樣本沒有標籤或結果，機器學習模型通過尋找資料的結構和相似性來學習。在 scikit-learn 中，支援多種非監督式學習算法，包括：\n",
        "* 聚類算法：KMeans、DBSCAN、階層分群等。\n",
        "* 降維算法：PCA、t-SNE、LLE 等。"
      ],
      "metadata": {
        "id": "1VbvAclZoMOD"
      }
    },
    {
      "cell_type": "markdown",
      "source": [
        "#### K-Means 聚類 (K-Means Clustering)\n",
        "\n",
        "---\n",
        "\n",
        "將資料分為 k 個不同的群體\n",
        "\n",
        "```\n",
        "from sklearn.cluster import KMeans\n",
        "\n",
        "model = KMeans(n_clusters=3)\n",
        "model.fit(X_train)\n",
        "y_pred = model.predict(X_test)\n",
        "```\n",
        "\n",
        "其中，n_clusters 是要分類的群體數量"
      ],
      "metadata": {
        "id": "3rmTax2-NwqD"
      }
    },
    {
      "cell_type": "code",
      "source": [
        "from sklearn.datasets import load_iris\n",
        "from sklearn.cluster import KMeans\n",
        "from sklearn.model_selection import train_test_split\n",
        "import pandas as pd\n",
        "\n",
        "# 載入 iris 資料集\n",
        "iris = load_iris()\n",
        "\n",
        "# 轉換為 pandas dataframe\n",
        "X = pd.DataFrame(iris.data, columns=iris.feature_names)\n",
        "y = iris.target"
      ],
      "metadata": {
        "id": "5t8i9DuHOb1N"
      },
      "execution_count": null,
      "outputs": []
    },
    {
      "cell_type": "code",
      "source": [
        "# 將資料集分為訓練集和測試集\n",
        "X_train, X_test, y_train, y_test = train_test_split(X, y, test_size=0.2, random_state=42)\n",
        "\n",
        "# 建立 KMeans 分群器\n",
        "kmeans = KMeans(n_clusters=3, random_state=42)\n",
        "\n",
        "# 對訓練集進行訓練\n",
        "kmeans.fit(X_train)\n",
        "\n",
        "# 對測試集進行預測\n",
        "y_pred = kmeans.predict(X_test)\n",
        "res = pd.concat([pd.DataFrame(y_test), pd.DataFrame(y_pred)], axis = 1)\n",
        "res.columns = ['y_test', 'y_pred']\n",
        "res"
      ],
      "metadata": {
        "colab": {
          "base_uri": "https://localhost:8080/",
          "height": 1000
        },
        "id": "nDGFtPnROe1P",
        "outputId": "5b696436-bf13-4b3d-b9c0-d8370b2b175b"
      },
      "execution_count": null,
      "outputs": [
        {
          "output_type": "stream",
          "name": "stderr",
          "text": [
            "/usr/local/lib/python3.10/dist-packages/sklearn/cluster/_kmeans.py:870: FutureWarning: The default value of `n_init` will change from 10 to 'auto' in 1.4. Set the value of `n_init` explicitly to suppress the warning\n",
            "  warnings.warn(\n"
          ]
        },
        {
          "output_type": "execute_result",
          "data": {
            "text/plain": [
              "    y_test  y_pred\n",
              "0        1       2\n",
              "1        0       0\n",
              "2        2       1\n",
              "3        1       2\n",
              "4        1       2\n",
              "5        0       0\n",
              "6        1       2\n",
              "7        2       1\n",
              "8        1       2\n",
              "9        1       2\n",
              "10       2       1\n",
              "11       0       0\n",
              "12       0       0\n",
              "13       0       0\n",
              "14       0       0\n",
              "15       1       2\n",
              "16       2       1\n",
              "17       1       2\n",
              "18       1       2\n",
              "19       2       1\n",
              "20       0       0\n",
              "21       2       2\n",
              "22       0       0\n",
              "23       2       1\n",
              "24       2       1\n",
              "25       2       1\n",
              "26       2       1\n",
              "27       2       1\n",
              "28       0       0\n",
              "29       0       0"
            ],
            "text/html": [
              "\n",
              "  <div id=\"df-960c156f-6b58-4cd3-b35b-1b11b61dc5d0\">\n",
              "    <div class=\"colab-df-container\">\n",
              "      <div>\n",
              "<style scoped>\n",
              "    .dataframe tbody tr th:only-of-type {\n",
              "        vertical-align: middle;\n",
              "    }\n",
              "\n",
              "    .dataframe tbody tr th {\n",
              "        vertical-align: top;\n",
              "    }\n",
              "\n",
              "    .dataframe thead th {\n",
              "        text-align: right;\n",
              "    }\n",
              "</style>\n",
              "<table border=\"1\" class=\"dataframe\">\n",
              "  <thead>\n",
              "    <tr style=\"text-align: right;\">\n",
              "      <th></th>\n",
              "      <th>y_test</th>\n",
              "      <th>y_pred</th>\n",
              "    </tr>\n",
              "  </thead>\n",
              "  <tbody>\n",
              "    <tr>\n",
              "      <th>0</th>\n",
              "      <td>1</td>\n",
              "      <td>2</td>\n",
              "    </tr>\n",
              "    <tr>\n",
              "      <th>1</th>\n",
              "      <td>0</td>\n",
              "      <td>0</td>\n",
              "    </tr>\n",
              "    <tr>\n",
              "      <th>2</th>\n",
              "      <td>2</td>\n",
              "      <td>1</td>\n",
              "    </tr>\n",
              "    <tr>\n",
              "      <th>3</th>\n",
              "      <td>1</td>\n",
              "      <td>2</td>\n",
              "    </tr>\n",
              "    <tr>\n",
              "      <th>4</th>\n",
              "      <td>1</td>\n",
              "      <td>2</td>\n",
              "    </tr>\n",
              "    <tr>\n",
              "      <th>5</th>\n",
              "      <td>0</td>\n",
              "      <td>0</td>\n",
              "    </tr>\n",
              "    <tr>\n",
              "      <th>6</th>\n",
              "      <td>1</td>\n",
              "      <td>2</td>\n",
              "    </tr>\n",
              "    <tr>\n",
              "      <th>7</th>\n",
              "      <td>2</td>\n",
              "      <td>1</td>\n",
              "    </tr>\n",
              "    <tr>\n",
              "      <th>8</th>\n",
              "      <td>1</td>\n",
              "      <td>2</td>\n",
              "    </tr>\n",
              "    <tr>\n",
              "      <th>9</th>\n",
              "      <td>1</td>\n",
              "      <td>2</td>\n",
              "    </tr>\n",
              "    <tr>\n",
              "      <th>10</th>\n",
              "      <td>2</td>\n",
              "      <td>1</td>\n",
              "    </tr>\n",
              "    <tr>\n",
              "      <th>11</th>\n",
              "      <td>0</td>\n",
              "      <td>0</td>\n",
              "    </tr>\n",
              "    <tr>\n",
              "      <th>12</th>\n",
              "      <td>0</td>\n",
              "      <td>0</td>\n",
              "    </tr>\n",
              "    <tr>\n",
              "      <th>13</th>\n",
              "      <td>0</td>\n",
              "      <td>0</td>\n",
              "    </tr>\n",
              "    <tr>\n",
              "      <th>14</th>\n",
              "      <td>0</td>\n",
              "      <td>0</td>\n",
              "    </tr>\n",
              "    <tr>\n",
              "      <th>15</th>\n",
              "      <td>1</td>\n",
              "      <td>2</td>\n",
              "    </tr>\n",
              "    <tr>\n",
              "      <th>16</th>\n",
              "      <td>2</td>\n",
              "      <td>1</td>\n",
              "    </tr>\n",
              "    <tr>\n",
              "      <th>17</th>\n",
              "      <td>1</td>\n",
              "      <td>2</td>\n",
              "    </tr>\n",
              "    <tr>\n",
              "      <th>18</th>\n",
              "      <td>1</td>\n",
              "      <td>2</td>\n",
              "    </tr>\n",
              "    <tr>\n",
              "      <th>19</th>\n",
              "      <td>2</td>\n",
              "      <td>1</td>\n",
              "    </tr>\n",
              "    <tr>\n",
              "      <th>20</th>\n",
              "      <td>0</td>\n",
              "      <td>0</td>\n",
              "    </tr>\n",
              "    <tr>\n",
              "      <th>21</th>\n",
              "      <td>2</td>\n",
              "      <td>2</td>\n",
              "    </tr>\n",
              "    <tr>\n",
              "      <th>22</th>\n",
              "      <td>0</td>\n",
              "      <td>0</td>\n",
              "    </tr>\n",
              "    <tr>\n",
              "      <th>23</th>\n",
              "      <td>2</td>\n",
              "      <td>1</td>\n",
              "    </tr>\n",
              "    <tr>\n",
              "      <th>24</th>\n",
              "      <td>2</td>\n",
              "      <td>1</td>\n",
              "    </tr>\n",
              "    <tr>\n",
              "      <th>25</th>\n",
              "      <td>2</td>\n",
              "      <td>1</td>\n",
              "    </tr>\n",
              "    <tr>\n",
              "      <th>26</th>\n",
              "      <td>2</td>\n",
              "      <td>1</td>\n",
              "    </tr>\n",
              "    <tr>\n",
              "      <th>27</th>\n",
              "      <td>2</td>\n",
              "      <td>1</td>\n",
              "    </tr>\n",
              "    <tr>\n",
              "      <th>28</th>\n",
              "      <td>0</td>\n",
              "      <td>0</td>\n",
              "    </tr>\n",
              "    <tr>\n",
              "      <th>29</th>\n",
              "      <td>0</td>\n",
              "      <td>0</td>\n",
              "    </tr>\n",
              "  </tbody>\n",
              "</table>\n",
              "</div>\n",
              "      <button class=\"colab-df-convert\" onclick=\"convertToInteractive('df-960c156f-6b58-4cd3-b35b-1b11b61dc5d0')\"\n",
              "              title=\"Convert this dataframe to an interactive table.\"\n",
              "              style=\"display:none;\">\n",
              "        \n",
              "  <svg xmlns=\"http://www.w3.org/2000/svg\" height=\"24px\"viewBox=\"0 0 24 24\"\n",
              "       width=\"24px\">\n",
              "    <path d=\"M0 0h24v24H0V0z\" fill=\"none\"/>\n",
              "    <path d=\"M18.56 5.44l.94 2.06.94-2.06 2.06-.94-2.06-.94-.94-2.06-.94 2.06-2.06.94zm-11 1L8.5 8.5l.94-2.06 2.06-.94-2.06-.94L8.5 2.5l-.94 2.06-2.06.94zm10 10l.94 2.06.94-2.06 2.06-.94-2.06-.94-.94-2.06-.94 2.06-2.06.94z\"/><path d=\"M17.41 7.96l-1.37-1.37c-.4-.4-.92-.59-1.43-.59-.52 0-1.04.2-1.43.59L10.3 9.45l-7.72 7.72c-.78.78-.78 2.05 0 2.83L4 21.41c.39.39.9.59 1.41.59.51 0 1.02-.2 1.41-.59l7.78-7.78 2.81-2.81c.8-.78.8-2.07 0-2.86zM5.41 20L4 18.59l7.72-7.72 1.47 1.35L5.41 20z\"/>\n",
              "  </svg>\n",
              "      </button>\n",
              "      \n",
              "  <style>\n",
              "    .colab-df-container {\n",
              "      display:flex;\n",
              "      flex-wrap:wrap;\n",
              "      gap: 12px;\n",
              "    }\n",
              "\n",
              "    .colab-df-convert {\n",
              "      background-color: #E8F0FE;\n",
              "      border: none;\n",
              "      border-radius: 50%;\n",
              "      cursor: pointer;\n",
              "      display: none;\n",
              "      fill: #1967D2;\n",
              "      height: 32px;\n",
              "      padding: 0 0 0 0;\n",
              "      width: 32px;\n",
              "    }\n",
              "\n",
              "    .colab-df-convert:hover {\n",
              "      background-color: #E2EBFA;\n",
              "      box-shadow: 0px 1px 2px rgba(60, 64, 67, 0.3), 0px 1px 3px 1px rgba(60, 64, 67, 0.15);\n",
              "      fill: #174EA6;\n",
              "    }\n",
              "\n",
              "    [theme=dark] .colab-df-convert {\n",
              "      background-color: #3B4455;\n",
              "      fill: #D2E3FC;\n",
              "    }\n",
              "\n",
              "    [theme=dark] .colab-df-convert:hover {\n",
              "      background-color: #434B5C;\n",
              "      box-shadow: 0px 1px 3px 1px rgba(0, 0, 0, 0.15);\n",
              "      filter: drop-shadow(0px 1px 2px rgba(0, 0, 0, 0.3));\n",
              "      fill: #FFFFFF;\n",
              "    }\n",
              "  </style>\n",
              "\n",
              "      <script>\n",
              "        const buttonEl =\n",
              "          document.querySelector('#df-960c156f-6b58-4cd3-b35b-1b11b61dc5d0 button.colab-df-convert');\n",
              "        buttonEl.style.display =\n",
              "          google.colab.kernel.accessAllowed ? 'block' : 'none';\n",
              "\n",
              "        async function convertToInteractive(key) {\n",
              "          const element = document.querySelector('#df-960c156f-6b58-4cd3-b35b-1b11b61dc5d0');\n",
              "          const dataTable =\n",
              "            await google.colab.kernel.invokeFunction('convertToInteractive',\n",
              "                                                     [key], {});\n",
              "          if (!dataTable) return;\n",
              "\n",
              "          const docLinkHtml = 'Like what you see? Visit the ' +\n",
              "            '<a target=\"_blank\" href=https://colab.research.google.com/notebooks/data_table.ipynb>data table notebook</a>'\n",
              "            + ' to learn more about interactive tables.';\n",
              "          element.innerHTML = '';\n",
              "          dataTable['output_type'] = 'display_data';\n",
              "          await google.colab.output.renderOutput(dataTable, element);\n",
              "          const docLink = document.createElement('div');\n",
              "          docLink.innerHTML = docLinkHtml;\n",
              "          element.appendChild(docLink);\n",
              "        }\n",
              "      </script>\n",
              "    </div>\n",
              "  </div>\n",
              "  "
            ]
          },
          "metadata": {},
          "execution_count": 22
        }
      ]
    },
    {
      "cell_type": "code",
      "source": [
        "len(res[y_test == y_pred])/len(res)"
      ],
      "metadata": {
        "colab": {
          "base_uri": "https://localhost:8080/"
        },
        "id": "esVkDrw7TKsO",
        "outputId": "382f85eb-86fc-4f49-c2ee-086f47c3d436"
      },
      "execution_count": null,
      "outputs": [
        {
          "output_type": "execute_result",
          "data": {
            "text/plain": [
              "0.36666666666666664"
            ]
          },
          "metadata": {},
          "execution_count": 47
        }
      ]
    },
    {
      "cell_type": "code",
      "source": [
        "from sklearn import metrics\n",
        "# Adjusted Rand Index 的值介於 -1 和 1 之間，值越接近 1 表示聚類結果與實際標籤越相符\n",
        "score = metrics.adjusted_rand_score(y_test, y_pred)\n",
        "print(score) # 0.8981703936425799"
      ],
      "metadata": {
        "colab": {
          "base_uri": "https://localhost:8080/"
        },
        "id": "Gvkj0lisQ6s2",
        "outputId": "4b9bc5ae-4567-4c3d-f91a-6a2000086cd2"
      },
      "execution_count": null,
      "outputs": [
        {
          "output_type": "stream",
          "name": "stdout",
          "text": [
            "0.8981703936425799\n"
          ]
        }
      ]
    },
    {
      "cell_type": "markdown",
      "source": [
        "#### 主成分分析 (Principal Component Analysis, PCA)\n",
        "\n",
        "---\n",
        "是一種降維算法，通過將高維資料映射到低維空間，保留最重要的特徵來簡化資料\n",
        "\n",
        "```\n",
        "from sklearn.decomposition import PCA\n",
        "\n",
        "model = PCA(n_components=2)\n",
        "X_train_pca = model.fit_transform(X_train)\n",
        "X_test_pca = model.transform(X_test)\n",
        "```\n",
        "\n",
        "其中，n_components 是要降維到的維度數量\n"
      ],
      "metadata": {
        "id": "64t1u-NVTcxh"
      }
    },
    {
      "cell_type": "code",
      "source": [
        "import numpy as np\n",
        "import pandas as pd\n",
        "from sklearn.datasets import load_digits\n",
        "from sklearn.model_selection import train_test_split\n",
        "from sklearn.decomposition import PCA\n",
        "\n",
        "# 讀取手寫數字資料集\n",
        "digits = load_digits()\n",
        "\n",
        "# 將特徵與標籤拆開\n",
        "X = digits.data\n",
        "y = digits.target\n",
        "\n",
        "# 切分資料集\n",
        "X_train, X_test, y_train, y_test = train_test_split(X, y, test_size=0.2, random_state=42)\n",
        "\n",
        "# 建立PCA模型，將64維的特徵轉換為2維\n",
        "model = PCA(n_components=2)\n",
        "X_train_pca = model.fit_transform(X_train)\n",
        "X_test_pca = model.transform(X_test)\n",
        "\n",
        "# 顯示轉換後的訓練集資料\n",
        "df = pd.DataFrame(data=X_train_pca, columns=['PC1', 'PC2'])\n",
        "df['target'] = y_train\n",
        "print(df.head())"
      ],
      "metadata": {
        "colab": {
          "base_uri": "https://localhost:8080/"
        },
        "id": "niapkCFVTk3S",
        "outputId": "e576f634-f1a9-40f2-f010-b89544bfe3c0"
      },
      "execution_count": null,
      "outputs": [
        {
          "output_type": "stream",
          "name": "stdout",
          "text": [
            "         PC1        PC2  target\n",
            "0  16.468294  19.392496       6\n",
            "1  -3.066058  22.375263       0\n",
            "2  13.134395  20.354285       0\n",
            "3 -22.619748  -5.528612       3\n",
            "4  -2.003769  23.617270       0\n"
          ]
        }
      ]
    },
    {
      "cell_type": "markdown",
      "source": [
        "開始測試，SVC、Decision tree、random forest、CNN"
      ],
      "metadata": {
        "id": "KQno4ggKV_2W"
      }
    },
    {
      "cell_type": "code",
      "source": [
        "from sklearn.svm import SVC\n",
        "\n",
        "# 建立SVM模型\n",
        "svm_model = SVC(C=1, gamma=0.001)\n",
        "\n",
        "# 使用原始特徵進行訓練\n",
        "svm_model.fit(X_train, y_train)\n",
        "\n",
        "# 使用原始特徵進行預測\n",
        "y_pred = svm_model.predict(X_test)\n",
        "\n",
        "# 計算模型準確率\n",
        "accuracy = svm_model.score(X_test, y_test)\n",
        "print(f\"SVM Accuracy: {accuracy}\")\n"
      ],
      "metadata": {
        "colab": {
          "base_uri": "https://localhost:8080/"
        },
        "id": "bz_ylD1nVK9E",
        "outputId": "50362f94-3320-40f6-a9c9-2351b8f6af84"
      },
      "execution_count": null,
      "outputs": [
        {
          "output_type": "stream",
          "name": "stdout",
          "text": [
            "SVM Accuracy: 0.9888888888888889\n"
          ]
        }
      ]
    },
    {
      "cell_type": "code",
      "source": [
        "from sklearn.tree import DecisionTreeClassifier\n",
        "\n",
        "# 建立決策樹模型\n",
        "tree_model = DecisionTreeClassifier(max_depth=10)\n",
        "\n",
        "# 使用原始特徵進行訓練\n",
        "tree_model.fit(X_train, y_train)\n",
        "\n",
        "# 使用原始特徵進行預測\n",
        "y_pred = tree_model.predict(X_test)\n",
        "\n",
        "# 計算模型準確率\n",
        "accuracy = tree_model.score(X_test, y_test)\n",
        "print(f\"Decision Tree Accuracy: {accuracy}\")\n"
      ],
      "metadata": {
        "colab": {
          "base_uri": "https://localhost:8080/"
        },
        "id": "gfuiWLHoVrw9",
        "outputId": "fbc3c3c1-7f83-408b-834f-2d6f0f0b99c8"
      },
      "execution_count": null,
      "outputs": [
        {
          "output_type": "stream",
          "name": "stdout",
          "text": [
            "Decision Tree Accuracy: 0.8638888888888889\n"
          ]
        }
      ]
    },
    {
      "cell_type": "code",
      "source": [
        "from sklearn.ensemble import RandomForestClassifier\n",
        "\n",
        "# 建立隨機森林模型\n",
        "rf_model = RandomForestClassifier(n_estimators=100, max_depth=10)\n",
        "\n",
        "# 使用原始特徵進行訓練\n",
        "rf_model.fit(X_train, y_train)\n",
        "\n",
        "# 使用原始特徵進行預測\n",
        "y_pred = rf_model.predict(X_test)\n",
        "\n",
        "# 計算模型準確率\n",
        "accuracy = rf_model.score(X_test, y_test)\n",
        "print(f\"Random Forest Accuracy: {accuracy}\")\n"
      ],
      "metadata": {
        "colab": {
          "base_uri": "https://localhost:8080/"
        },
        "id": "du_7lnuNVtoe",
        "outputId": "596c3d2d-f129-41f7-cb09-da3473d50b43"
      },
      "execution_count": null,
      "outputs": [
        {
          "output_type": "stream",
          "name": "stdout",
          "text": [
            "Random Forest Accuracy: 0.9694444444444444\n"
          ]
        }
      ]
    },
    {
      "cell_type": "code",
      "source": [
        "# DL CNN\n",
        "import tensorflow as tf\n",
        "from tensorflow import keras\n",
        "\n",
        "# 將原始特徵轉換成圖像\n",
        "X_train = X_train.reshape(-1, 8, 8, 1)\n",
        "X_test = X_test.reshape(-1, 8, 8, 1)\n",
        "\n",
        "# 建立CNN模型\n",
        "model = keras.Sequential([\n",
        "    keras.layers.Conv2D(32, (3,3), activation='relu', input_shape=(8,8,1)),\n",
        "    keras.layers.MaxPooling2D((2,2)),\n",
        "    keras.layers.Flatten(),\n",
        "    keras.layers.Dense(10, activation='softmax')\n",
        "])\n",
        "\n",
        "# 編譯模型\n",
        "model.compile(optimizer='adam',\n",
        "              loss='sparse_categorical_crossentropy',\n",
        "              metrics=['accuracy'])\n",
        "\n",
        "# 訓練模型\n",
        "model.fit(X_train, y_train, epochs=10, batch_size=32)\n",
        "\n",
        "# 評估模型\n",
        "test_loss, test_acc = model.evaluate(X_test, y_test)\n",
        "print(f\"CNN Accuracy: {test_acc}\")\n"
      ],
      "metadata": {
        "colab": {
          "base_uri": "https://localhost:8080/"
        },
        "id": "4uuR9-8QV3Aa",
        "outputId": "fcc74f9a-014c-4a45-faa0-0e2b9a599acc"
      },
      "execution_count": null,
      "outputs": [
        {
          "output_type": "stream",
          "name": "stdout",
          "text": [
            "Epoch 1/10\n",
            "45/45 [==============================] - 2s 10ms/step - loss: 2.0852 - accuracy: 0.3556\n",
            "Epoch 2/10\n",
            "45/45 [==============================] - 0s 8ms/step - loss: 0.5892 - accuracy: 0.8587\n",
            "Epoch 3/10\n",
            "45/45 [==============================] - 0s 6ms/step - loss: 0.2907 - accuracy: 0.9304\n",
            "Epoch 4/10\n",
            "45/45 [==============================] - 0s 7ms/step - loss: 0.1951 - accuracy: 0.9631\n",
            "Epoch 5/10\n",
            "45/45 [==============================] - 0s 9ms/step - loss: 0.1449 - accuracy: 0.9708\n",
            "Epoch 6/10\n",
            "45/45 [==============================] - 0s 6ms/step - loss: 0.1157 - accuracy: 0.9798\n",
            "Epoch 7/10\n",
            "45/45 [==============================] - 0s 6ms/step - loss: 0.0916 - accuracy: 0.9826\n",
            "Epoch 8/10\n",
            "45/45 [==============================] - 0s 7ms/step - loss: 0.0766 - accuracy: 0.9861\n",
            "Epoch 9/10\n",
            "45/45 [==============================] - 0s 8ms/step - loss: 0.0667 - accuracy: 0.9868\n",
            "Epoch 10/10\n",
            "45/45 [==============================] - 0s 7ms/step - loss: 0.0560 - accuracy: 0.9930\n",
            "12/12 [==============================] - 1s 6ms/step - loss: 0.0822 - accuracy: 0.9833\n",
            "CNN Accuracy: 0.9833333492279053\n"
          ]
        }
      ]
    }
  ]
}