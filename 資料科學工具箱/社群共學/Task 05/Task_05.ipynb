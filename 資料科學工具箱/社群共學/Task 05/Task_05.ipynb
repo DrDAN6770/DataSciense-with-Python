{
  "cells": [
    {
      "cell_type": "markdown",
      "metadata": {
        "id": "view-in-github",
        "colab_type": "text"
      },
      "source": [
        "<a href=\"https://colab.research.google.com/github/DrDAN6770/DataSciense-with-Python/blob/main/%E8%B3%87%E6%96%99%E7%A7%91%E5%AD%B8%E5%B7%A5%E5%85%B7%E7%AE%B1/%E7%A4%BE%E7%BE%A4%E5%85%B1%E5%AD%B8/Task%2005/Task_05.ipynb\" target=\"_parent\"><img src=\"https://colab.research.google.com/assets/colab-badge.svg\" alt=\"Open In Colab\"/></a>"
      ]
    },
    {
      "cell_type": "markdown",
      "metadata": {
        "id": "_n49tloFl4X2"
      },
      "source": [
        "# Import Module"
      ]
    },
    {
      "cell_type": "code",
      "execution_count": null,
      "metadata": {
        "id": "lZDQAsAhl4X5"
      },
      "outputs": [],
      "source": [
        "import pandas as pd\n",
        "import numpy as np\n",
        "import seaborn as sns\n",
        "import matplotlib.pyplot as plt\n",
        "from sklearn.linear_model import LogisticRegression\n",
        "from sklearn.model_selection import cross_val_score\n",
        "df = pd.read_csv('https://raw.githubusercontent.com/dsindy/kaggle-titanic/master/data/train.csv')"
      ]
    },
    {
      "cell_type": "code",
      "execution_count": null,
      "metadata": {
        "id": "Qp-ESmlQl4X6"
      },
      "outputs": [],
      "source": [
        "df_train = df.copy()"
      ]
    },
    {
      "cell_type": "code",
      "execution_count": null,
      "metadata": {
        "id": "yJeKuJvQl4X6"
      },
      "outputs": [],
      "source": [
        "# 欄位刪除\n",
        "df_train = df_train.drop(['Ticket', 'PassengerId', 'Cabin'], axis=1)"
      ]
    },
    {
      "cell_type": "markdown",
      "metadata": {
        "id": "8stEhxmMl4X6"
      },
      "source": [
        "# Title handle"
      ]
    },
    {
      "cell_type": "code",
      "execution_count": null,
      "metadata": {
        "id": "Ua8Ba06Kl4X7",
        "outputId": "00f03972-7a63-4410-c277-adc77bb13802"
      },
      "outputs": [
        {
          "data": {
            "text/plain": [
              "Title\n",
              "Mr              517\n",
              "Miss            182\n",
              "Mrs             125\n",
              "Master           40\n",
              "Dr                7\n",
              "Rev               6\n",
              "Mlle              2\n",
              "Major             2\n",
              "Col               2\n",
              "the Countess      1\n",
              "Capt              1\n",
              "Ms                1\n",
              "Sir               1\n",
              "Lady              1\n",
              "Mme               1\n",
              "Don               1\n",
              "Jonkheer          1\n",
              "Name: count, dtype: int64"
            ]
          },
          "execution_count": 4,
          "metadata": {},
          "output_type": "execute_result"
        }
      ],
      "source": [
        "# 頭銜(title)處理\n",
        "df_train['Title'] = df_train['Name'].map(lambda x : x.split(',')[1].split('.')[0].strip())\n",
        "df_train['Title'].value_counts()"
      ]
    },
    {
      "cell_type": "code",
      "execution_count": null,
      "metadata": {
        "id": "TG9A9wH0l4X7",
        "outputId": "899f6358-b102-49a2-c94d-fec51eb4f76e"
      },
      "outputs": [
        {
          "data": {
            "text/plain": [
              "Title\n",
              "Mr          517\n",
              "Miss        184\n",
              "Mrs         127\n",
              "Master       40\n",
              "official     19\n",
              "Royalty       4\n",
              "Name: count, dtype: int64"
            ]
          },
          "execution_count": 5,
          "metadata": {},
          "output_type": "execute_result"
        }
      ],
      "source": [
        "title_Classify = {\n",
        "           'Sir' : 'Royalty',   #王室\n",
        "           'Jonkheer' : 'Royalty',#王室\n",
        "           'the Countess' : 'Royalty',#王室\n",
        "           'Lady' : 'Royalty',  #王室\n",
        "           'Capt' : 'official',  #船長\n",
        "           'Col' : 'official',  #上校\n",
        "           'Major' : 'official', #市長\n",
        "           'Don' : 'official',  #大學教師\n",
        "           'Rev' : 'official',  #牧師\n",
        "           'Dr' : 'official',  #醫生\n",
        "           'Mlle' : 'Miss',  #未婚女子\n",
        "           'Miss' : 'Miss',  #未婚女子\n",
        "           'Mme' : 'Mrs',   #已婚女性\n",
        "           'Mrs' : 'Mrs',   #已婚女性\n",
        "           'Ms' : 'Mrs',   #未婚、已婚女子\n",
        "           'Mr' : 'Mr',    #男士\n",
        "           'Master' : 'Master',  #專家\n",
        "           'Rev' : 'official',  #牧師\n",
        "}\n",
        "df_train['Title'] = df_train['Title'].replace(title_Classify)\n",
        "df_train['Title'].value_counts()"
      ]
    },
    {
      "cell_type": "code",
      "execution_count": null,
      "metadata": {
        "id": "gVoAD_Xdl4X8"
      },
      "outputs": [],
      "source": [
        "# 刪除Name欄位\n",
        "df_train = df_train.drop(['Name'], axis=1)"
      ]
    },
    {
      "cell_type": "markdown",
      "metadata": {
        "id": "1wzv7u-ul4X8"
      },
      "source": [
        "# Missvalues handle"
      ]
    },
    {
      "cell_type": "code",
      "execution_count": null,
      "metadata": {
        "id": "pO4TitNKl4X8"
      },
      "outputs": [],
      "source": [
        "# Embarked眾數填補缺失\n",
        "df_train['Embarked'] = df_train['Embarked'].fillna(df_train['Embarked'].mode()[0])"
      ]
    },
    {
      "cell_type": "code",
      "execution_count": null,
      "metadata": {
        "id": "T-6eGLkTl4X9",
        "outputId": "aa53be19-0382-4709-8ea4-732a69f1f447"
      },
      "outputs": [
        {
          "data": {
            "text/html": [
              "<div>\n",
              "<style scoped>\n",
              "    .dataframe tbody tr th:only-of-type {\n",
              "        vertical-align: middle;\n",
              "    }\n",
              "\n",
              "    .dataframe tbody tr th {\n",
              "        vertical-align: top;\n",
              "    }\n",
              "\n",
              "    .dataframe thead th {\n",
              "        text-align: right;\n",
              "    }\n",
              "</style>\n",
              "<table border=\"1\" class=\"dataframe\">\n",
              "  <thead>\n",
              "    <tr style=\"text-align: right;\">\n",
              "      <th></th>\n",
              "      <th>Survived</th>\n",
              "      <th>Pclass</th>\n",
              "      <th>Sex</th>\n",
              "      <th>Age</th>\n",
              "      <th>SibSp</th>\n",
              "      <th>Parch</th>\n",
              "      <th>Fare</th>\n",
              "      <th>Embarked</th>\n",
              "      <th>Title</th>\n",
              "    </tr>\n",
              "  </thead>\n",
              "  <tbody>\n",
              "    <tr>\n",
              "      <th>0</th>\n",
              "      <td>0</td>\n",
              "      <td>3</td>\n",
              "      <td>male</td>\n",
              "      <td>22.0</td>\n",
              "      <td>1</td>\n",
              "      <td>0</td>\n",
              "      <td>7.2500</td>\n",
              "      <td>S</td>\n",
              "      <td>Mr</td>\n",
              "    </tr>\n",
              "    <tr>\n",
              "      <th>1</th>\n",
              "      <td>1</td>\n",
              "      <td>1</td>\n",
              "      <td>female</td>\n",
              "      <td>38.0</td>\n",
              "      <td>1</td>\n",
              "      <td>0</td>\n",
              "      <td>71.2833</td>\n",
              "      <td>C</td>\n",
              "      <td>Mrs</td>\n",
              "    </tr>\n",
              "    <tr>\n",
              "      <th>2</th>\n",
              "      <td>1</td>\n",
              "      <td>3</td>\n",
              "      <td>female</td>\n",
              "      <td>26.0</td>\n",
              "      <td>0</td>\n",
              "      <td>0</td>\n",
              "      <td>7.9250</td>\n",
              "      <td>S</td>\n",
              "      <td>Miss</td>\n",
              "    </tr>\n",
              "    <tr>\n",
              "      <th>3</th>\n",
              "      <td>1</td>\n",
              "      <td>1</td>\n",
              "      <td>female</td>\n",
              "      <td>35.0</td>\n",
              "      <td>1</td>\n",
              "      <td>0</td>\n",
              "      <td>53.1000</td>\n",
              "      <td>S</td>\n",
              "      <td>Mrs</td>\n",
              "    </tr>\n",
              "    <tr>\n",
              "      <th>4</th>\n",
              "      <td>0</td>\n",
              "      <td>3</td>\n",
              "      <td>male</td>\n",
              "      <td>35.0</td>\n",
              "      <td>0</td>\n",
              "      <td>0</td>\n",
              "      <td>8.0500</td>\n",
              "      <td>S</td>\n",
              "      <td>Mr</td>\n",
              "    </tr>\n",
              "    <tr>\n",
              "      <th>...</th>\n",
              "      <td>...</td>\n",
              "      <td>...</td>\n",
              "      <td>...</td>\n",
              "      <td>...</td>\n",
              "      <td>...</td>\n",
              "      <td>...</td>\n",
              "      <td>...</td>\n",
              "      <td>...</td>\n",
              "      <td>...</td>\n",
              "    </tr>\n",
              "    <tr>\n",
              "      <th>886</th>\n",
              "      <td>0</td>\n",
              "      <td>2</td>\n",
              "      <td>male</td>\n",
              "      <td>27.0</td>\n",
              "      <td>0</td>\n",
              "      <td>0</td>\n",
              "      <td>13.0000</td>\n",
              "      <td>S</td>\n",
              "      <td>official</td>\n",
              "    </tr>\n",
              "    <tr>\n",
              "      <th>887</th>\n",
              "      <td>1</td>\n",
              "      <td>1</td>\n",
              "      <td>female</td>\n",
              "      <td>19.0</td>\n",
              "      <td>0</td>\n",
              "      <td>0</td>\n",
              "      <td>30.0000</td>\n",
              "      <td>S</td>\n",
              "      <td>Miss</td>\n",
              "    </tr>\n",
              "    <tr>\n",
              "      <th>888</th>\n",
              "      <td>0</td>\n",
              "      <td>3</td>\n",
              "      <td>female</td>\n",
              "      <td>NaN</td>\n",
              "      <td>1</td>\n",
              "      <td>2</td>\n",
              "      <td>23.4500</td>\n",
              "      <td>S</td>\n",
              "      <td>Miss</td>\n",
              "    </tr>\n",
              "    <tr>\n",
              "      <th>889</th>\n",
              "      <td>1</td>\n",
              "      <td>1</td>\n",
              "      <td>male</td>\n",
              "      <td>26.0</td>\n",
              "      <td>0</td>\n",
              "      <td>0</td>\n",
              "      <td>30.0000</td>\n",
              "      <td>C</td>\n",
              "      <td>Mr</td>\n",
              "    </tr>\n",
              "    <tr>\n",
              "      <th>890</th>\n",
              "      <td>0</td>\n",
              "      <td>3</td>\n",
              "      <td>male</td>\n",
              "      <td>32.0</td>\n",
              "      <td>0</td>\n",
              "      <td>0</td>\n",
              "      <td>7.7500</td>\n",
              "      <td>Q</td>\n",
              "      <td>Mr</td>\n",
              "    </tr>\n",
              "  </tbody>\n",
              "</table>\n",
              "<p>891 rows × 9 columns</p>\n",
              "</div>"
            ],
            "text/plain": [
              "     Survived  Pclass     Sex   Age  SibSp  Parch     Fare Embarked     Title\n",
              "0           0       3    male  22.0      1      0   7.2500        S        Mr\n",
              "1           1       1  female  38.0      1      0  71.2833        C       Mrs\n",
              "2           1       3  female  26.0      0      0   7.9250        S      Miss\n",
              "3           1       1  female  35.0      1      0  53.1000        S       Mrs\n",
              "4           0       3    male  35.0      0      0   8.0500        S        Mr\n",
              "..        ...     ...     ...   ...    ...    ...      ...      ...       ...\n",
              "886         0       2    male  27.0      0      0  13.0000        S  official\n",
              "887         1       1  female  19.0      0      0  30.0000        S      Miss\n",
              "888         0       3  female   NaN      1      2  23.4500        S      Miss\n",
              "889         1       1    male  26.0      0      0  30.0000        C        Mr\n",
              "890         0       3    male  32.0      0      0   7.7500        Q        Mr\n",
              "\n",
              "[891 rows x 9 columns]"
            ]
          },
          "execution_count": 8,
          "metadata": {},
          "output_type": "execute_result"
        }
      ],
      "source": [
        "df_train"
      ]
    },
    {
      "cell_type": "code",
      "execution_count": null,
      "metadata": {
        "id": "XoH9WqOWl4X9",
        "outputId": "b3450211-2b15-419d-a921-c8c8d51330bb"
      },
      "outputs": [
        {
          "data": {
            "text/html": [
              "<div>\n",
              "<style scoped>\n",
              "    .dataframe tbody tr th:only-of-type {\n",
              "        vertical-align: middle;\n",
              "    }\n",
              "\n",
              "    .dataframe tbody tr th {\n",
              "        vertical-align: top;\n",
              "    }\n",
              "\n",
              "    .dataframe thead th {\n",
              "        text-align: right;\n",
              "    }\n",
              "</style>\n",
              "<table border=\"1\" class=\"dataframe\">\n",
              "  <thead>\n",
              "    <tr style=\"text-align: right;\">\n",
              "      <th></th>\n",
              "      <th></th>\n",
              "      <th></th>\n",
              "      <th>Age</th>\n",
              "    </tr>\n",
              "    <tr>\n",
              "      <th>Sex</th>\n",
              "      <th>Title</th>\n",
              "      <th>Pclass</th>\n",
              "      <th></th>\n",
              "    </tr>\n",
              "  </thead>\n",
              "  <tbody>\n",
              "    <tr>\n",
              "      <th rowspan=\"8\" valign=\"top\">female</th>\n",
              "      <th rowspan=\"3\" valign=\"top\">Miss</th>\n",
              "      <th>1</th>\n",
              "      <td>30.0</td>\n",
              "    </tr>\n",
              "    <tr>\n",
              "      <th>2</th>\n",
              "      <td>24.0</td>\n",
              "    </tr>\n",
              "    <tr>\n",
              "      <th>3</th>\n",
              "      <td>18.0</td>\n",
              "    </tr>\n",
              "    <tr>\n",
              "      <th rowspan=\"3\" valign=\"top\">Mrs</th>\n",
              "      <th>1</th>\n",
              "      <td>40.0</td>\n",
              "    </tr>\n",
              "    <tr>\n",
              "      <th>2</th>\n",
              "      <td>31.5</td>\n",
              "    </tr>\n",
              "    <tr>\n",
              "      <th>3</th>\n",
              "      <td>31.0</td>\n",
              "    </tr>\n",
              "    <tr>\n",
              "      <th>Royalty</th>\n",
              "      <th>1</th>\n",
              "      <td>40.5</td>\n",
              "    </tr>\n",
              "    <tr>\n",
              "      <th>official</th>\n",
              "      <th>1</th>\n",
              "      <td>49.0</td>\n",
              "    </tr>\n",
              "    <tr>\n",
              "      <th rowspan=\"9\" valign=\"top\">male</th>\n",
              "      <th rowspan=\"3\" valign=\"top\">Master</th>\n",
              "      <th>1</th>\n",
              "      <td>4.0</td>\n",
              "    </tr>\n",
              "    <tr>\n",
              "      <th>2</th>\n",
              "      <td>1.0</td>\n",
              "    </tr>\n",
              "    <tr>\n",
              "      <th>3</th>\n",
              "      <td>4.0</td>\n",
              "    </tr>\n",
              "    <tr>\n",
              "      <th rowspan=\"3\" valign=\"top\">Mr</th>\n",
              "      <th>1</th>\n",
              "      <td>40.0</td>\n",
              "    </tr>\n",
              "    <tr>\n",
              "      <th>2</th>\n",
              "      <td>31.0</td>\n",
              "    </tr>\n",
              "    <tr>\n",
              "      <th>3</th>\n",
              "      <td>26.0</td>\n",
              "    </tr>\n",
              "    <tr>\n",
              "      <th>Royalty</th>\n",
              "      <th>1</th>\n",
              "      <td>43.5</td>\n",
              "    </tr>\n",
              "    <tr>\n",
              "      <th rowspan=\"2\" valign=\"top\">official</th>\n",
              "      <th>1</th>\n",
              "      <td>50.0</td>\n",
              "    </tr>\n",
              "    <tr>\n",
              "      <th>2</th>\n",
              "      <td>46.5</td>\n",
              "    </tr>\n",
              "  </tbody>\n",
              "</table>\n",
              "</div>"
            ],
            "text/plain": [
              "                         Age\n",
              "Sex    Title    Pclass      \n",
              "female Miss     1       30.0\n",
              "                2       24.0\n",
              "                3       18.0\n",
              "       Mrs      1       40.0\n",
              "                2       31.5\n",
              "                3       31.0\n",
              "       Royalty  1       40.5\n",
              "       official 1       49.0\n",
              "male   Master   1        4.0\n",
              "                2        1.0\n",
              "                3        4.0\n",
              "       Mr       1       40.0\n",
              "                2       31.0\n",
              "                3       26.0\n",
              "       Royalty  1       43.5\n",
              "       official 1       50.0\n",
              "                2       46.5"
            ]
          },
          "execution_count": 9,
          "metadata": {},
          "output_type": "execute_result"
        }
      ],
      "source": [
        "# Age填補missing values by group sex、title、pclass median\n",
        "age_median = df_train.pivot_table(values='Age', index=['Sex', 'Title', 'Pclass'], aggfunc='median')\n",
        "age_median"
      ]
    },
    {
      "cell_type": "code",
      "execution_count": null,
      "metadata": {
        "id": "0Z_EoMz0l4X9"
      },
      "outputs": [],
      "source": [
        "age_median = df_train.groupby(['Sex', 'Title', 'Pclass'])['Age'].transform('median')\n",
        "df_train['Age'] = df_train['Age'].fillna(age_median)"
      ]
    },
    {
      "cell_type": "code",
      "execution_count": null,
      "metadata": {
        "id": "n5pKAiMhl4X9"
      },
      "outputs": [],
      "source": [
        "# Sec轉數字\n",
        "df_train['Sex'] = df_train['Sex'].replace({'male': 0, 'female': 1})"
      ]
    },
    {
      "cell_type": "code",
      "execution_count": null,
      "metadata": {
        "id": "ScpzeszTl4X9"
      },
      "outputs": [],
      "source": [
        "# Embarked轉one-hot encode\n",
        "df_train = pd.get_dummies(df_train)"
      ]
    },
    {
      "cell_type": "code",
      "execution_count": null,
      "metadata": {
        "id": "mjgGVw9Xl4X-"
      },
      "outputs": [],
      "source": [
        "# Pclass轉one-hot encode\n",
        "Pclass_encode = pd.get_dummies(df_train['Pclass'], prefix = 'Pclass')\n",
        "df_train = df_train.drop(['Pclass'], axis=1)"
      ]
    },
    {
      "cell_type": "markdown",
      "metadata": {
        "id": "80ET2fCLl4X-"
      },
      "source": [
        "# Faimly handle"
      ]
    },
    {
      "cell_type": "code",
      "execution_count": null,
      "metadata": {
        "id": "i_rkNa7Cl4X-"
      },
      "outputs": [],
      "source": [
        "def plot_corr(dataframe, var, target, **kwargs):\n",
        "    row = kwargs.get('row', None)\n",
        "    col = kwargs.get('col', None)\n",
        "    facet = sns.FacetGrid(dataframe, hue = target, aspect=4, row = row, col = col)\n",
        "    facet.map(sns.kdeplot, var, shade= True)\n",
        "    facet.set(xlim=(0 , dataframe[var].max()))\n",
        "    facet.add_legend()\n",
        "    plt.show()\n",
        "\n",
        "# plot_corr(df_train, var = 'Familysize', target='Survived')\n",
        "\n",
        "# 處理家人\n",
        "def family_handle(dataframe):\n",
        "    dataframe['Familysize'] = dataframe['SibSp'] + dataframe['Parch'] + 1\n",
        "    dataframe['Singe'] = dataframe['Familysize'].map(lambda x:1 if x == 1 else 0)\n",
        "    dataframe['SmallFamily'] = dataframe['Familysize'].map(lambda x:1 if 2 <= x <= 4 else 0)\n",
        "    dataframe['LargeFamily'] = dataframe['Familysize'].map(lambda x:1 if 5 <= x else 0)\n",
        "\n",
        "    dataframe['Familysize_encode'] = dataframe['Familysize'].map(lambda x: 3 if 1 <= x <= 3 else (2 if 4 <= x <= 6 else 1))\n",
        "\n",
        "    return dataframe\n",
        "df_train = family_handle(df_train)"
      ]
    },
    {
      "cell_type": "markdown",
      "metadata": {
        "id": "LcRk8Ku0l4X-"
      },
      "source": [
        "# StandardScaler"
      ]
    },
    {
      "cell_type": "code",
      "execution_count": null,
      "metadata": {
        "id": "p0ezuTR0l4X-"
      },
      "outputs": [],
      "source": [
        "# 標準化 年齡、價錢\n",
        "from sklearn.preprocessing import StandardScaler\n",
        "sz = StandardScaler()\n",
        "df_train['Age'] = sz.fit_transform(df_train[['Age']])\n",
        "df_train['Fare'] = sz.fit_transform(df_train[['Fare']])\n",
        "df_train['Familysize_encode'] = sz.fit_transform(df_train[['Familysize_encode']])"
      ]
    },
    {
      "cell_type": "markdown",
      "metadata": {
        "id": "eF4P3_I6l4X-"
      },
      "source": [
        "# LogisticRegression"
      ]
    },
    {
      "cell_type": "code",
      "execution_count": null,
      "metadata": {
        "id": "k9q4Ik8ml4X_",
        "outputId": "22cb21db-823a-41fe-af49-fc9376262cba"
      },
      "outputs": [
        {
          "name": "stdout",
          "output_type": "stream",
          "text": [
            "[0.82681564 0.8258427  0.79213483 0.7752809  0.85955056]\n",
            "0.8159249262444291\n"
          ]
        }
      ],
      "source": [
        "df_train.drop(['SibSp', 'Parch', 'Singe', 'SmallFamily', 'LargeFamily', 'Familysize'], axis=1, inplace=True)\n",
        "\n",
        "train_X = df_train.iloc[:,1:]\n",
        "train_y = df_train['Survived']\n",
        "# 迴歸 & 交叉驗證\n",
        "log = LogisticRegression(random_state=0, max_iter=3000)\n",
        "scores = cross_val_score(log, train_X, train_y.values.ravel(),cv=5,scoring='accuracy')\n",
        "print(scores)\n",
        "print(scores.mean())"
      ]
    },
    {
      "cell_type": "markdown",
      "metadata": {
        "id": "W0rfdwt-l4X_"
      },
      "source": [
        "# 不同模型"
      ]
    },
    {
      "cell_type": "code",
      "execution_count": null,
      "metadata": {
        "id": "RvF8NiEGl4X_"
      },
      "outputs": [],
      "source": [
        "def score(model, x, y):\n",
        "    return cross_val_score(model,x ,y ,cv=5,scoring='accuracy').mean()"
      ]
    },
    {
      "cell_type": "code",
      "execution_count": null,
      "metadata": {
        "id": "HbSb6QzYl4X_"
      },
      "outputs": [],
      "source": [
        "from sklearn.linear_model import LogisticRegression, LogisticRegressionCV\n",
        "from sklearn.ensemble import RandomForestClassifier , GradientBoostingClassifier\n",
        "from sklearn.svm import SVC\n",
        "from sklearn.neighbors import KNeighborsClassifier\n",
        "from sklearn.tree import DecisionTreeClassifier\n",
        "from sklearn.naive_bayes import GaussianNB"
      ]
    },
    {
      "cell_type": "code",
      "execution_count": null,
      "metadata": {
        "id": "UzupOjdLl4X_"
      },
      "outputs": [],
      "source": [
        "log = LogisticRegression(random_state=0, max_iter=3000)\n",
        "logcv = LogisticRegressionCV(random_state=0, max_iter=3000)\n",
        "svc = SVC(random_state=0)\n",
        "decisiontree = DecisionTreeClassifier()\n",
        "knn = KNeighborsClassifier(n_neighbors = 3)\n",
        "gaussian = GaussianNB()\n",
        "rf = RandomForestClassifier(n_estimators=100)\n",
        "models = [log, logcv, svc, decisiontree, knn, gaussian, rf]"
      ]
    },
    {
      "cell_type": "code",
      "execution_count": null,
      "metadata": {
        "id": "muIWsRd4l4X_",
        "outputId": "d5ca6c29-286d-407a-c20d-104a84f8f755"
      },
      "outputs": [
        {
          "data": {
            "text/html": [
              "<div>\n",
              "<style scoped>\n",
              "    .dataframe tbody tr th:only-of-type {\n",
              "        vertical-align: middle;\n",
              "    }\n",
              "\n",
              "    .dataframe tbody tr th {\n",
              "        vertical-align: top;\n",
              "    }\n",
              "\n",
              "    .dataframe thead th {\n",
              "        text-align: right;\n",
              "    }\n",
              "</style>\n",
              "<table border=\"1\" class=\"dataframe\">\n",
              "  <thead>\n",
              "    <tr style=\"text-align: right;\">\n",
              "      <th></th>\n",
              "      <th>Model</th>\n",
              "      <th>Average Score</th>\n",
              "    </tr>\n",
              "  </thead>\n",
              "  <tbody>\n",
              "    <tr>\n",
              "      <th>2</th>\n",
              "      <td>SVC</td>\n",
              "      <td>0.820413</td>\n",
              "    </tr>\n",
              "    <tr>\n",
              "      <th>1</th>\n",
              "      <td>Logistic Regression CV</td>\n",
              "      <td>0.817049</td>\n",
              "    </tr>\n",
              "    <tr>\n",
              "      <th>0</th>\n",
              "      <td>Logistic Regression</td>\n",
              "      <td>0.815925</td>\n",
              "    </tr>\n",
              "    <tr>\n",
              "      <th>4</th>\n",
              "      <td>KNN</td>\n",
              "      <td>0.794614</td>\n",
              "    </tr>\n",
              "    <tr>\n",
              "      <th>6</th>\n",
              "      <td>Random Forest</td>\n",
              "      <td>0.786780</td>\n",
              "    </tr>\n",
              "    <tr>\n",
              "      <th>5</th>\n",
              "      <td>Gaussian Naive Bayes</td>\n",
              "      <td>0.780008</td>\n",
              "    </tr>\n",
              "    <tr>\n",
              "      <th>3</th>\n",
              "      <td>Decision Tree</td>\n",
              "      <td>0.776612</td>\n",
              "    </tr>\n",
              "  </tbody>\n",
              "</table>\n",
              "</div>"
            ],
            "text/plain": [
              "                    Model  Average Score\n",
              "2                     SVC       0.820413\n",
              "1  Logistic Regression CV       0.817049\n",
              "0     Logistic Regression       0.815925\n",
              "4                     KNN       0.794614\n",
              "6           Random Forest       0.786780\n",
              "5    Gaussian Naive Bayes       0.780008\n",
              "3           Decision Tree       0.776612"
            ]
          },
          "execution_count": 78,
          "metadata": {},
          "output_type": "execute_result"
        }
      ],
      "source": [
        "model_names = ['Logistic Regression', 'Logistic Regression CV', 'SVC', 'Decision Tree', 'KNN', 'Gaussian Naive Bayes', 'Random Forest']\n",
        "res = []\n",
        "\n",
        "for model, name in zip(models, model_names):\n",
        "    res.append({'Model': name, 'Average Score': score(model, train_X, train_y)})\n",
        "\n",
        "res = pd.DataFrame(res)\n",
        "res.sort_values('Average Score', ascending=False)"
      ]
    },
    {
      "cell_type": "code",
      "execution_count": null,
      "metadata": {
        "id": "x0aTdg1Rl4X_",
        "outputId": "3fb71289-a481-468f-ff5d-ad015e37ffaa"
      },
      "outputs": [
        {
          "name": "stdout",
          "output_type": "stream",
          "text": [
            "{'C': 1.5, 'gamma': 0.01, 'kernel': 'rbf', 'random_state': 0}\n",
            "0.8114242671520934\n"
          ]
        }
      ],
      "source": [
        "from sklearn.model_selection import GridSearchCV\n",
        "svc = SVC()\n",
        "Parameters =[{\n",
        "            'random_state':[0],\n",
        "            'C' : [1, 1.5, 2, 2.5, 3, 3.5, 4, 4.5, 5],\n",
        "            'gamma' : [0.01, 0.05, 0.1, 0.5, 1],\n",
        "            'kernel' : ['rbf']},\n",
        "            {\n",
        "            'C':[1,2,3,4,5,6,7,8,9,10],\n",
        "            'kernel':['linear']}]\n",
        "\n",
        "clf= GridSearchCV(svc, Parameters, cv = 5, n_jobs = 6)\n",
        "clf.fit(train_X, train_y)\n",
        "svc_opt = score(clf, train_X, train_y)\n",
        "print(clf.best_params_) # {'C': 5, 'gamma': 0.05, 'kernel': 'rbf'}\n",
        "print(svc_opt) # 0.8204004770573097"
      ]
    },
    {
      "cell_type": "code",
      "execution_count": null,
      "metadata": {
        "id": "diCpG7v5l4YA"
      },
      "outputs": [],
      "source": [
        "rf = RandomForestClassifier()\n",
        "Parameters ={\n",
        "            'max_depth' : [4, 6, 8],\n",
        "            'n_estimators': [100, 50, 10],\n",
        "            'max_features': ['sqrt', 'auto', 'log2'],\n",
        "            'min_samples_split': [2, 3, 10],\n",
        "            'min_samples_leaf': [1, 3, 10],\n",
        "            'bootstrap': [True, False]}\n",
        "rf = GridSearchCV(rf, Parameters,cv = 5)\n",
        "rf_opt = score(rf,train_X,train_y)\n",
        "# rf.fit(train_X, train_y)\n",
        "# rf.best_params_\n",
        "# '''\n",
        "# {'bootstrap': False,\n",
        "#  'max_depth': 6,\n",
        "#  'max_features': 'sqrt',\n",
        "#  'min_samples_leaf': 10,\n",
        "#  'min_samples_split': 3,\n",
        "#  'n_estimators': 10}\n",
        "# '''"
      ]
    },
    {
      "cell_type": "markdown",
      "metadata": {
        "id": "hbWHoI58l4YA"
      },
      "source": [
        "## 不同模型的結果"
      ]
    },
    {
      "cell_type": "code",
      "execution_count": null,
      "metadata": {
        "id": "-LoJHoUTl4YA",
        "outputId": "8c7dd24f-d92b-40e1-b93b-8fffc03b20b5"
      },
      "outputs": [
        {
          "data": {
            "text/html": [
              "<div>\n",
              "<style scoped>\n",
              "    .dataframe tbody tr th:only-of-type {\n",
              "        vertical-align: middle;\n",
              "    }\n",
              "\n",
              "    .dataframe tbody tr th {\n",
              "        vertical-align: top;\n",
              "    }\n",
              "\n",
              "    .dataframe thead th {\n",
              "        text-align: right;\n",
              "    }\n",
              "</style>\n",
              "<table border=\"1\" class=\"dataframe\">\n",
              "  <thead>\n",
              "    <tr style=\"text-align: right;\">\n",
              "      <th></th>\n",
              "      <th>Model</th>\n",
              "      <th>Average Score</th>\n",
              "    </tr>\n",
              "  </thead>\n",
              "  <tbody>\n",
              "    <tr>\n",
              "      <th>0</th>\n",
              "      <td>SVC</td>\n",
              "      <td>0.820413</td>\n",
              "    </tr>\n",
              "    <tr>\n",
              "      <th>1</th>\n",
              "      <td>Logistic Regression CV</td>\n",
              "      <td>0.817049</td>\n",
              "    </tr>\n",
              "    <tr>\n",
              "      <th>2</th>\n",
              "      <td>Logistic Regression</td>\n",
              "      <td>0.815925</td>\n",
              "    </tr>\n",
              "    <tr>\n",
              "      <th>3</th>\n",
              "      <td>SVC_opt</td>\n",
              "      <td>0.811424</td>\n",
              "    </tr>\n",
              "    <tr>\n",
              "      <th>4</th>\n",
              "      <td>Random Forest_opt</td>\n",
              "      <td>0.809183</td>\n",
              "    </tr>\n",
              "    <tr>\n",
              "      <th>5</th>\n",
              "      <td>KNN</td>\n",
              "      <td>0.794614</td>\n",
              "    </tr>\n",
              "    <tr>\n",
              "      <th>6</th>\n",
              "      <td>Random Forest</td>\n",
              "      <td>0.786780</td>\n",
              "    </tr>\n",
              "    <tr>\n",
              "      <th>7</th>\n",
              "      <td>Gaussian Naive Bayes</td>\n",
              "      <td>0.780008</td>\n",
              "    </tr>\n",
              "    <tr>\n",
              "      <th>8</th>\n",
              "      <td>Decision Tree</td>\n",
              "      <td>0.776612</td>\n",
              "    </tr>\n",
              "  </tbody>\n",
              "</table>\n",
              "</div>"
            ],
            "text/plain": [
              "                    Model  Average Score\n",
              "0                     SVC       0.820413\n",
              "1  Logistic Regression CV       0.817049\n",
              "2     Logistic Regression       0.815925\n",
              "3                 SVC_opt       0.811424\n",
              "4       Random Forest_opt       0.809183\n",
              "5                     KNN       0.794614\n",
              "6           Random Forest       0.786780\n",
              "7    Gaussian Naive Bayes       0.780008\n",
              "8           Decision Tree       0.776612"
            ]
          },
          "execution_count": 79,
          "metadata": {},
          "output_type": "execute_result"
        }
      ],
      "source": [
        "new_row = pd.DataFrame({'Model': ['SVC_opt', 'Random Forest_opt'], 'Average Score': [svc_opt, rf_opt]})\n",
        "res = pd.concat([res, new_row], axis=0)\n",
        "res.sort_values('Average Score', ignore_index = True, ascending=False)"
      ]
    },
    {
      "cell_type": "markdown",
      "metadata": {
        "id": "DiV8BLMyl4YA"
      },
      "source": [
        "# DL"
      ]
    },
    {
      "cell_type": "markdown",
      "metadata": {
        "id": "UD6BAmLkl4YA"
      },
      "source": [
        "## 分割train、test"
      ]
    },
    {
      "cell_type": "code",
      "execution_count": null,
      "metadata": {
        "id": "W633OwgVl4YA"
      },
      "outputs": [],
      "source": [
        "from sklearn.model_selection import train_test_split\n",
        "X_train, X_test, y_train, y_test = train_test_split(train_X, train_y, test_size = 0.2)"
      ]
    },
    {
      "cell_type": "markdown",
      "metadata": {
        "id": "NQs2si-Ll4YA"
      },
      "source": [
        "## tensorflow"
      ]
    },
    {
      "cell_type": "code",
      "execution_count": null,
      "metadata": {
        "id": "RPKf2omll4YA"
      },
      "outputs": [],
      "source": [
        "import tensorflow as tf\n",
        "y_train_onehot = tf.keras.utils.to_categorical(y_train, num_classes=2)\n",
        "y_test_onehot = tf.keras.utils.to_categorical(y_test, num_classes=2)"
      ]
    },
    {
      "cell_type": "markdown",
      "metadata": {
        "id": "Oiz8y9z_l4YB"
      },
      "source": [
        "## torch"
      ]
    },
    {
      "cell_type": "code",
      "execution_count": null,
      "metadata": {
        "id": "ZsTWnP9Ll4YB",
        "outputId": "1dc1beef-0b44-43b8-d638-c6045fc4f454"
      },
      "outputs": [
        {
          "name": "stderr",
          "output_type": "stream",
          "text": [
            "C:\\Users\\DAN\\AppData\\Local\\Temp\\ipykernel_23300\\1147465860.py:17: UserWarning: Implicit dimension choice for softmax has been deprecated. Change the call to include dim=X as an argument.\n",
            "  output = F.softmax(self.predict(output2))\n"
          ]
        },
        {
          "name": "stdout",
          "output_type": "stream",
          "text": [
            " ===== done =====\n",
            "[0.7025721669197083, 0.6882405877113342, 0.6769742369651794, 0.6677899360656738, 0.659960925579071, 0.652960479259491, 0.6464017629623413, 0.6399949193000793, 0.6335216164588928, 0.6268247365951538, 0.6198063492774963, 0.6124283671379089, 0.6047108173370361, 0.5967276692390442, 0.5885984301567078, 0.5804771184921265, 0.5725353360176086, 0.5649407505989075, 0.5578356385231018, 0.5513204336166382, 0.5454480051994324, 0.5402268171310425, 0.5356307625770569, 0.5316113829612732, 0.5281085968017578, 0.5250588059425354, 0.5224012136459351, 0.5200795531272888, 0.518044650554657, 0.5162537097930908, 0.5146706104278564, 0.5132645964622498, 0.512009859085083, 0.5108849406242371, 0.5098717212677002, 0.5089550018310547, 0.5081220269203186, 0.5073620080947876, 0.506665825843811, 0.5060256123542786, 0.5054348111152649, 0.5048876404762268, 0.504379391670227, 0.503905713558197, 0.5034630298614502, 0.5030480027198792, 0.5026581287384033, 0.5022907853126526, 0.5019438862800598, 0.5016154646873474, 0.5013040900230408, 0.5010080933570862, 0.5007262825965881, 0.5004574060440063, 0.5002005696296692, 0.4999547302722931, 0.4997190535068512, 0.4994928240776062, 0.4992753267288208, 0.49906617403030396, 0.4988645017147064, 0.4986700117588043, 0.49848222732543945, 0.49830079078674316, 0.4981251358985901, 0.4979551434516907, 0.4977903962135315, 0.49763065576553345, 0.4974755644798279, 0.49732503294944763, 0.49717870354652405, 0.4970364570617676, 0.4968980550765991, 0.4967633783817291, 0.49663227796554565, 0.49650445580482483, 0.49637988209724426, 0.4962584674358368, 0.4961400330066681, 0.4960244297981262, 0.49591168761253357, 0.49580147862434387, 0.4956938922405243, 0.4955888092517853, 0.4954860508441925, 0.49538567662239075, 0.4952874481678009, 0.4951915144920349, 0.4950975179672241, 0.49500560760498047, 0.4949156641960144, 0.494827538728714, 0.4947413206100464, 0.4946569800376892, 0.49457430839538574, 0.4944932162761688, 0.494413822889328, 0.49433597922325134, 0.4942597448825836, 0.49418503046035767]\n",
            "[0.7012825012207031, 0.689210832118988, 0.6798092126846313, 0.6721541881561279, 0.6655762791633606, 0.6595962643623352, 0.6538628935813904, 0.6481100916862488, 0.6421306133270264, 0.6357648372650146, 0.6288989782333374, 0.6214703321456909, 0.6134755611419678, 0.6049759387969971, 0.5960972905158997, 0.5870193243026733, 0.5779545307159424, 0.5691195130348206, 0.5607065558433533, 0.5528621077537537, 0.5456773638725281, 0.5391905307769775, 0.5333964824676514, 0.5282593369483948, 0.5237253904342651, 0.5197323560714722, 0.5162168741226196, 0.5131185054779053, 0.5103821754455566, 0.5079590082168579, 0.5058061480522156, 0.5038869380950928, 0.5021697282791138, 0.5006276369094849, 0.4992377460002899, 0.49798041582107544, 0.4968389570713043, 0.49579909443855286, 0.49484866857528687, 0.49397704005241394, 0.4931751787662506, 0.4924352765083313, 0.4917505383491516, 0.4911150336265564, 0.49052369594573975, 0.48997193574905396, 0.489455908536911, 0.48897215723991394, 0.4885175824165344, 0.4880894422531128, 0.4876854419708252, 0.48730340600013733, 0.48694145679473877, 0.48659804463386536, 0.48627153038978577, 0.4859605133533478, 0.4856639802455902, 0.48538076877593994, 0.4851098954677582, 0.4848504066467285, 0.4846016764640808, 0.48436281085014343, 0.4841333031654358, 0.4839123785495758, 0.4836996793746948, 0.4834946393966675, 0.48329678177833557, 0.48310571908950806, 0.48292097449302673, 0.48274239897727966, 0.4825693964958191, 0.48240187764167786, 0.4822395443916321, 0.4820820987224579, 0.4819292426109314, 0.48178091645240784, 0.4816368520259857, 0.4814967215061188, 0.4813604950904846, 0.4812280237674713, 0.48109912872314453, 0.48097357153892517, 0.4808513820171356, 0.4807322323322296, 0.4806162118911743, 0.4805031418800354, 0.48039284348487854, 0.48028531670570374, 0.48018041253089905, 0.4800780713558197, 0.47997817397117615, 0.4798806607723236, 0.47978559136390686, 0.47969260811805725, 0.4796018898487091, 0.4795133173465729, 0.4794268012046814, 0.47934234142303467, 0.47925975918769836, 0.47917911410331726]\n"
          ]
        }
      ],
      "source": [
        "import torch\n",
        "import torch.nn.functional as F\n",
        "from sklearn.model_selection import StratifiedKFold\n",
        "from sklearn.metrics import accuracy_score\n",
        "\n",
        "# 創建模型架構\n",
        "class Model(torch.nn.Module):\n",
        "    def __init__(self, input_size, hidden_size, output_size):\n",
        "        super(Model, self).__init__()\n",
        "        self.hidden1 = torch.nn.Linear(input_size, hidden_size)\n",
        "        self.hidden2 = torch.nn.Linear(hidden_size, hidden_size)\n",
        "        self.predict = torch.nn.Linear(hidden_size, output_size)\n",
        "        \n",
        "    def forward(self, x):\n",
        "        output1 = self.hidden1(x)\n",
        "        output2 = self.hidden2(output1)\n",
        "        output = F.softmax(self.predict(output2))\n",
        "        return output\n",
        "\n",
        "seed = 0\n",
        "np.random.seed(seed)\n",
        "torch.manual_seed(seed)\n",
        "\n",
        "\n",
        "# 模型、優化器初始化\n",
        "model = Model(X_train.shape[1], 32, 2)\n",
        "optimizer = torch.optim.SGD(model.parameters(), lr=0.01, momentum=0.0) # 模型參數優化器\n",
        "loss_func = torch.nn.CrossEntropyLoss()\n",
        "\n",
        "# 轉單一格式\n",
        "X_train_float = X_train.values.astype(np.float32)\n",
        "X_test_float = X_test.values.astype(np.float32)\n",
        "\n",
        "# 資料格式轉成torch專用格式\n",
        "x_data = torch.tensor(X_train_float)\n",
        "y_data = torch.tensor(y_train_onehot)\n",
        "x_test_data = torch.tensor(X_test_float)\n",
        "y_test_data = torch.tensor(y_test_onehot)\n",
        "\n",
        "batch_size = 16\n",
        "num_epochs = 100\n",
        "num_batches = len(X_train) // batch_size\n",
        "loss_list = []\n",
        "test_loss_list = []\n",
        "\n",
        "for epoch in range(num_epochs):\n",
        "    for i in range(num_batches):\n",
        "        start = i * batch_size\n",
        "        end = start + batch_size\n",
        "        prediction = model(x_data[start:end])\n",
        "        loss = loss_func(prediction, y_data[start:end])\n",
        "\n",
        "        optimizer.zero_grad()\n",
        "        loss.backward()\n",
        "        optimizer.step()\n",
        "\n",
        "    loss = loss_func(model(x_data), y_data)\n",
        "    loss_list.append(loss.item())\n",
        "\n",
        "    test_loss = loss_func(model(x_test_data), y_test_data)\n",
        "    test_loss_list.append(test_loss.item())\n",
        "\n",
        "    # print(loss)\n",
        "\n",
        "print(' ===== done =====')\n",
        "\n",
        "print(loss_list)\n",
        "print(test_loss_list)"
      ]
    },
    {
      "cell_type": "code",
      "execution_count": null,
      "metadata": {
        "id": "hqt-5DW7l4YB",
        "outputId": "5f074ec4-c25c-4a6b-d7eb-25748ca640f7"
      },
      "outputs": [
        {
          "data": {
            "text/plain": [
              "Text(0, 0.5, 'BCE Loss')"
            ]
          },
          "execution_count": 69,
          "metadata": {},
          "output_type": "execute_result"
        },
        {
          "data": {
            "image/png": "[encoded data removed]",
            "text/plain": [
              "<Figure size 640x480 with 1 Axes>"
            ]
          },
          "metadata": {},
          "output_type": "display_data"
        }
      ],
      "source": [
        "import matplotlib.pyplot as plt\n",
        "plt.plot(loss_list, linewidth=3)\n",
        "plt.plot(test_loss_list, linewidth=3)\n",
        "plt.legend((\"Training Loss\", \"Validation Loss\"))\n",
        "plt.xlabel(\"Epoch\")\n",
        "plt.ylabel(\"BCE Loss\")"
      ]
    },
    {
      "cell_type": "code",
      "execution_count": null,
      "metadata": {
        "id": "Ae2euNAPl4YB",
        "outputId": "e172d8f7-6478-4059-e336-3076054f4e93"
      },
      "outputs": [
        {
          "name": "stderr",
          "output_type": "stream",
          "text": [
            "C:\\Users\\DAN\\AppData\\Local\\Temp\\ipykernel_23300\\1147465860.py:17: UserWarning: Implicit dimension choice for softmax has been deprecated. Change the call to include dim=X as an argument.\n",
            "  output = F.softmax(self.predict(output2))\n"
          ]
        },
        {
          "data": {
            "text/plain": [
              "0.8379888268156425"
            ]
          },
          "execution_count": 70,
          "metadata": {},
          "output_type": "execute_result"
        }
      ],
      "source": [
        "x_test_data = torch.tensor(X_test_float)\n",
        "y_pred = model(x_test_data)\n",
        "y_pred = y_pred.argmax(1) # one hot array to int array\n",
        "pytorch_method = accuracy_score(y_test, y_pred.detach().numpy()) # accuracy\n",
        "pytorch_method"
      ]
    },
    {
      "cell_type": "code",
      "execution_count": null,
      "metadata": {
        "id": "GR3Yp9L1l4YC",
        "outputId": "a4709161-805e-40da-cf0b-d2649102c967"
      },
      "outputs": [
        {
          "data": {
            "text/html": [
              "<div>\n",
              "<style scoped>\n",
              "    .dataframe tbody tr th:only-of-type {\n",
              "        vertical-align: middle;\n",
              "    }\n",
              "\n",
              "    .dataframe tbody tr th {\n",
              "        vertical-align: top;\n",
              "    }\n",
              "\n",
              "    .dataframe thead th {\n",
              "        text-align: right;\n",
              "    }\n",
              "</style>\n",
              "<table border=\"1\" class=\"dataframe\">\n",
              "  <thead>\n",
              "    <tr style=\"text-align: right;\">\n",
              "      <th></th>\n",
              "      <th>Model</th>\n",
              "      <th>Average Score</th>\n",
              "    </tr>\n",
              "  </thead>\n",
              "  <tbody>\n",
              "    <tr>\n",
              "      <th>0</th>\n",
              "      <td>Pytorch</td>\n",
              "      <td>0.837989</td>\n",
              "    </tr>\n",
              "    <tr>\n",
              "      <th>1</th>\n",
              "      <td>SVC</td>\n",
              "      <td>0.820413</td>\n",
              "    </tr>\n",
              "    <tr>\n",
              "      <th>2</th>\n",
              "      <td>Logistic Regression CV</td>\n",
              "      <td>0.817049</td>\n",
              "    </tr>\n",
              "    <tr>\n",
              "      <th>3</th>\n",
              "      <td>Logistic Regression</td>\n",
              "      <td>0.815925</td>\n",
              "    </tr>\n",
              "    <tr>\n",
              "      <th>4</th>\n",
              "      <td>SVC_opt</td>\n",
              "      <td>0.811424</td>\n",
              "    </tr>\n",
              "    <tr>\n",
              "      <th>5</th>\n",
              "      <td>Random Forest_opt</td>\n",
              "      <td>0.809183</td>\n",
              "    </tr>\n",
              "    <tr>\n",
              "      <th>6</th>\n",
              "      <td>KNN</td>\n",
              "      <td>0.794614</td>\n",
              "    </tr>\n",
              "    <tr>\n",
              "      <th>7</th>\n",
              "      <td>Random Forest</td>\n",
              "      <td>0.786780</td>\n",
              "    </tr>\n",
              "    <tr>\n",
              "      <th>8</th>\n",
              "      <td>Gaussian Naive Bayes</td>\n",
              "      <td>0.780008</td>\n",
              "    </tr>\n",
              "    <tr>\n",
              "      <th>9</th>\n",
              "      <td>Decision Tree</td>\n",
              "      <td>0.776612</td>\n",
              "    </tr>\n",
              "  </tbody>\n",
              "</table>\n",
              "</div>"
            ],
            "text/plain": [
              "                    Model  Average Score\n",
              "0                 Pytorch       0.837989\n",
              "1                     SVC       0.820413\n",
              "2  Logistic Regression CV       0.817049\n",
              "3     Logistic Regression       0.815925\n",
              "4                 SVC_opt       0.811424\n",
              "5       Random Forest_opt       0.809183\n",
              "6                     KNN       0.794614\n",
              "7           Random Forest       0.786780\n",
              "8    Gaussian Naive Bayes       0.780008\n",
              "9           Decision Tree       0.776612"
            ]
          },
          "execution_count": 80,
          "metadata": {},
          "output_type": "execute_result"
        }
      ],
      "source": [
        "new_row = pd.DataFrame({'Model': ['Pytorch'], 'Average Score': [pytorch_method]})\n",
        "res = pd.concat([res, new_row], axis=0)\n",
        "res.sort_values('Average Score', ignore_index = True, ascending=False)"
      ]
    }
  ],
  "metadata": {
    "kernelspec": {
      "display_name": "Python 3",
      "language": "python",
      "name": "python3"
    },
    "language_info": {
      "codemirror_mode": {
        "name": "ipython",
        "version": 3
      },
      "file_extension": ".py",
      "mimetype": "text/x-python",
      "name": "python",
      "nbconvert_exporter": "python",
      "pygments_lexer": "ipython3",
      "version": "3.11.2"
    },
    "orig_nbformat": 4,
    "colab": {
      "provenance": [],
      "include_colab_link": true
    }
  },
  "nbformat": 4,
  "nbformat_minor": 0
}