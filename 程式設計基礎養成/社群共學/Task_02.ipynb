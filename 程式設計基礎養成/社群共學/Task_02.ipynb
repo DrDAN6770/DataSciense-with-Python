{
  "nbformat": 4,
  "nbformat_minor": 0,
  "metadata": {
    "colab": {
      "provenance": [],
      "toc_visible": true,
      "authorship_tag": "ABX9TyOIyo2lm8XmDqkjFPM3lkwl",
      "include_colab_link": true
    },
    "kernelspec": {
      "name": "python3",
      "display_name": "Python 3"
    },
    "language_info": {
      "name": "python"
    }
  },
  "cells": [
    {
      "cell_type": "markdown",
      "metadata": {
        "id": "view-in-github",
        "colab_type": "text"
      },
      "source": [
        "<a href=\"https://colab.research.google.com/github/DrDAN6770/DataSciense-with-Python/blob/Python-%E7%A8%8B%E5%BC%8F%E8%A8%AD%E8%A8%88%E5%9F%BA%E7%A4%8E%E9%A4%8A%E6%88%90_%E5%AF%A6%E6%88%B0-%E7%A4%BE%E7%BE%A4%E5%85%B1%E5%AD%B8/Task_02.ipynb\" target=\"_parent\"><img src=\"https://colab.research.google.com/assets/colab-badge.svg\" alt=\"Open In Colab\"/></a>"
      ]
    },
    {
      "cell_type": "markdown",
      "source": [
        "# 1.複雜的字串取代"
      ],
      "metadata": {
        "id": "aXMheFUp9_4G"
      }
    },
    {
      "cell_type": "markdown",
      "source": [
        "Requirements:\n",
        "\n",
        "1. 讓使用者輸入一個字串 s\n",
        "\n",
        "2. 利用程式將字串中出現的 not … at all 取代成 good 後輸出（Note: 可以假設字串中最多只會出現一次 not ... at all）"
      ],
      "metadata": {
        "id": "us7I5eJ29xkg"
      }
    },
    {
      "cell_type": "code",
      "execution_count": null,
      "metadata": {
        "id": "gPJKuVap9ej1"
      },
      "outputs": [],
      "source": [
        "#s = input() # This company is not poor at all."
      ]
    },
    {
      "cell_type": "code",
      "source": [
        "#method 1\n",
        "s = 'This company is not poor at all.'\n",
        "s_remove1 = 'not'\n",
        "s_remove2 = 'at all'\n",
        "if s_remove1 in s and s_remove2 in s:\n",
        "    d = s[:s.find(s_remove1)] + 'good' + s[s.find(s_remove2)+6:len(s)]\n",
        "\n",
        "print(d) # This company is good."
      ],
      "metadata": {
        "colab": {
          "base_uri": "https://localhost:8080/"
        },
        "id": "mBZUhh_y99Yo",
        "outputId": "6d2d1e50-71f0-4c10-c3de-7e4ac3682ad9"
      },
      "execution_count": null,
      "outputs": [
        {
          "output_type": "stream",
          "name": "stdout",
          "text": [
            "This company is good.\n"
          ]
        }
      ]
    },
    {
      "cell_type": "code",
      "source": [
        "#method 2\n",
        "Ls = s.split('not')\n",
        "d = Ls[0] + 'good' + Ls[1].split(\"at all\")[-1]\n",
        "print(d) # This company is good."
      ],
      "metadata": {
        "colab": {
          "base_uri": "https://localhost:8080/"
        },
        "id": "yYMLi74s-WtQ",
        "outputId": "f24d4225-5fb0-467f-ac54-bc75a08b249e"
      },
      "execution_count": null,
      "outputs": [
        {
          "output_type": "stream",
          "name": "stdout",
          "text": [
            "This company is good.\n"
          ]
        }
      ]
    },
    {
      "cell_type": "code",
      "source": [
        "#method 3\n",
        "Ls = s[:-1].split()\n",
        "del Ls[Ls.index('not'):Ls.index('all')+1]   # del str[start:end] end不包含本身\n",
        "d = \" \".join(Ls) +' good'+ s[-1]\n",
        "print(d) # This company is good."
      ],
      "metadata": {
        "colab": {
          "base_uri": "https://localhost:8080/"
        },
        "id": "9YLHIt3H-aBW",
        "outputId": "8fa734c7-9594-4f7b-c8d5-797680de8dcb"
      },
      "execution_count": null,
      "outputs": [
        {
          "output_type": "stream",
          "name": "stdout",
          "text": [
            "This company is good.\n"
          ]
        }
      ]
    },
    {
      "cell_type": "markdown",
      "source": [
        "# 2.字典元素合併"
      ],
      "metadata": {
        "id": "y2RB2Fvq-Ni2"
      }
    },
    {
      "cell_type": "markdown",
      "source": [
        "Requirements：\n",
        "\n",
        "1. 利用程式將多個字典內的元素合併成一個新的字典\n",
        "\n",
        "2. 合併過程中請勿直接使用「|」運算"
      ],
      "metadata": {
        "id": "qKVEnCpJ-fU6"
      }
    },
    {
      "cell_type": "code",
      "source": [
        "#method 1\n",
        "dic1 = {1:10, 2:20}\n",
        "dic2 = {3:30, 4:40}\n",
        "dic3 = {5:50, 6:60}\n",
        "\n",
        "d = {} # or d = dict()\n",
        "for i in [dic1,dic2,dic3]:\n",
        "    d.update(i)\n",
        "print(d) #{1: 10, 2: 20, 3: 30, 4: 40, 5: 50, 6: 60}"
      ],
      "metadata": {
        "colab": {
          "base_uri": "https://localhost:8080/"
        },
        "id": "L-7uwyV0-g6v",
        "outputId": "dfb7c3b1-8e55-4ddd-8fb8-a9a39bab98a7"
      },
      "execution_count": null,
      "outputs": [
        {
          "output_type": "stream",
          "name": "stdout",
          "text": [
            "{1: 10, 2: 20, 3: 30, 4: 40, 5: 50, 6: 60}\n"
          ]
        }
      ]
    },
    {
      "cell_type": "code",
      "source": [
        "#method 1.1\n",
        "D = {}\n",
        "for i in range(3):\n",
        "    D.update(globals()[f'dic{i+1}'])    #globals()[xxx]\n",
        "print(D) #{1: 10, 2: 20, 3: 30, 4: 40, 5: 50, 6: 60}"
      ],
      "metadata": {
        "id": "YAQaYXl7-lFM",
        "outputId": "de337bd3-77f7-4088-83e3-5d2336791d00",
        "colab": {
          "base_uri": "https://localhost:8080/"
        }
      },
      "execution_count": null,
      "outputs": [
        {
          "output_type": "stream",
          "name": "stdout",
          "text": [
            "{1: 10, 2: 20, 3: 30, 4: 40, 5: 50, 6: 60}\n"
          ]
        }
      ]
    },
    {
      "cell_type": "code",
      "source": [
        "#method 2\n",
        "d = {}\n",
        "d = {**dic1, **dic2, **dic3}    # **字典展開符號\n",
        "print(d) #{1: 10, 2: 20, 3: 30, 4: 40, 5: 50, 6: 60}"
      ],
      "metadata": {
        "id": "kFEAGJxD-o3Y",
        "outputId": "4218f38f-5a76-4e8e-dea9-71424746bef3",
        "colab": {
          "base_uri": "https://localhost:8080/"
        }
      },
      "execution_count": null,
      "outputs": [
        {
          "output_type": "stream",
          "name": "stdout",
          "text": [
            "{1: 10, 2: 20, 3: 30, 4: 40, 5: 50, 6: 60}\n"
          ]
        }
      ]
    },
    {
      "cell_type": "code",
      "source": [
        "#method 3\n",
        "D = {}\n",
        "D = dic1|dic2|dic3\n",
        "print(D) #{1: 10, 2: 20, 3: 30, 4: 40, 5: 50, 6: 60}"
      ],
      "metadata": {
        "id": "83F9IgJW-qhq",
        "outputId": "346ff892-c95a-4c2e-827c-dde54bfe0624",
        "colab": {
          "base_uri": "https://localhost:8080/"
        }
      },
      "execution_count": null,
      "outputs": [
        {
          "output_type": "stream",
          "name": "stdout",
          "text": [
            "{1: 10, 2: 20, 3: 30, 4: 40, 5: 50, 6: 60}\n"
          ]
        }
      ]
    }
  ]
}
